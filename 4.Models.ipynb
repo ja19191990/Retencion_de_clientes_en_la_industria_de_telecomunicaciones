{
 "cells": [
  {
   "cell_type": "markdown",
   "metadata": {},
   "source": [
    "## Importar"
   ]
  },
  {
   "cell_type": "code",
   "execution_count": 1,
   "metadata": {},
   "outputs": [
    {
     "name": "stderr",
     "output_type": "stream",
     "text": [
      "c:\\Users\\juano\\anaconda3\\envs\\EnsamblesCatBoost\\Lib\\site-packages\\tqdm\\auto.py:21: TqdmWarning: IProgress not found. Please update jupyter and ipywidgets. See https://ipywidgets.readthedocs.io/en/stable/user_install.html\n",
      "  from .autonotebook import tqdm as notebook_tqdm\n"
     ]
    }
   ],
   "source": [
    "import numpy as np\n",
    "import pandas as pd\n",
    "import os \n",
    "import sys\n",
    "import matplotlib.pyplot as plt\n",
    "\n",
    "from sklearn.linear_model import LogisticRegression\n",
    "from sklearn.ensemble import RandomForestClassifier\n",
    "from sklearn.metrics import roc_curve\n",
    "from sklearn.metrics import roc_auc_score\n",
    "\n",
    "from sklearn.model_selection import GridSearchCV\n",
    "import optuna\n",
    "import optuna.visualization as vis\n",
    "from catboost import CatBoostClassifier\n",
    "\n",
    "from Classes.dataframe_manager import DataFrameManager\n",
    "\n",
    "from sklearn.model_selection import cross_val_score\n",
    "from sklearn.model_selection import cross_val_predict, StratifiedKFold\n",
    "import time\n",
    "from sklearn.model_selection import RandomizedSearchCV\n",
    "from sklearn.metrics import accuracy_score"
   ]
  },
  {
   "cell_type": "markdown",
   "metadata": {},
   "source": [
    "## Leer datos"
   ]
  },
  {
   "cell_type": "code",
   "execution_count": 2,
   "metadata": {},
   "outputs": [],
   "source": [
    "# Asegurar que el directorio del proyecto esté en sys.path\n",
    "project_root = os.getcwd()\n",
    "if project_root not in sys.path:\n",
    "    sys.path.append(project_root)"
   ]
  },
  {
   "cell_type": "code",
   "execution_count": 3,
   "metadata": {},
   "outputs": [
    {
     "name": "stdout",
     "output_type": "stream",
     "text": [
      "DataFrame 'features_upsampled' cargado exitosamente en el administrador.\n",
      "DataFrame 'features_valid' cargado exitosamente en el administrador.\n",
      "DataFrame 'features_upsampled_ord' cargado exitosamente en el administrador.\n",
      "DataFrame 'features_valid_ord' cargado exitosamente en el administrador.\n",
      "DataFrame 'target_upsampled' cargado exitosamente en el administrador.\n",
      "DataFrame 'target_valid' cargado exitosamente en el administrador.\n",
      "DataFrame 'target_upsampled_ord' cargado exitosamente en el administrador.\n",
      "DataFrame 'target_valid_ord' cargado exitosamente en el administrador.\n"
     ]
    }
   ],
   "source": [
    "# Carga de dataframes utilizando la clase DataFrameManager\n",
    "manager = DataFrameManager()\n",
    "manager.load_multiple([\n",
    "    'features_upsampled',\n",
    "    'features_valid',\n",
    "    'features_upsampled_ord',\n",
    "    'features_valid_ord',\n",
    "    'target_upsampled',\n",
    "    'target_valid',\n",
    "    'target_upsampled_ord',\n",
    "    'target_valid_ord'\n",
    "])"
   ]
  },
  {
   "cell_type": "code",
   "execution_count": 4,
   "metadata": {},
   "outputs": [],
   "source": [
    "# Asignar cada dataframe a una variable con su nombre para utilizarla en el notebook\n",
    "\n",
    "features_upsampled = manager.get_dataframe('features_upsampled')\n",
    "features_valid = manager.get_dataframe('features_valid')\n",
    "features_upsampled_ord = manager.get_dataframe('features_upsampled_ord')\n",
    "features_valid_ord = manager.get_dataframe('features_valid_ord')\n",
    "target_upsampled = manager.get_dataframe('target_upsampled')\n",
    "target_valid = manager.get_dataframe('target_valid')\n",
    "target_upsampled_ord = manager.get_dataframe('target_upsampled_ord')\n",
    "target_valid_ord = manager.get_dataframe('target_valid_ord')"
   ]
  },
  {
   "cell_type": "markdown",
   "metadata": {},
   "source": [
    "## Creación de modelos"
   ]
  },
  {
   "cell_type": "markdown",
   "metadata": {},
   "source": [
    "### Regresión logística"
   ]
  },
  {
   "cell_type": "markdown",
   "metadata": {},
   "source": [
    "#### Busqueda en cuadrícula de hiperparámetros"
   ]
  },
  {
   "cell_type": "code",
   "execution_count": 5,
   "metadata": {},
   "outputs": [],
   "source": [
    "# Definir los valores de cuadrícula de los hiperparámetros\n",
    "dual = [True, False]\n",
    "max_iter = [10000, 15000, 20000, 25000, 30000]\n",
    "param_grid = dict(dual=dual, max_iter=max_iter)"
   ]
  },
  {
   "cell_type": "code",
   "execution_count": 6,
   "metadata": {},
   "outputs": [],
   "source": [
    "# Crear modelo\n",
    "model_lr = LogisticRegression(penalty='l2', \n",
    "                              solver='liblinear',\n",
    "                              random_state=12345)\n",
    "\n",
    "# Crear cuadrícula\n",
    "grid = GridSearchCV(estimator=model_lr, \n",
    "                    param_grid=param_grid,\n",
    "                    cv=5)"
   ]
  },
  {
   "cell_type": "code",
   "execution_count": 7,
   "metadata": {},
   "outputs": [
    {
     "name": "stdout",
     "output_type": "stream",
     "text": [
      "El AUC-ROC score al usando el conjunto de validación es: 0.8614772727272728\n",
      "El accuracy score usando el conjunto de validación es: 0.7443298969072165\n",
      "El AUC-ROC score al usando el conjunto de entrenamiento es: 0.8678267154676591\n",
      "El accuracy score usando el conjunto de entrenamiento es: 0.78538044494298\n",
      "Tiempo de ejecución:1.3084397315979004s\n"
     ]
    }
   ],
   "source": [
    "# Convierte a 1D si era 2D\n",
    "target_upsampled = target_upsampled.squeeze()\n",
    "\n",
    "# Entrenar modelo\n",
    "start_time = time.time()\n",
    "grid_result = grid.fit(features_upsampled, target_upsampled)\n",
    "\n",
    "# Predicciones en el conjunto de entrenamiento\n",
    "probabilities_train_grid = grid_result.predict_proba(features_upsampled)[:, 1]\n",
    "pred_train_grid = grid_result.predict(features_upsampled)\n",
    "\n",
    "# Predicciones en el conjunto de validación\n",
    "probabilities_valid_grid = grid_result.predict_proba(features_valid)[:, 1]\n",
    "pred_valid_grid = grid_result.predict(features_valid)\n",
    "\n",
    "# Evaluación en el conjunto de entrenamiento\n",
    "auc_roc_lr_grid_tarin = roc_auc_score(target_upsampled, probabilities_train_grid)\n",
    "acc_score_lr_grid_train = accuracy_score(target_upsampled, pred_train_grid)\n",
    "\n",
    "# Evaluación en el conjunto de validación\n",
    "fpr_grid, tpr_grid, thresholds_grid = roc_curve(target_valid, probabilities_valid_grid)\n",
    "auc_roc_lr_grid = roc_auc_score(target_valid, probabilities_valid_grid)\n",
    "acc_score_lr_grid = accuracy_score(target_valid, pred_valid_grid)\n",
    "\n",
    "print('El AUC-ROC score al usando el conjunto de validación es:', auc_roc_lr_grid)\n",
    "print('El accuracy score usando el conjunto de validación es:', acc_score_lr_grid)\n",
    "print('El AUC-ROC score al usando el conjunto de entrenamiento es:', auc_roc_lr_grid_tarin)\n",
    "print('El accuracy score usando el conjunto de entrenamiento es:', acc_score_lr_grid_train)\n",
    "print('Tiempo de ejecución:' + str((time.time() - start_time)) + 's')"
   ]
  },
  {
   "cell_type": "markdown",
   "metadata": {},
   "source": [
    "#### Busqueda aleatorio de hiperparámetros"
   ]
  },
  {
   "cell_type": "code",
   "execution_count": 8,
   "metadata": {},
   "outputs": [
    {
     "name": "stdout",
     "output_type": "stream",
     "text": [
      "El AUC-ROC score al usando el conjunto de validación es: 0.8614772727272728\n",
      "El accuracy score usando el conjunto de validación es: 0.7443298969072165\n",
      "El AUC-ROC score al usando el conjunto de entrenamiento es: 0.8678267154676591\n",
      "El accuracy score usando el conjunto de entrenamiento es: 0.78538044494298\n",
      "Tiempo de ejecución:1.2783074378967285s\n"
     ]
    }
   ],
   "source": [
    "model_lr_random = RandomizedSearchCV(estimator=model_lr, param_distributions=param_grid, cv=5)\n",
    "# Convierte a 1D si era 2D\n",
    "target_upsampled = target_upsampled.squeeze()\n",
    "\n",
    "# Entrenar modelo\n",
    "start_time = time.time()\n",
    "grid_result_rdm = grid.fit(features_upsampled, target_upsampled)\n",
    "\n",
    "# Predicciones en el conjunto de entrenamiento\n",
    "probabilities_train_rdm = grid_result_rdm.predict_proba(features_upsampled)[:, 1]\n",
    "pred_train_rdm = grid_result_rdm.predict(features_upsampled)\n",
    "\n",
    "# Predicciones en el conjunto de validación\n",
    "probabilities_valid_rdm = grid_result_rdm.predict_proba(features_valid)[:, 1]\n",
    "pred_valid_rdm = grid_result_rdm.predict(features_valid)\n",
    "\n",
    "# Evaluación sobre el conjunto de entrenamiento\n",
    "auc_roc_train_rdm = roc_auc_score(target_upsampled, probabilities_train_rdm)\n",
    "acc_score_train_rdm = accuracy_score(target_upsampled, pred_train_rdm)\n",
    "\n",
    "# Evaluación sobre el conjunto de validación\n",
    "fpr_rdm, tpr_rdm, thresholds_rdm = roc_curve(\n",
    "    target_valid, probabilities_valid_rdm)\n",
    "auc_roc_valid_rdm = roc_auc_score(target_valid, probabilities_valid_rdm)\n",
    "acc_score_valid_rdm = accuracy_score(target_valid, pred_valid_rdm)\n",
    "\n",
    "print('El AUC-ROC score al usando el conjunto de validación es:', auc_roc_valid_rdm)\n",
    "print('El accuracy score usando el conjunto de validación es:', acc_score_valid_rdm)\n",
    "print('El AUC-ROC score al usando el conjunto de entrenamiento es:', auc_roc_train_rdm)\n",
    "print('El accuracy score usando el conjunto de entrenamiento es:', acc_score_train_rdm)\n",
    "print('Tiempo de ejecución:' + str((time.time() - start_time)) + 's')"
   ]
  },
  {
   "cell_type": "markdown",
   "metadata": {},
   "source": [
    "#### Gráfico comparativo"
   ]
  },
  {
   "cell_type": "code",
   "execution_count": 9,
   "metadata": {},
   "outputs": [
    {
     "data": {
      "image/png": "[encoded data removed]",
      "text/plain": [
       "<Figure size 1000x400 with 2 Axes>"
      ]
     },
     "metadata": {},
     "output_type": "display_data"
    }
   ],
   "source": [
    "# Crear una figura con una fila y dos columnas\n",
    "fig, axes = plt.subplots(1, 2, figsize=(10, 4))\n",
    "\n",
    "# Gráfico 1: Busqueda en rejilla\n",
    "axes[0].plot(fpr_grid, tpr_grid,   \n",
    "            label=f'Modelo (AUC-ROC: {auc_roc_lr_grid:.4f})')\n",
    "axes[0].plot([0, 1], [0, 1], linestyle='--', label='Modelo aleatorio')\n",
    "axes[0].set_xlim([0.0, 1.0])\n",
    "axes[0].set_ylim([0.0, 1.0])\n",
    "axes[0].set_xlabel('Tasa de falsos positivos')\n",
    "axes[0].set_ylabel('Tasa de verdaderos positivos')\n",
    "axes[0].set_title('Busqueda en cuadrícula y con validación cruzada')\n",
    "axes[0].legend()\n",
    "\n",
    "# Gráfico 2: Busqueda aleatoria\n",
    "axes[1].plot(fpr_rdm, tpr_rdm, \n",
    "             label=f'Modelo (AUC-ROC: {auc_roc_valid_rdm:.4f})')\n",
    "axes[1].plot([0, 1], [0, 1], linestyle='--', label='Modelo aleatorio')\n",
    "axes[1].set_xlim([0.0, 1.0])\n",
    "axes[1].set_ylim([0.0, 1.0])\n",
    "axes[1].set_xlabel('Tasa de falsos positivos')\n",
    "axes[1].set_ylabel('Tasa de verdaderos positivos')\n",
    "axes[1].set_title('Busqueda aleatoria y con validación cruzada')\n",
    "axes[1].legend()\n",
    "\n",
    "# Ajustar espacio entre subgráficos\n",
    "plt.tight_layout()\n",
    "\n",
    "# Mostrar el gráfico\n",
    "plt.show()"
   ]
  },
  {
   "cell_type": "markdown",
   "metadata": {},
   "source": [
    "El AUC-ROC es el mismo tanto en la busqueda en rejilla como en la aleatoria, sin embargo, la optimización de hiperparámetros en cuadrícula permite llegar al mismo resultado ligeramente antes."
   ]
  },
  {
   "cell_type": "markdown",
   "metadata": {},
   "source": [
    "### Bosque aleatorio de clasificación"
   ]
  },
  {
   "cell_type": "markdown",
   "metadata": {},
   "source": [
    "#### Optimización de hiperparámetros"
   ]
  },
  {
   "cell_type": "markdown",
   "metadata": {},
   "source": [
    "##### Sin validación cruzada"
   ]
  },
  {
   "cell_type": "code",
   "execution_count": 10,
   "metadata": {},
   "outputs": [
    {
     "name": "stdout",
     "output_type": "stream",
     "text": [
      "El AUC-ROC score usando el conjunto de entrenamiento sin CV es: 1.0\n",
      "El accuracy score usando el conjunto de entrenamiento sin CV es: 1.0\n",
      "Tiempo de ejecución:0.5254688262939453s\n"
     ]
    }
   ],
   "source": [
    "# Creación del modelo de Bosque Aleatorio simple\n",
    "rfc = RandomForestClassifier(random_state=12345)\n",
    "target_upsampled_ord = target_upsampled_ord.squeeze()  # Convertir de 2D a 1D\n",
    "\n",
    "start_time = time.time()\n",
    "rfc.fit(features_upsampled_ord, target_upsampled_ord)\n",
    "\n",
    "# Obtener las probabilidades predichas para la clase positiva en el conjunto de entrenamiento\n",
    "rfc_pred = rfc.predict(features_upsampled_ord)\n",
    "rfc_probabilities_train = rfc.predict_proba(features_upsampled_ord)[:, 1]\n",
    "\n",
    "# Calcular la curva ROC\n",
    "fpr_rfc, tpr_rfc, thresholds = roc_curve(\n",
    "    target_upsampled_ord, rfc_probabilities_train)\n",
    "\n",
    "# Calcular el AUC-ROC y ACC\n",
    "auc_score_rfc_train = roc_auc_score(target_upsampled_ord, rfc_probabilities_train)\n",
    "acc_score_rfc_train = accuracy_score(target_upsampled_ord, rfc_pred)\n",
    "print('El AUC-ROC score usando el conjunto de entrenamiento sin CV es:',\n",
    "      auc_score_rfc_train)\n",
    "print('El accuracy score usando el conjunto de entrenamiento sin CV es:',\n",
    "      acc_score_rfc_train)\n",
    "print('Tiempo de ejecución:' + str((time.time() - start_time)) + 's')"
   ]
  },
  {
   "cell_type": "code",
   "execution_count": 11,
   "metadata": {},
   "outputs": [
    {
     "name": "stdout",
     "output_type": "stream",
     "text": [
      "El AUC-ROC score usando el conjunto de validación sin CV : 0.8865530303030305\n",
      "El accuracy score usando el conjunto de validación sin CV es: 0.9298969072164949\n",
      "Tiempo de ejecución:0.5676651000976562s\n"
     ]
    }
   ],
   "source": [
    "# Obtener las probabilidades predichas para la clase positiva en el conjunto de validación\n",
    "rfc_pred_valid = rfc.predict(features_valid_ord)\n",
    "rfc_probabilities_valid = rfc.predict_proba(features_valid_ord)[:, 1]\n",
    "\n",
    "# Calcular la curva ROC\n",
    "fpr_rfc, tpr_rfc, thresholds = roc_curve(\n",
    "    target_valid_ord, rfc_probabilities_valid)\n",
    "\n",
    "# Calcular el AUC-ROC\n",
    "auc_score_rfc = roc_auc_score(target_valid_ord, rfc_probabilities_valid)\n",
    "acc_score_rfc = accuracy_score(target_valid_ord, rfc_pred_valid)\n",
    "print('El AUC-ROC score usando el conjunto de validación sin CV :', auc_score_rfc)\n",
    "print('El accuracy score usando el conjunto de validación sin CV es:', acc_score_rfc)\n",
    "print('Tiempo de ejecución:' + str((time.time() - start_time)) + 's')"
   ]
  },
  {
   "cell_type": "code",
   "execution_count": 12,
   "metadata": {},
   "outputs": [
    {
     "data": {
      "image/png": "[encoded data removed]",
      "text/plain": [
       "<Figure size 800x600 with 1 Axes>"
      ]
     },
     "metadata": {},
     "output_type": "display_data"
    }
   ],
   "source": [
    "# Graficar la curva ROC\n",
    "plt.figure(figsize=(8, 6))\n",
    "plt.plot(fpr_rfc, tpr_rfc, \n",
    "         label=f'Bosque Aleatorio (AUC = {auc_score_rfc:.4f})')\n",
    "plt.plot([0, 1], [0, 1], linestyle='--', \n",
    "         label='Azar (AUC = 0.50)')\n",
    "plt.xlabel('Tasa de Falsos Positivos (FPR)')\n",
    "plt.ylabel('Tasa de Verdaderos Positivos (TPR)')\n",
    "plt.title('Curva ROC para Bosque Aleatorio sin CV en el conjunto de validación')\n",
    "plt.legend(loc='lower right')\n",
    "plt.grid()\n",
    "plt.show()"
   ]
  },
  {
   "cell_type": "markdown",
   "metadata": {},
   "source": [
    "##### Con validación cruzada"
   ]
  },
  {
   "cell_type": "markdown",
   "metadata": {},
   "source": [
    "#### GridSearchCV"
   ]
  },
  {
   "cell_type": "code",
   "execution_count": 25,
   "metadata": {},
   "outputs": [],
   "source": [
    "# Definir hiperparámetros a tunear\n",
    "forest_params = [\n",
    "    {'max_depth': list(range(1, 10)),\n",
    "     'n_estimators': list(range(1, 50)),\n",
    "     'min_samples_split': [2, 5, 10],\n",
    "     'min_samples_leaf': [1, 2, 4]}\n",
    "]"
   ]
  },
  {
   "cell_type": "code",
   "execution_count": 26,
   "metadata": {},
   "outputs": [
    {
     "name": "stdout",
     "output_type": "stream",
     "text": [
      "Mejor valor para max_depth: 9\n",
      "Mejor valor para n_estimators: 46\n",
      "Mejor estimador: RandomForestClassifier(max_depth=9, n_estimators=46, random_state=12345)\n",
      "Mejor puntuación de AUC-ROC en el conjunto de entrenamiento: 0.9894462879039247\n",
      "Mejor accuracy score en el conjunto de entrenamiento: 0.9498971770424378\n",
      "Tiempo de ejecución:884.9004709720612s\n"
     ]
    }
   ],
   "source": [
    "# Configurar GridSearchCV con la métrica de evaluación AUC-ROC\n",
    "clf = GridSearchCV(\n",
    "    rfc,\n",
    "    forest_params,\n",
    "    cv=5,\n",
    "    scoring={'roc_auc': 'roc_auc', 'accuracy': 'accuracy'}, \n",
    "    refit='roc_auc',\n",
    "    error_score='raise'\n",
    "    )\n",
    "\n",
    "# Entrenar el modelo con GridSearchCV\n",
    "start_time = time.time()\n",
    "clf.fit(features_upsampled_ord, target_upsampled_ord)\n",
    "\n",
    "# Obtener las probabilidades predichas para la clase positiva en el conjunto de entrenamiento\n",
    "clf_probabilities_train = clf.predict_proba(features_upsampled_ord)[:, 1]\n",
    "clf_pred = clf.predict(features_upsampled_ord)\n",
    "\n",
    "# Calcular la curva ROC\n",
    "fpr_clf, tpr_clf, thresholds = roc_curve(\n",
    "    target_upsampled_ord, clf_probabilities_train)\n",
    "\n",
    "# Calcular el AUC-ROC y accuracy\n",
    "auc_score_clf_train = roc_auc_score(\n",
    "    target_upsampled_ord, clf_probabilities_train)\n",
    "acc_score_clf_train = accuracy_score(\n",
    "    target_upsampled_ord, clf_pred)\n",
    "\n",
    "print(f\"Mejor valor para max_depth: {clf.best_params_['max_depth']}\")\n",
    "print(f\"Mejor valor para n_estimators: {clf.best_params_['n_estimators']}\")\n",
    "print(f\"Mejor estimador: {clf.best_estimator_}\")\n",
    "print(f\"Mejor puntuación de AUC-ROC en el conjunto de entrenamiento: {clf.best_score_}\")\n",
    "print(f\"Mejor accuracy score en el conjunto de entrenamiento: {acc_score_clf_train}\")\n",
    "print('Tiempo de ejecución:' + str((time.time() - start_time)) + 's')"
   ]
  },
  {
   "cell_type": "code",
   "execution_count": 27,
   "metadata": {},
   "outputs": [
    {
     "name": "stdout",
     "output_type": "stream",
     "text": [
      "El AUC-ROC score  en el conjunto de valiadción  usando hiperparámetros optimizados : 0.8854356060606061\n",
      "El accuracy score en el conjunto de validación usando hiperparámetros optimizados : 0.8793814432989691\n",
      "Tiempo de ejecución:0.12139654159545898s\n"
     ]
    }
   ],
   "source": [
    "# Creación de modelo con mejores hiperparámetros\n",
    "clf = RandomForestClassifier(\n",
    "    max_depth=9, \n",
    "    n_estimators=46, \n",
    "    random_state=12345\n",
    ")\n",
    "\n",
    "# Entrenamiento del modelo con los mejores hiperparámetros\n",
    "start_time = time.time()\n",
    "clf.fit(features_upsampled_ord, target_upsampled_ord)\n",
    "probabilities_valid_clf = clf.predict_proba(features_valid_ord)[:,1]\n",
    "pred_valid_clf = clf.predict(features_valid_ord)\n",
    "\n",
    "# Calcular la curva ROC\n",
    "fpr_clf, tpr_clf, thresholds = roc_curve(\n",
    "    target_valid_ord, probabilities_valid_clf)\n",
    "\n",
    "# Calcular el AUC-ROC y accuracy\n",
    "auc_score_clf = roc_auc_score(target_valid_ord, probabilities_valid_clf)\n",
    "acc_score_clf = accuracy_score(target_valid_ord, pred_valid_clf)\n",
    "\n",
    "print('El AUC-ROC score  en el conjunto de valiadción  usando hiperparámetros optimizados :', auc_score_clf)\n",
    "print('El accuracy score en el conjunto de validación usando hiperparámetros optimizados :', acc_score_clf)\n",
    "print('Tiempo de ejecución:' + str((time.time() - start_time)) + 's')"
   ]
  },
  {
   "cell_type": "code",
   "execution_count": 28,
   "metadata": {},
   "outputs": [
    {
     "data": {
      "image/png": "[encoded data removed]",
      "text/plain": [
       "<Figure size 800x600 with 1 Axes>"
      ]
     },
     "metadata": {},
     "output_type": "display_data"
    }
   ],
   "source": [
    "# Gráfico de curva AUC-ROC\n",
    "\n",
    "plt.figure(figsize=(8, 6))\n",
    "plt.plot(fpr_clf, tpr_clf, \n",
    "         label=f'Bosque Aleatorio (AUC = {auc_score_clf:.4f})')\n",
    "plt.plot([0, 1], [0, 1], linestyle='--', \n",
    "         label='Azar (AUC = 0.50)')\n",
    "plt.xlabel('Tasa de Falsos Positivos (FPR)')\n",
    "plt.ylabel('Tasa de Verdaderos Positivos (TPR)')\n",
    "plt.title('Curva ROC para Bosque Aleatorio con GridSearchCV')\n",
    "plt.legend(loc='lower right')\n",
    "plt.grid()\n",
    "plt.show()"
   ]
  },
  {
   "cell_type": "markdown",
   "metadata": {},
   "source": [
    "#### Optuna"
   ]
  },
  {
   "cell_type": "code",
   "execution_count": 34,
   "metadata": {},
   "outputs": [],
   "source": [
    "# Creación de la clase\n",
    "\n",
    "optuna.logging.set_verbosity(optuna.logging.WARNING)\n",
    "class ModelOptimization:\n",
    "    '''\n",
    "    Creación de clase para tunear hiperparámetros utilizando Optuna\n",
    "    '''\n",
    "\n",
    "    def __init__(self, features_train, features_valid, target_train, target_valid):\n",
    "        self.features_train = features_train\n",
    "        self.features_valid = features_valid\n",
    "        self.target_train = target_train\n",
    "        self.target_valid = target_valid\n",
    "        self.best_auc_score_train = None\n",
    "        self.best_acc_score_train = None\n",
    "        self.best_acc_score = None\n",
    "        self.best_model = None\n",
    "\n",
    "    def objective(self, trial):\n",
    "        # Definir los hiperparámetros a optimizar\n",
    "        max_depth = trial.suggest_int('max_depth', 1, 10)\n",
    "        n_estimators = trial.suggest_int('n_estimators', 1, 50)\n",
    "        min_samples_split = trial.suggest_int('min_samples_split', 2, 10)\n",
    "        min_samples_leaf = trial.suggest_int('min_samples_leaf', 1, 4)\n",
    "        \n",
    "        # Crear el modelo con los hiperparámetros sugeridos\n",
    "        model = RandomForestClassifier(\n",
    "            max_depth=max_depth, \n",
    "            n_estimators=n_estimators, \n",
    "            min_samples_split=min_samples_split,\n",
    "            min_samples_leaf=min_samples_leaf,\n",
    "            random_state=12345)\n",
    "\n",
    "        # Entrenar el modelo\n",
    "        model.fit(self.features_train, self.target_train)\n",
    "        \n",
    "        #Predecir probabilidades en el conjunto de entrenamiento\n",
    "        pred_train_proba = model.predict_proba(self.features_train)[:, 1]\n",
    "        pred_train = model.predict(self.features_train)\n",
    "\n",
    "        # Predecir probabilidades en el conjunto de validación\n",
    "        predictions_valid_proba = model.predict_proba(self.features_valid)[:, 1]\n",
    "        pred_valid = model.predict(self.features_valid)\n",
    "\n",
    "        # Calcular el AUC-ROC y accuracy\n",
    "        auc_score = roc_auc_score(self.target_valid, predictions_valid_proba)\n",
    "        acc_score = accuracy_score(self.target_valid, pred_valid)\n",
    "        auc_score_train = roc_auc_score(self.target_train, pred_train_proba)\n",
    "        acc_score_train = accuracy_score(self.target_train, pred_train)\n",
    "\n",
    "        # Almacenar otros valores como atributos de la clase \n",
    "        self.best_auc_score_train = auc_score_train \n",
    "        self.best_acc_score_train = acc_score_train \n",
    "        self.best_acc_score = acc_score\n",
    "        \n",
    "        # Almacenar el mejor modelo\n",
    "        self.best_model = model\n",
    "        \n",
    "        return auc_score"
   ]
  },
  {
   "cell_type": "code",
   "execution_count": 35,
   "metadata": {},
   "outputs": [],
   "source": [
    "# Para ejecutar Optuna\n",
    "def optimize_model(features_train, features_valid, target_train, target_valid, n_trials=50):\n",
    "    optimizer = ModelOptimization(\n",
    "        features_train, \n",
    "        features_valid, \n",
    "        target_train, \n",
    "        target_valid\n",
    "    )\n",
    "    study = optuna.create_study(direction='maximize')  # Maximizar el AUC-ROC\n",
    "    study.optimize(optimizer.objective, n_trials=n_trials)\n",
    "\n",
    "    print(f\"Mejores parámetros: {study.best_params}\")\n",
    "    print(f\"Mejor AUC-ROC score en el conjunto de validación: {study.best_value:.4f}\")\n",
    "    print(f\"Mejor accuracy score en el conjunto de validación: {optimizer.best_acc_score:.4f}\")\n",
    "    print(f\"Mejor AUC-ROC score en el conjunto de entrenamiento: {optimizer.best_auc_score_train:.4f}\")\n",
    "    print(f\"Mejor accuracy score en el conjunto de entrenamiento: {optimizer.best_acc_score_train:.4f}\")\n",
    "\n",
    "    # Graficar la curva AUC-ROC con el mejor modelo\n",
    "    best_model = optimizer.best_model\n",
    "    predictions_valid_proba = best_model.predict_proba(features_valid)[:, 1]\n",
    "    fpr, tpr, _ = roc_curve(target_valid, predictions_valid_proba)\n",
    "\n",
    "    plt.figure()\n",
    "    plt.plot(fpr, tpr, color='darkorange', lw=2, label='Curva AUC-ROC (área = %0.4f)' % study.best_value)\n",
    "    plt.plot([0, 1], [0, 1], color='navy', lw=2, linestyle='--')\n",
    "    plt.xlim([0.0, 1.0])\n",
    "    plt.ylim([0.0, 1.0])\n",
    "    plt.xlabel('Tasa de falsos positivos')\n",
    "    plt.ylabel('Tasa de verdaderos positivos')\n",
    "    plt.title('Curva AUC-ROC del mejor modelo')\n",
    "    plt.legend(loc='lower right')\n",
    "    plt.show()\n",
    "\n",
    "    return study"
   ]
  },
  {
   "cell_type": "code",
   "execution_count": 36,
   "metadata": {},
   "outputs": [
    {
     "name": "stdout",
     "output_type": "stream",
     "text": [
      "Mejores parámetros: {'max_depth': 5, 'n_estimators': 10, 'min_samples_split': 6, 'min_samples_leaf': 2}\n",
      "Mejor AUC-ROC score en el conjunto de validación: 0.8973\n",
      "Mejor accuracy score en el conjunto de validación: 0.7887\n",
      "Mejor AUC-ROC score en el conjunto de entrenamiento: 0.9108\n",
      "Mejor accuracy score en el conjunto de entrenamiento: 0.8149\n"
     ]
    },
    {
     "data": {
      "image/png": "[encoded data removed]",
      "text/plain": [
       "<Figure size 640x480 with 1 Axes>"
      ]
     },
     "metadata": {},
     "output_type": "display_data"
    },
    {
     "name": "stdout",
     "output_type": "stream",
     "text": [
      "Tiempo de ejecución:30.93009305000305s\n"
     ]
    }
   ],
   "source": [
    "# Ejecutar la optimización\n",
    "start_time = time.time()\n",
    "study = optimize_model(features_upsampled_ord, features_valid_ord,\n",
    "                       target_upsampled_ord, target_valid_ord, n_trials=500)\n",
    "print('Tiempo de ejecución:' + str((time.time() - start_time)) + 's')\n"
   ]
  },
  {
   "cell_type": "code",
   "execution_count": 37,
   "metadata": {},
   "outputs": [
    {
     "data": {
      "application/vnd.plotly.v1+json": {
       "config": {
        "plotlyServerURL": "https://plot.ly"
       },
       "data": [
        {
         "mode": "markers",
         "name": "Objective Value",
         "type": "scatter",
         "x": [
          0,
          1,
          2,
          3,
          4,
          5,
          6,
          7,
          8,
          9,
          10,
          11,
          12,
          13,
          14,
          15,
          16,
          17,
          18,
          19,
          20,
          21,
          22,
          23,
          24,
          25,
          26,
          27,
          28,
          29,
          30,
          31,
          32,
          33,
          34,
          35,
          36,
          37,
          38,
          39,
          40,
          41,
          42,
          43,
          44,
          45,
          46,
          47,
          48,
          49,
          50,
          51,
          52,
          53,
          54,
          55,
          56,
          57,
          58,
          59,
          60,
          61,
          62,
          63,
          64,
          65,
          66,
          67,
          68,
          69,
          70,
          71,
          72,
          73,
          74,
          75,
          76,
          77,
          78,
          79,
          80,
          81,
          82,
          83,
          84,
          85,
          86,
          87,
          88,
          89,
          90,
          91,
          92,
          93,
          94,
          95,
          96,
          97,
          98,
          99,
          100,
          101,
          102,
          103,
          104,
          105,
          106,
          107,
          108,
          109,
          110,
          111,
          112,
          113,
          114,
          115,
          116,
          117,
          118,
          119,
          120,
          121,
          122,
          123,
          124,
          125,
          126,
          127,
          128,
          129,
          130,
          131,
          132,
          133,
          134,
          135,
          136,
          137,
          138,
          139,
          140,
          141,
          142,
          143,
          144,
          145,
          146,
          147,
          148,
          149,
          150,
          151,
          152,
          153,
          154,
          155,
          156,
          157,
          158,
          159,
          160,
          161,
          162,
          163,
          164,
          165,
          166,
          167,
          168,
          169,
          170,
          171,
          172,
          173,
          174,
          175,
          176,
          177,
          178,
          179,
          180,
          181,
          182,
          183,
          184,
          185,
          186,
          187,
          188,
          189,
          190,
          191,
          192,
          193,
          194,
          195,
          196,
          197,
          198,
          199,
          200,
          201,
          202,
          203,
          204,
          205,
          206,
          207,
          208,
          209,
          210,
          211,
          212,
          213,
          214,
          215,
          216,
          217,
          218,
          219,
          220,
          221,
          222,
          223,
          224,
          225,
          226,
          227,
          228,
          229,
          230,
          231,
          232,
          233,
          234,
          235,
          236,
          237,
          238,
          239,
          240,
          241,
          242,
          243,
          244,
          245,
          246,
          247,
          248,
          249,
          250,
          251,
          252,
          253,
          254,
          255,
          256,
          257,
          258,
          259,
          260,
          261,
          262,
          263,
          264,
          265,
          266,
          267,
          268,
          269,
          270,
          271,
          272,
          273,
          274,
          275,
          276,
          277,
          278,
          279,
          280,
          281,
          282,
          283,
          284,
          285,
          286,
          287,
          288,
          289,
          290,
          291,
          292,
          293,
          294,
          295,
          296,
          297,
          298,
          299,
          300,
          301,
          302,
          303,
          304,
          305,
          306,
          307,
          308,
          309,
          310,
          311,
          312,
          313,
          314,
          315,
          316,
          317,
          318,
          319,
          320,
          321,
          322,
          323,
          324,
          325,
          326,
          327,
          328,
          329,
          330,
          331,
          332,
          333,
          334,
          335,
          336,
          337,
          338,
          339,
          340,
          341,
          342,
          343,
          344,
          345,
          346,
          347,
          348,
          349,
          350,
          351,
          352,
          353,
          354,
          355,
          356,
          357,
          358,
          359,
          360,
          361,
          362,
          363,
          364,
          365,
          366,
          367,
          368,
          369,
          370,
          371,
          372,
          373,
          374,
          375,
          376,
          377,
          378,
          379,
          380,
          381,
          382,
          383,
          384,
          385,
          386,
          387,
          388,
          389,
          390,
          391,
          392,
          393,
          394,
          395,
          396,
          397,
          398,
          399,
          400,
          401,
          402,
          403,
          404,
          405,
          406,
          407,
          408,
          409,
          410,
          411,
          412,
          413,
          414,
          415,
          416,
          417,
          418,
          419,
          420,
          421,
          422,
          423,
          424,
          425,
          426,
          427,
          428,
          429,
          430,
          431,
          432,
          433,
          434,
          435,
          436,
          437,
          438,
          439,
          440,
          441,
          442,
          443,
          444,
          445,
          446,
          447,
          448,
          449,
          450,
          451,
          452,
          453,
          454,
          455,
          456,
          457,
          458,
          459,
          460,
          461,
          462,
          463,
          464,
          465,
          466,
          467,
          468,
          469,
          470,
          471,
          472,
          473,
          474,
          475,
          476,
          477,
          478,
          479,
          480,
          481,
          482,
          483,
          484,
          485,
          486,
          487,
          488,
          489,
          490,
          491,
          492,
          493,
          494,
          495,
          496,
          497,
          498,
          499
         ],
         "y": [
          0.8911868686868687,
          0.8854040404040404,
          0.7816540404040404,
          0.8736868686868686,
          0.8932386363636364,
          0.8941414141414142,
          0.8879734848484849,
          0.8901262626262627,
          0.8853282828282828,
          0.8908585858585858,
          0.8859217171717173,
          0.8902967171717172,
          0.886679292929293,
          0.8897348484848484,
          0.8289330808080807,
          0.8930176767676768,
          0.8801704545454545,
          0.8928156565656565,
          0.8968371212121212,
          0.8674747474747476,
          0.8826957070707071,
          0.8942108585858585,
          0.8868813131313131,
          0.8716729797979799,
          0.8934848484848483,
          0.8813636363636363,
          0.8880492424242424,
          0.8879040404040404,
          0.8914962121212122,
          0.8749621212121212,
          0.8879545454545454,
          0.8940909090909089,
          0.8861805555555556,
          0.8955050505050505,
          0.8852714646464647,
          0.8905429292929294,
          0.8858964646464645,
          0.8942929292929293,
          0.8934974747474748,
          0.8867550505050505,
          0.8945517676767676,
          0.8934406565656566,
          0.8836679292929294,
          0.8858333333333333,
          0.894185606060606,
          0.8870833333333334,
          0.8912752525252525,
          0.8859027777777777,
          0.889955808080808,
          0.8814709595959597,
          0.8942992424242425,
          0.8937058080808081,
          0.886824494949495,
          0.8932512626262626,
          0.8942992424242425,
          0.8838320707070708,
          0.8929103535353534,
          0.8810542929292929,
          0.8878787878787879,
          0.8824116161616161,
          0.8814078282828284,
          0.8941477272727273,
          0.8949431818181818,
          0.8948674242424243,
          0.8901262626262627,
          0.8931944444444444,
          0.8892171717171717,
          0.8880492424242424,
          0.885530303030303,
          0.8929040404040405,
          0.8441414141414142,
          0.8948674242424243,
          0.8948674242424243,
          0.8940530303030303,
          0.8936616161616162,
          0.8881944444444445,
          0.8908333333333334,
          0.8888320707070707,
          0.8943434343434344,
          0.8895707070707071,
          0.8943434343434344,
          0.8943434343434344,
          0.8929545454545454,
          0.8905050505050505,
          0.8937752525252524,
          0.8886742424242425,
          0.8946590909090909,
          0.8920833333333333,
          0.8941982323232324,
          0.8815025252525253,
          0.8889709595959596,
          0.8946590909090909,
          0.893169191919192,
          0.8946590909090909,
          0.8949179292929293,
          0.8893686868686869,
          0.8946590909090909,
          0.8941982323232324,
          0.82302398989899,
          0.8930871212121213,
          0.8890782828282828,
          0.8946590909090909,
          0.8928030303030304,
          0.8946590909090909,
          0.8937752525252524,
          0.8904040404040404,
          0.8880492424242424,
          0.8941982323232324,
          0.8903661616161617,
          0.8894128787878788,
          0.8908585858585858,
          0.8946590909090909,
          0.8949179292929293,
          0.8949179292929293,
          0.8950189393939393,
          0.8950189393939393,
          0.8886742424242425,
          0.8950189393939393,
          0.8941982323232324,
          0.8880492424242424,
          0.8930871212121213,
          0.8950189393939393,
          0.8953472222222222,
          0.8950189393939393,
          0.8950189393939393,
          0.8894065656565657,
          0.8942108585858585,
          0.8947916666666667,
          0.8866919191919193,
          0.8894065656565657,
          0.8947916666666667,
          0.8953472222222222,
          0.8953472222222222,
          0.8953472222222222,
          0.8933143939393939,
          0.8953472222222222,
          0.8880492424242424,
          0.8942108585858585,
          0.8836174242424243,
          0.8887373737373736,
          0.8953472222222222,
          0.8953472222222222,
          0.8930871212121213,
          0.8953472222222222,
          0.8953472222222222,
          0.8947916666666667,
          0.8953472222222222,
          0.8942108585858585,
          0.8880492424242424,
          0.8933143939393939,
          0.8884090909090909,
          0.8941982323232324,
          0.8950189393939393,
          0.8953472222222222,
          0.8953472222222222,
          0.8897348484848484,
          0.8902272727272728,
          0.8953472222222222,
          0.875006313131313,
          0.8964330808080809,
          0.8843118686868686,
          0.8964330808080809,
          0.8964330808080809,
          0.891534090909091,
          0.8964330808080809,
          0.8951325757575759,
          0.8964330808080809,
          0.8960921717171717,
          0.8964330808080809,
          0.8791919191919193,
          0.8964330808080809,
          0.8964330808080809,
          0.8960921717171717,
          0.8960921717171717,
          0.8960921717171717,
          0.8960921717171717,
          0.8960921717171717,
          0.8960921717171717,
          0.8960921717171717,
          0.885385101010101,
          0.8964330808080809,
          0.8964330808080809,
          0.8964330808080809,
          0.8964330808080809,
          0.8964330808080809,
          0.8968371212121212,
          0.8937689393939394,
          0.8968371212121212,
          0.8968371212121212,
          0.8968371212121212,
          0.8945328282828283,
          0.8968371212121212,
          0.8968371212121212,
          0.8968371212121212,
          0.8968371212121212,
          0.8968371212121212,
          0.8968371212121212,
          0.8968371212121212,
          0.8951325757575759,
          0.8813825757575757,
          0.8968371212121212,
          0.8968371212121212,
          0.8968371212121212,
          0.8968371212121212,
          0.8968371212121212,
          0.8937689393939394,
          0.8968371212121212,
          0.8945075757575757,
          0.8968371212121212,
          0.8951325757575759,
          0.8968371212121212,
          0.8968371212121212,
          0.8968371212121212,
          0.8968371212121212,
          0.8951325757575759,
          0.8968371212121212,
          0.8937689393939394,
          0.8945328282828283,
          0.8968371212121212,
          0.8951325757575759,
          0.8838510101010102,
          0.8968371212121212,
          0.8968371212121212,
          0.8937689393939394,
          0.8968371212121212,
          0.8951325757575759,
          0.8952209595959597,
          0.8945328282828283,
          0.8968371212121212,
          0.8791919191919193,
          0.8937689393939394,
          0.8968371212121212,
          0.8951325757575759,
          0.8968371212121212,
          0.8968371212121212,
          0.8918939393939396,
          0.8951325757575759,
          0.8945328282828283,
          0.8968371212121212,
          0.891534090909091,
          0.8937689393939394,
          0.8968371212121212,
          0.8951325757575759,
          0.8968371212121212,
          0.8968371212121212,
          0.8951325757575759,
          0.8968371212121212,
          0.8937689393939394,
          0.8945075757575757,
          0.8960921717171717,
          0.8951325757575759,
          0.8968371212121212,
          0.8963699494949495,
          0.8539015151515152,
          0.8815025252525253,
          0.8968371212121212,
          0.8960921717171717,
          0.8951325757575759,
          0.8964330808080809,
          0.8887373737373736,
          0.8937689393939394,
          0.8968371212121212,
          0.8960921717171717,
          0.8964330808080809,
          0.895284090909091,
          0.8791919191919193,
          0.8951325757575759,
          0.891534090909091,
          0.8964330808080809,
          0.8945328282828283,
          0.8968371212121212,
          0.8881755050505049,
          0.8960921717171717,
          0.8951325757575759,
          0.8964330808080809,
          0.8968371212121212,
          0.8813825757575757,
          0.8918939393939396,
          0.8730871212121213,
          0.8887373737373736,
          0.8968371212121212,
          0.8960921717171717,
          0.8945328282828283,
          0.8951325757575759,
          0.8964330808080809,
          0.8968371212121212,
          0.891534090909091,
          0.8937689393939394,
          0.896054292929293,
          0.8791919191919193,
          0.8951325757575759,
          0.8964330808080809,
          0.8843118686868686,
          0.8951325757575759,
          0.8968371212121212,
          0.8945328282828283,
          0.8875694444444446,
          0.8937689393939394,
          0.8968371212121212,
          0.8951325757575759,
          0.8964330808080809,
          0.8791919191919193,
          0.891534090909091,
          0.8937689393939394,
          0.8960921717171717,
          0.8952209595959597,
          0.8964330808080809,
          0.8968371212121212,
          0.8951325757575759,
          0.8945075757575757,
          0.8795391414141414,
          0.8868813131313131,
          0.8937689393939394,
          0.8960921717171717,
          0.8762563131313132,
          0.8951325757575759,
          0.8964330808080809,
          0.8867929292929293,
          0.8968371212121212,
          0.8951325757575759,
          0.8964330808080809,
          0.891534090909091,
          0.8716729797979799,
          0.8968371212121212,
          0.8881755050505049,
          0.8951325757575759,
          0.8960921717171717,
          0.8795391414141414,
          0.8968371212121212,
          0.8945328282828283,
          0.8960921717171717,
          0.8951325757575759,
          0.8968371212121212,
          0.8843118686868686,
          0.8937689393939394,
          0.8951199494949496,
          0.8964330808080809,
          0.8968371212121212,
          0.8918939393939396,
          0.8960921717171717,
          0.8937689393939394,
          0.8968371212121212,
          0.8887373737373736,
          0.8775946969696968,
          0.891534090909091,
          0.8968371212121212,
          0.8903156565656566,
          0.8945328282828283,
          0.8960921717171717,
          0.8951325757575759,
          0.8937689393939394,
          0.8964330808080809,
          0.8791919191919193,
          0.8952209595959597,
          0.8964330808080809,
          0.8905113636363637,
          0.8968371212121212,
          0.891534090909091,
          0.8937689393939394,
          0.8964330808080809,
          0.8960921717171717,
          0.8951325757575759,
          0.8968371212121212,
          0.8813194444444444,
          0.8813825757575757,
          0.8964330808080809,
          0.8887373737373736,
          0.8960921717171717,
          0.8968371212121212,
          0.8951325757575759,
          0.8944570707070707,
          0.8964330808080809,
          0.8945328282828283,
          0.885385101010101,
          0.8968371212121212,
          0.8813825757575757,
          0.8960921717171717,
          0.8964330808080809,
          0.8951325757575759,
          0.8968371212121212,
          0.8951325757575759,
          0.8927209595959598,
          0.8964330808080809,
          0.8918939393939396,
          0.8813825757575757,
          0.8968371212121212,
          0.8960921717171717,
          0.8887373737373736,
          0.8964330808080809,
          0.8968371212121212,
          0.8945328282828283,
          0.8960921717171717,
          0.8937689393939394,
          0.8972664141414142,
          0.8963068181818182,
          0.8951325757575759,
          0.8972664141414142,
          0.8914962121212122,
          0.8874494949494951,
          0.8963068181818182,
          0.8794760101010102,
          0.8972664141414142,
          0.8972664141414142,
          0.8959406565656567,
          0.8939835858585858,
          0.8972664141414142,
          0.8952209595959597,
          0.894330808080808,
          0.8793118686868687,
          0.8972664141414142,
          0.8952209595959597,
          0.8872664141414142,
          0.8941666666666666,
          0.8972664141414142,
          0.8963068181818182,
          0.8939835858585858,
          0.8972664141414142,
          0.8871843434343435,
          0.8972664141414142,
          0.8963068181818182,
          0.8952209595959597,
          0.8972664141414142,
          0.8972664141414142,
          0.8939835858585858,
          0.8793118686868687,
          0.8959406565656567,
          0.8952209595959597,
          0.8454797979797981,
          0.8963068181818182,
          0.8952209595959597,
          0.8779103535353534,
          0.8972664141414142,
          0.8939835858585858,
          0.8866729797979798,
          0.8959406565656567,
          0.8963068181818182,
          0.8941666666666666,
          0.8952209595959597,
          0.8972664141414142,
          0.8816161616161616,
          0.8963068181818182,
          0.8952209595959597,
          0.8972664141414142,
          0.8939835858585858,
          0.8959406565656567,
          0.8972664141414142,
          0.8866729797979798,
          0.8931439393939394,
          0.8933459595959595,
          0.8963068181818182,
          0.8952209595959597,
          0.8790909090909093,
          0.8959406565656567,
          0.8951325757575757,
          0.8941666666666666,
          0.8939835858585858,
          0.8963068181818182,
          0.8972664141414142,
          0.888453282828283,
          0.8679861111111111,
          0.8972664141414142,
          0.8914962121212122,
          0.8963068181818182,
          0.8972664141414142,
          0.8939835858585858,
          0.8972664141414142,
          0.8952209595959597,
          0.8963068181818182,
          0.8790909090909093,
          0.8952209595959597,
          0.8959406565656567,
          0.876584595959596,
          0.8841477272727273,
          0.8952209595959597,
          0.8790909090909093,
          0.8939835858585858,
          0.8963068181818182,
          0.8914962121212122,
          0.8788762626262628,
          0.8952209595959597,
          0.8959406565656567,
          0.8972664141414142,
          0.8972664141414142,
          0.8939835858585858,
          0.8963068181818182,
          0.888453282828283,
          0.894330808080808,
          0.8972664141414142,
          0.8959406565656567,
          0.8360606060606061,
          0.8972664141414142,
          0.8963068181818182,
          0.890151515151515,
          0.8879671717171718,
          0.8941666666666666,
          0.8939835858585858,
          0.8972664141414142,
          0.8972664141414142,
          0.8972664141414142,
          0.8922159090909091
         ]
        },
        {
         "mode": "lines",
         "name": "Best Value",
         "type": "scatter",
         "x": [
          0,
          1,
          2,
          3,
          4,
          5,
          6,
          7,
          8,
          9,
          10,
          11,
          12,
          13,
          14,
          15,
          16,
          17,
          18,
          19,
          20,
          21,
          22,
          23,
          24,
          25,
          26,
          27,
          28,
          29,
          30,
          31,
          32,
          33,
          34,
          35,
          36,
          37,
          38,
          39,
          40,
          41,
          42,
          43,
          44,
          45,
          46,
          47,
          48,
          49,
          50,
          51,
          52,
          53,
          54,
          55,
          56,
          57,
          58,
          59,
          60,
          61,
          62,
          63,
          64,
          65,
          66,
          67,
          68,
          69,
          70,
          71,
          72,
          73,
          74,
          75,
          76,
          77,
          78,
          79,
          80,
          81,
          82,
          83,
          84,
          85,
          86,
          87,
          88,
          89,
          90,
          91,
          92,
          93,
          94,
          95,
          96,
          97,
          98,
          99,
          100,
          101,
          102,
          103,
          104,
          105,
          106,
          107,
          108,
          109,
          110,
          111,
          112,
          113,
          114,
          115,
          116,
          117,
          118,
          119,
          120,
          121,
          122,
          123,
          124,
          125,
          126,
          127,
          128,
          129,
          130,
          131,
          132,
          133,
          134,
          135,
          136,
          137,
          138,
          139,
          140,
          141,
          142,
          143,
          144,
          145,
          146,
          147,
          148,
          149,
          150,
          151,
          152,
          153,
          154,
          155,
          156,
          157,
          158,
          159,
          160,
          161,
          162,
          163,
          164,
          165,
          166,
          167,
          168,
          169,
          170,
          171,
          172,
          173,
          174,
          175,
          176,
          177,
          178,
          179,
          180,
          181,
          182,
          183,
          184,
          185,
          186,
          187,
          188,
          189,
          190,
          191,
          192,
          193,
          194,
          195,
          196,
          197,
          198,
          199,
          200,
          201,
          202,
          203,
          204,
          205,
          206,
          207,
          208,
          209,
          210,
          211,
          212,
          213,
          214,
          215,
          216,
          217,
          218,
          219,
          220,
          221,
          222,
          223,
          224,
          225,
          226,
          227,
          228,
          229,
          230,
          231,
          232,
          233,
          234,
          235,
          236,
          237,
          238,
          239,
          240,
          241,
          242,
          243,
          244,
          245,
          246,
          247,
          248,
          249,
          250,
          251,
          252,
          253,
          254,
          255,
          256,
          257,
          258,
          259,
          260,
          261,
          262,
          263,
          264,
          265,
          266,
          267,
          268,
          269,
          270,
          271,
          272,
          273,
          274,
          275,
          276,
          277,
          278,
          279,
          280,
          281,
          282,
          283,
          284,
          285,
          286,
          287,
          288,
          289,
          290,
          291,
          292,
          293,
          294,
          295,
          296,
          297,
          298,
          299,
          300,
          301,
          302,
          303,
          304,
          305,
          306,
          307,
          308,
          309,
          310,
          311,
          312,
          313,
          314,
          315,
          316,
          317,
          318,
          319,
          320,
          321,
          322,
          323,
          324,
          325,
          326,
          327,
          328,
          329,
          330,
          331,
          332,
          333,
          334,
          335,
          336,
          337,
          338,
          339,
          340,
          341,
          342,
          343,
          344,
          345,
          346,
          347,
          348,
          349,
          350,
          351,
          352,
          353,
          354,
          355,
          356,
          357,
          358,
          359,
          360,
          361,
          362,
          363,
          364,
          365,
          366,
          367,
          368,
          369,
          370,
          371,
          372,
          373,
          374,
          375,
          376,
          377,
          378,
          379,
          380,
          381,
          382,
          383,
          384,
          385,
          386,
          387,
          388,
          389,
          390,
          391,
          392,
          393,
          394,
          395,
          396,
          397,
          398,
          399,
          400,
          401,
          402,
          403,
          404,
          405,
          406,
          407,
          408,
          409,
          410,
          411,
          412,
          413,
          414,
          415,
          416,
          417,
          418,
          419,
          420,
          421,
          422,
          423,
          424,
          425,
          426,
          427,
          428,
          429,
          430,
          431,
          432,
          433,
          434,
          435,
          436,
          437,
          438,
          439,
          440,
          441,
          442,
          443,
          444,
          445,
          446,
          447,
          448,
          449,
          450,
          451,
          452,
          453,
          454,
          455,
          456,
          457,
          458,
          459,
          460,
          461,
          462,
          463,
          464,
          465,
          466,
          467,
          468,
          469,
          470,
          471,
          472,
          473,
          474,
          475,
          476,
          477,
          478,
          479,
          480,
          481,
          482,
          483,
          484,
          485,
          486,
          487,
          488,
          489,
          490,
          491,
          492,
          493,
          494,
          495,
          496,
          497,
          498,
          499
         ],
         "y": [
          0.8911868686868687,
          0.8911868686868687,
          0.8911868686868687,
          0.8911868686868687,
          0.8932386363636364,
          0.8941414141414142,
          0.8941414141414142,
          0.8941414141414142,
          0.8941414141414142,
          0.8941414141414142,
          0.8941414141414142,
          0.8941414141414142,
          0.8941414141414142,
          0.8941414141414142,
          0.8941414141414142,
          0.8941414141414142,
          0.8941414141414142,
          0.8941414141414142,
          0.8968371212121212,
          0.8968371212121212,
          0.8968371212121212,
          0.8968371212121212,
          0.8968371212121212,
          0.8968371212121212,
          0.8968371212121212,
          0.8968371212121212,
          0.8968371212121212,
          0.8968371212121212,
          0.8968371212121212,
          0.8968371212121212,
          0.8968371212121212,
          0.8968371212121212,
          0.8968371212121212,
          0.8968371212121212,
          0.8968371212121212,
          0.8968371212121212,
          0.8968371212121212,
          0.8968371212121212,
          0.8968371212121212,
          0.8968371212121212,
          0.8968371212121212,
          0.8968371212121212,
          0.8968371212121212,
          0.8968371212121212,
          0.8968371212121212,
          0.8968371212121212,
          0.8968371212121212,
          0.8968371212121212,
          0.8968371212121212,
          0.8968371212121212,
          0.8968371212121212,
          0.8968371212121212,
          0.8968371212121212,
          0.8968371212121212,
          0.8968371212121212,
          0.8968371212121212,
          0.8968371212121212,
          0.8968371212121212,
          0.8968371212121212,
          0.8968371212121212,
          0.8968371212121212,
          0.8968371212121212,
          0.8968371212121212,
          0.8968371212121212,
          0.8968371212121212,
          0.8968371212121212,
          0.8968371212121212,
          0.8968371212121212,
          0.8968371212121212,
          0.8968371212121212,
          0.8968371212121212,
          0.8968371212121212,
          0.8968371212121212,
          0.8968371212121212,
          0.8968371212121212,
          0.8968371212121212,
          0.8968371212121212,
          0.8968371212121212,
          0.8968371212121212,
          0.8968371212121212,
          0.8968371212121212,
          0.8968371212121212,
          0.8968371212121212,
          0.8968371212121212,
          0.8968371212121212,
          0.8968371212121212,
          0.8968371212121212,
          0.8968371212121212,
          0.8968371212121212,
          0.8968371212121212,
          0.8968371212121212,
          0.8968371212121212,
          0.8968371212121212,
          0.8968371212121212,
          0.8968371212121212,
          0.8968371212121212,
          0.8968371212121212,
          0.8968371212121212,
          0.8968371212121212,
          0.8968371212121212,
          0.8968371212121212,
          0.8968371212121212,
          0.8968371212121212,
          0.8968371212121212,
          0.8968371212121212,
          0.8968371212121212,
          0.8968371212121212,
          0.8968371212121212,
          0.8968371212121212,
          0.8968371212121212,
          0.8968371212121212,
          0.8968371212121212,
          0.8968371212121212,
          0.8968371212121212,
          0.8968371212121212,
          0.8968371212121212,
          0.8968371212121212,
          0.8968371212121212,
          0.8968371212121212,
          0.8968371212121212,
          0.8968371212121212,
          0.8968371212121212,
          0.8968371212121212,
          0.8968371212121212,
          0.8968371212121212,
          0.8968371212121212,
          0.8968371212121212,
          0.8968371212121212,
          0.8968371212121212,
          0.8968371212121212,
          0.8968371212121212,
          0.8968371212121212,
          0.8968371212121212,
          0.8968371212121212,
          0.8968371212121212,
          0.8968371212121212,
          0.8968371212121212,
          0.8968371212121212,
          0.8968371212121212,
          0.8968371212121212,
          0.8968371212121212,
          0.8968371212121212,
          0.8968371212121212,
          0.8968371212121212,
          0.8968371212121212,
          0.8968371212121212,
          0.8968371212121212,
          0.8968371212121212,
          0.8968371212121212,
          0.8968371212121212,
          0.8968371212121212,
          0.8968371212121212,
          0.8968371212121212,
          0.8968371212121212,
          0.8968371212121212,
          0.8968371212121212,
          0.8968371212121212,
          0.8968371212121212,
          0.8968371212121212,
          0.8968371212121212,
          0.8968371212121212,
          0.8968371212121212,
          0.8968371212121212,
          0.8968371212121212,
          0.8968371212121212,
          0.8968371212121212,
          0.8968371212121212,
          0.8968371212121212,
          0.8968371212121212,
          0.8968371212121212,
          0.8968371212121212,
          0.8968371212121212,
          0.8968371212121212,
          0.8968371212121212,
          0.8968371212121212,
          0.8968371212121212,
          0.8968371212121212,
          0.8968371212121212,
          0.8968371212121212,
          0.8968371212121212,
          0.8968371212121212,
          0.8968371212121212,
          0.8968371212121212,
          0.8968371212121212,
          0.8968371212121212,
          0.8968371212121212,
          0.8968371212121212,
          0.8968371212121212,
          0.8968371212121212,
          0.8968371212121212,
          0.8968371212121212,
          0.8968371212121212,
          0.8968371212121212,
          0.8968371212121212,
          0.8968371212121212,
          0.8968371212121212,
          0.8968371212121212,
          0.8968371212121212,
          0.8968371212121212,
          0.8968371212121212,
          0.8968371212121212,
          0.8968371212121212,
          0.8968371212121212,
          0.8968371212121212,
          0.8968371212121212,
          0.8968371212121212,
          0.8968371212121212,
          0.8968371212121212,
          0.8968371212121212,
          0.8968371212121212,
          0.8968371212121212,
          0.8968371212121212,
          0.8968371212121212,
          0.8968371212121212,
          0.8968371212121212,
          0.8968371212121212,
          0.8968371212121212,
          0.8968371212121212,
          0.8968371212121212,
          0.8968371212121212,
          0.8968371212121212,
          0.8968371212121212,
          0.8968371212121212,
          0.8968371212121212,
          0.8968371212121212,
          0.8968371212121212,
          0.8968371212121212,
          0.8968371212121212,
          0.8968371212121212,
          0.8968371212121212,
          0.8968371212121212,
          0.8968371212121212,
          0.8968371212121212,
          0.8968371212121212,
          0.8968371212121212,
          0.8968371212121212,
          0.8968371212121212,
          0.8968371212121212,
          0.8968371212121212,
          0.8968371212121212,
          0.8968371212121212,
          0.8968371212121212,
          0.8968371212121212,
          0.8968371212121212,
          0.8968371212121212,
          0.8968371212121212,
          0.8968371212121212,
          0.8968371212121212,
          0.8968371212121212,
          0.8968371212121212,
          0.8968371212121212,
          0.8968371212121212,
          0.8968371212121212,
          0.8968371212121212,
          0.8968371212121212,
          0.8968371212121212,
          0.8968371212121212,
          0.8968371212121212,
          0.8968371212121212,
          0.8968371212121212,
          0.8968371212121212,
          0.8968371212121212,
          0.8968371212121212,
          0.8968371212121212,
          0.8968371212121212,
          0.8968371212121212,
          0.8968371212121212,
          0.8968371212121212,
          0.8968371212121212,
          0.8968371212121212,
          0.8968371212121212,
          0.8968371212121212,
          0.8968371212121212,
          0.8968371212121212,
          0.8968371212121212,
          0.8968371212121212,
          0.8968371212121212,
          0.8968371212121212,
          0.8968371212121212,
          0.8968371212121212,
          0.8968371212121212,
          0.8968371212121212,
          0.8968371212121212,
          0.8968371212121212,
          0.8968371212121212,
          0.8968371212121212,
          0.8968371212121212,
          0.8968371212121212,
          0.8968371212121212,
          0.8968371212121212,
          0.8968371212121212,
          0.8968371212121212,
          0.8968371212121212,
          0.8968371212121212,
          0.8968371212121212,
          0.8968371212121212,
          0.8968371212121212,
          0.8968371212121212,
          0.8968371212121212,
          0.8968371212121212,
          0.8968371212121212,
          0.8968371212121212,
          0.8968371212121212,
          0.8968371212121212,
          0.8968371212121212,
          0.8968371212121212,
          0.8968371212121212,
          0.8968371212121212,
          0.8968371212121212,
          0.8968371212121212,
          0.8968371212121212,
          0.8968371212121212,
          0.8968371212121212,
          0.8968371212121212,
          0.8968371212121212,
          0.8968371212121212,
          0.8968371212121212,
          0.8968371212121212,
          0.8968371212121212,
          0.8968371212121212,
          0.8968371212121212,
          0.8968371212121212,
          0.8968371212121212,
          0.8968371212121212,
          0.8968371212121212,
          0.8968371212121212,
          0.8968371212121212,
          0.8968371212121212,
          0.8968371212121212,
          0.8968371212121212,
          0.8968371212121212,
          0.8968371212121212,
          0.8968371212121212,
          0.8968371212121212,
          0.8968371212121212,
          0.8968371212121212,
          0.8968371212121212,
          0.8968371212121212,
          0.8968371212121212,
          0.8968371212121212,
          0.8968371212121212,
          0.8968371212121212,
          0.8968371212121212,
          0.8968371212121212,
          0.8968371212121212,
          0.8968371212121212,
          0.8968371212121212,
          0.8968371212121212,
          0.8968371212121212,
          0.8968371212121212,
          0.8968371212121212,
          0.8968371212121212,
          0.8968371212121212,
          0.8968371212121212,
          0.8968371212121212,
          0.8968371212121212,
          0.8968371212121212,
          0.8968371212121212,
          0.8968371212121212,
          0.8968371212121212,
          0.8968371212121212,
          0.8968371212121212,
          0.8968371212121212,
          0.8968371212121212,
          0.8968371212121212,
          0.8968371212121212,
          0.8968371212121212,
          0.8968371212121212,
          0.8968371212121212,
          0.8968371212121212,
          0.8968371212121212,
          0.8968371212121212,
          0.8968371212121212,
          0.8968371212121212,
          0.8968371212121212,
          0.8968371212121212,
          0.8968371212121212,
          0.8968371212121212,
          0.8968371212121212,
          0.8968371212121212,
          0.8968371212121212,
          0.8968371212121212,
          0.8968371212121212,
          0.8968371212121212,
          0.8968371212121212,
          0.8968371212121212,
          0.8968371212121212,
          0.8968371212121212,
          0.8968371212121212,
          0.8968371212121212,
          0.8968371212121212,
          0.8968371212121212,
          0.8968371212121212,
          0.8972664141414142,
          0.8972664141414142,
          0.8972664141414142,
          0.8972664141414142,
          0.8972664141414142,
          0.8972664141414142,
          0.8972664141414142,
          0.8972664141414142,
          0.8972664141414142,
          0.8972664141414142,
          0.8972664141414142,
          0.8972664141414142,
          0.8972664141414142,
          0.8972664141414142,
          0.8972664141414142,
          0.8972664141414142,
          0.8972664141414142,
          0.8972664141414142,
          0.8972664141414142,
          0.8972664141414142,
          0.8972664141414142,
          0.8972664141414142,
          0.8972664141414142,
          0.8972664141414142,
          0.8972664141414142,
          0.8972664141414142,
          0.8972664141414142,
          0.8972664141414142,
          0.8972664141414142,
          0.8972664141414142,
          0.8972664141414142,
          0.8972664141414142,
          0.8972664141414142,
          0.8972664141414142,
          0.8972664141414142,
          0.8972664141414142,
          0.8972664141414142,
          0.8972664141414142,
          0.8972664141414142,
          0.8972664141414142,
          0.8972664141414142,
          0.8972664141414142,
          0.8972664141414142,
          0.8972664141414142,
          0.8972664141414142,
          0.8972664141414142,
          0.8972664141414142,
          0.8972664141414142,
          0.8972664141414142,
          0.8972664141414142,
          0.8972664141414142,
          0.8972664141414142,
          0.8972664141414142,
          0.8972664141414142,
          0.8972664141414142,
          0.8972664141414142,
          0.8972664141414142,
          0.8972664141414142,
          0.8972664141414142,
          0.8972664141414142,
          0.8972664141414142,
          0.8972664141414142,
          0.8972664141414142,
          0.8972664141414142,
          0.8972664141414142,
          0.8972664141414142,
          0.8972664141414142,
          0.8972664141414142,
          0.8972664141414142,
          0.8972664141414142,
          0.8972664141414142,
          0.8972664141414142,
          0.8972664141414142,
          0.8972664141414142,
          0.8972664141414142,
          0.8972664141414142,
          0.8972664141414142,
          0.8972664141414142,
          0.8972664141414142,
          0.8972664141414142,
          0.8972664141414142,
          0.8972664141414142,
          0.8972664141414142,
          0.8972664141414142,
          0.8972664141414142,
          0.8972664141414142,
          0.8972664141414142,
          0.8972664141414142,
          0.8972664141414142,
          0.8972664141414142,
          0.8972664141414142,
          0.8972664141414142,
          0.8972664141414142,
          0.8972664141414142,
          0.8972664141414142,
          0.8972664141414142,
          0.8972664141414142,
          0.8972664141414142,
          0.8972664141414142,
          0.8972664141414142,
          0.8972664141414142,
          0.8972664141414142,
          0.8972664141414142,
          0.8972664141414142,
          0.8972664141414142,
          0.8972664141414142,
          0.8972664141414142
         ]
        },
        {
         "marker": {
          "color": "#cccccc"
         },
         "mode": "markers",
         "name": "Infeasible Trial",
         "showlegend": false,
         "type": "scatter",
         "x": [],
         "y": []
        }
       ],
       "layout": {
        "template": {
         "data": {
          "bar": [
           {
            "error_x": {
             "color": "#2a3f5f"
            },
            "error_y": {
             "color": "#2a3f5f"
            },
            "marker": {
             "line": {
              "color": "#E5ECF6",
              "width": 0.5
             },
             "pattern": {
              "fillmode": "overlay",
              "size": 10,
              "solidity": 0.2
             }
            },
            "type": "bar"
           }
          ],
          "barpolar": [
           {
            "marker": {
             "line": {
              "color": "#E5ECF6",
              "width": 0.5
             },
             "pattern": {
              "fillmode": "overlay",
              "size": 10,
              "solidity": 0.2
             }
            },
            "type": "barpolar"
           }
          ],
          "carpet": [
           {
            "aaxis": {
             "endlinecolor": "#2a3f5f",
             "gridcolor": "white",
             "linecolor": "white",
             "minorgridcolor": "white",
             "startlinecolor": "#2a3f5f"
            },
            "baxis": {
             "endlinecolor": "#2a3f5f",
             "gridcolor": "white",
             "linecolor": "white",
             "minorgridcolor": "white",
             "startlinecolor": "#2a3f5f"
            },
            "type": "carpet"
           }
          ],
          "choropleth": [
           {
            "colorbar": {
             "outlinewidth": 0,
             "ticks": ""
            },
            "type": "choropleth"
           }
          ],
          "contour": [
           {
            "colorbar": {
             "outlinewidth": 0,
             "ticks": ""
            },
            "colorscale": [
             [
              0,
              "#0d0887"
             ],
             [
              0.1111111111111111,
              "#46039f"
             ],
             [
              0.2222222222222222,
              "#7201a8"
             ],
             [
              0.3333333333333333,
              "#9c179e"
             ],
             [
              0.4444444444444444,
              "#bd3786"
             ],
             [
              0.5555555555555556,
              "#d8576b"
             ],
             [
              0.6666666666666666,
              "#ed7953"
             ],
             [
              0.7777777777777778,
              "#fb9f3a"
             ],
             [
              0.8888888888888888,
              "#fdca26"
             ],
             [
              1,
              "#f0f921"
             ]
            ],
            "type": "contour"
           }
          ],
          "contourcarpet": [
           {
            "colorbar": {
             "outlinewidth": 0,
             "ticks": ""
            },
            "type": "contourcarpet"
           }
          ],
          "heatmap": [
           {
            "colorbar": {
             "outlinewidth": 0,
             "ticks": ""
            },
            "colorscale": [
             [
              0,
              "#0d0887"
             ],
             [
              0.1111111111111111,
              "#46039f"
             ],
             [
              0.2222222222222222,
              "#7201a8"
             ],
             [
              0.3333333333333333,
              "#9c179e"
             ],
             [
              0.4444444444444444,
              "#bd3786"
             ],
             [
              0.5555555555555556,
              "#d8576b"
             ],
             [
              0.6666666666666666,
              "#ed7953"
             ],
             [
              0.7777777777777778,
              "#fb9f3a"
             ],
             [
              0.8888888888888888,
              "#fdca26"
             ],
             [
              1,
              "#f0f921"
             ]
            ],
            "type": "heatmap"
           }
          ],
          "heatmapgl": [
           {
            "colorbar": {
             "outlinewidth": 0,
             "ticks": ""
            },
            "colorscale": [
             [
              0,
              "#0d0887"
             ],
             [
              0.1111111111111111,
              "#46039f"
             ],
             [
              0.2222222222222222,
              "#7201a8"
             ],
             [
              0.3333333333333333,
              "#9c179e"
             ],
             [
              0.4444444444444444,
              "#bd3786"
             ],
             [
              0.5555555555555556,
              "#d8576b"
             ],
             [
              0.6666666666666666,
              "#ed7953"
             ],
             [
              0.7777777777777778,
              "#fb9f3a"
             ],
             [
              0.8888888888888888,
              "#fdca26"
             ],
             [
              1,
              "#f0f921"
             ]
            ],
            "type": "heatmapgl"
           }
          ],
          "histogram": [
           {
            "marker": {
             "pattern": {
              "fillmode": "overlay",
              "size": 10,
              "solidity": 0.2
             }
            },
            "type": "histogram"
           }
          ],
          "histogram2d": [
           {
            "colorbar": {
             "outlinewidth": 0,
             "ticks": ""
            },
            "colorscale": [
             [
              0,
              "#0d0887"
             ],
             [
              0.1111111111111111,
              "#46039f"
             ],
             [
              0.2222222222222222,
              "#7201a8"
             ],
             [
              0.3333333333333333,
              "#9c179e"
             ],
             [
              0.4444444444444444,
              "#bd3786"
             ],
             [
              0.5555555555555556,
              "#d8576b"
             ],
             [
              0.6666666666666666,
              "#ed7953"
             ],
             [
              0.7777777777777778,
              "#fb9f3a"
             ],
             [
              0.8888888888888888,
              "#fdca26"
             ],
             [
              1,
              "#f0f921"
             ]
            ],
            "type": "histogram2d"
           }
          ],
          "histogram2dcontour": [
           {
            "colorbar": {
             "outlinewidth": 0,
             "ticks": ""
            },
            "colorscale": [
             [
              0,
              "#0d0887"
             ],
             [
              0.1111111111111111,
              "#46039f"
             ],
             [
              0.2222222222222222,
              "#7201a8"
             ],
             [
              0.3333333333333333,
              "#9c179e"
             ],
             [
              0.4444444444444444,
              "#bd3786"
             ],
             [
              0.5555555555555556,
              "#d8576b"
             ],
             [
              0.6666666666666666,
              "#ed7953"
             ],
             [
              0.7777777777777778,
              "#fb9f3a"
             ],
             [
              0.8888888888888888,
              "#fdca26"
             ],
             [
              1,
              "#f0f921"
             ]
            ],
            "type": "histogram2dcontour"
           }
          ],
          "mesh3d": [
           {
            "colorbar": {
             "outlinewidth": 0,
             "ticks": ""
            },
            "type": "mesh3d"
           }
          ],
          "parcoords": [
           {
            "line": {
             "colorbar": {
              "outlinewidth": 0,
              "ticks": ""
             }
            },
            "type": "parcoords"
           }
          ],
          "pie": [
           {
            "automargin": true,
            "type": "pie"
           }
          ],
          "scatter": [
           {
            "fillpattern": {
             "fillmode": "overlay",
             "size": 10,
             "solidity": 0.2
            },
            "type": "scatter"
           }
          ],
          "scatter3d": [
           {
            "line": {
             "colorbar": {
              "outlinewidth": 0,
              "ticks": ""
             }
            },
            "marker": {
             "colorbar": {
              "outlinewidth": 0,
              "ticks": ""
             }
            },
            "type": "scatter3d"
           }
          ],
          "scattercarpet": [
           {
            "marker": {
             "colorbar": {
              "outlinewidth": 0,
              "ticks": ""
             }
            },
            "type": "scattercarpet"
           }
          ],
          "scattergeo": [
           {
            "marker": {
             "colorbar": {
              "outlinewidth": 0,
              "ticks": ""
             }
            },
            "type": "scattergeo"
           }
          ],
          "scattergl": [
           {
            "marker": {
             "colorbar": {
              "outlinewidth": 0,
              "ticks": ""
             }
            },
            "type": "scattergl"
           }
          ],
          "scattermapbox": [
           {
            "marker": {
             "colorbar": {
              "outlinewidth": 0,
              "ticks": ""
             }
            },
            "type": "scattermapbox"
           }
          ],
          "scatterpolar": [
           {
            "marker": {
             "colorbar": {
              "outlinewidth": 0,
              "ticks": ""
             }
            },
            "type": "scatterpolar"
           }
          ],
          "scatterpolargl": [
           {
            "marker": {
             "colorbar": {
              "outlinewidth": 0,
              "ticks": ""
             }
            },
            "type": "scatterpolargl"
           }
          ],
          "scatterternary": [
           {
            "marker": {
             "colorbar": {
              "outlinewidth": 0,
              "ticks": ""
             }
            },
            "type": "scatterternary"
           }
          ],
          "surface": [
           {
            "colorbar": {
             "outlinewidth": 0,
             "ticks": ""
            },
            "colorscale": [
             [
              0,
              "#0d0887"
             ],
             [
              0.1111111111111111,
              "#46039f"
             ],
             [
              0.2222222222222222,
              "#7201a8"
             ],
             [
              0.3333333333333333,
              "#9c179e"
             ],
             [
              0.4444444444444444,
              "#bd3786"
             ],
             [
              0.5555555555555556,
              "#d8576b"
             ],
             [
              0.6666666666666666,
              "#ed7953"
             ],
             [
              0.7777777777777778,
              "#fb9f3a"
             ],
             [
              0.8888888888888888,
              "#fdca26"
             ],
             [
              1,
              "#f0f921"
             ]
            ],
            "type": "surface"
           }
          ],
          "table": [
           {
            "cells": {
             "fill": {
              "color": "#EBF0F8"
             },
             "line": {
              "color": "white"
             }
            },
            "header": {
             "fill": {
              "color": "#C8D4E3"
             },
             "line": {
              "color": "white"
             }
            },
            "type": "table"
           }
          ]
         },
         "layout": {
          "annotationdefaults": {
           "arrowcolor": "#2a3f5f",
           "arrowhead": 0,
           "arrowwidth": 1
          },
          "autotypenumbers": "strict",
          "coloraxis": {
           "colorbar": {
            "outlinewidth": 0,
            "ticks": ""
           }
          },
          "colorscale": {
           "diverging": [
            [
             0,
             "#8e0152"
            ],
            [
             0.1,
             "#c51b7d"
            ],
            [
             0.2,
             "#de77ae"
            ],
            [
             0.3,
             "#f1b6da"
            ],
            [
             0.4,
             "#fde0ef"
            ],
            [
             0.5,
             "#f7f7f7"
            ],
            [
             0.6,
             "#e6f5d0"
            ],
            [
             0.7,
             "#b8e186"
            ],
            [
             0.8,
             "#7fbc41"
            ],
            [
             0.9,
             "#4d9221"
            ],
            [
             1,
             "#276419"
            ]
           ],
           "sequential": [
            [
             0,
             "#0d0887"
            ],
            [
             0.1111111111111111,
             "#46039f"
            ],
            [
             0.2222222222222222,
             "#7201a8"
            ],
            [
             0.3333333333333333,
             "#9c179e"
            ],
            [
             0.4444444444444444,
             "#bd3786"
            ],
            [
             0.5555555555555556,
             "#d8576b"
            ],
            [
             0.6666666666666666,
             "#ed7953"
            ],
            [
             0.7777777777777778,
             "#fb9f3a"
            ],
            [
             0.8888888888888888,
             "#fdca26"
            ],
            [
             1,
             "#f0f921"
            ]
           ],
           "sequentialminus": [
            [
             0,
             "#0d0887"
            ],
            [
             0.1111111111111111,
             "#46039f"
            ],
            [
             0.2222222222222222,
             "#7201a8"
            ],
            [
             0.3333333333333333,
             "#9c179e"
            ],
            [
             0.4444444444444444,
             "#bd3786"
            ],
            [
             0.5555555555555556,
             "#d8576b"
            ],
            [
             0.6666666666666666,
             "#ed7953"
            ],
            [
             0.7777777777777778,
             "#fb9f3a"
            ],
            [
             0.8888888888888888,
             "#fdca26"
            ],
            [
             1,
             "#f0f921"
            ]
           ]
          },
          "colorway": [
           "#636efa",
           "#EF553B",
           "#00cc96",
           "#ab63fa",
           "#FFA15A",
           "#19d3f3",
           "#FF6692",
           "#B6E880",
           "#FF97FF",
           "#FECB52"
          ],
          "font": {
           "color": "#2a3f5f"
          },
          "geo": {
           "bgcolor": "white",
           "lakecolor": "white",
           "landcolor": "#E5ECF6",
           "showlakes": true,
           "showland": true,
           "subunitcolor": "white"
          },
          "hoverlabel": {
           "align": "left"
          },
          "hovermode": "closest",
          "mapbox": {
           "style": "light"
          },
          "paper_bgcolor": "white",
          "plot_bgcolor": "#E5ECF6",
          "polar": {
           "angularaxis": {
            "gridcolor": "white",
            "linecolor": "white",
            "ticks": ""
           },
           "bgcolor": "#E5ECF6",
           "radialaxis": {
            "gridcolor": "white",
            "linecolor": "white",
            "ticks": ""
           }
          },
          "scene": {
           "xaxis": {
            "backgroundcolor": "#E5ECF6",
            "gridcolor": "white",
            "gridwidth": 2,
            "linecolor": "white",
            "showbackground": true,
            "ticks": "",
            "zerolinecolor": "white"
           },
           "yaxis": {
            "backgroundcolor": "#E5ECF6",
            "gridcolor": "white",
            "gridwidth": 2,
            "linecolor": "white",
            "showbackground": true,
            "ticks": "",
            "zerolinecolor": "white"
           },
           "zaxis": {
            "backgroundcolor": "#E5ECF6",
            "gridcolor": "white",
            "gridwidth": 2,
            "linecolor": "white",
            "showbackground": true,
            "ticks": "",
            "zerolinecolor": "white"
           }
          },
          "shapedefaults": {
           "line": {
            "color": "#2a3f5f"
           }
          },
          "ternary": {
           "aaxis": {
            "gridcolor": "white",
            "linecolor": "white",
            "ticks": ""
           },
           "baxis": {
            "gridcolor": "white",
            "linecolor": "white",
            "ticks": ""
           },
           "bgcolor": "#E5ECF6",
           "caxis": {
            "gridcolor": "white",
            "linecolor": "white",
            "ticks": ""
           }
          },
          "title": {
           "x": 0.05
          },
          "xaxis": {
           "automargin": true,
           "gridcolor": "white",
           "linecolor": "white",
           "ticks": "",
           "title": {
            "standoff": 15
           },
           "zerolinecolor": "white",
           "zerolinewidth": 2
          },
          "yaxis": {
           "automargin": true,
           "gridcolor": "white",
           "linecolor": "white",
           "ticks": "",
           "title": {
            "standoff": 15
           },
           "zerolinecolor": "white",
           "zerolinewidth": 2
          }
         }
        },
        "title": {
         "text": "Optimization History Plot"
        },
        "xaxis": {
         "title": {
          "text": "Trial"
         }
        },
        "yaxis": {
         "title": {
          "text": "Objective Value"
         }
        }
       }
      }
     },
     "metadata": {},
     "output_type": "display_data"
    }
   ],
   "source": [
    "# Graficar el historial de optimización\n",
    "\n",
    "vis.plot_optimization_history(study).show()"
   ]
  },
  {
   "cell_type": "markdown",
   "metadata": {},
   "source": [
    "#### Potenciación de gradiente"
   ]
  },
  {
   "cell_type": "code",
   "execution_count": 38,
   "metadata": {},
   "outputs": [],
   "source": [
    "# Crear el modelo de CatBoost\n",
    "model_cat = CatBoostClassifier(\n",
    "    learning_rate=0.02,\n",
    "    depth=7,\n",
    "    random_seed=12345,\n",
    "    iterations=500,\n",
    "    loss_function='Logloss',  # Pérdida adecuada para clasificación binaria\n",
    "    eval_metric='AUC',        # Métrica de evaluación correcta\n",
    "    verbose=50\n",
    ")"
   ]
  },
  {
   "cell_type": "code",
   "execution_count": 39,
   "metadata": {},
   "outputs": [
    {
     "name": "stdout",
     "output_type": "stream",
     "text": [
      "0:\ttotal: 5.03ms\tremaining: 2.51s\n",
      "50:\ttotal: 162ms\tremaining: 1.42s\n",
      "100:\ttotal: 312ms\tremaining: 1.23s\n",
      "150:\ttotal: 461ms\tremaining: 1.06s\n",
      "200:\ttotal: 613ms\tremaining: 912ms\n",
      "250:\ttotal: 764ms\tremaining: 757ms\n",
      "300:\ttotal: 915ms\tremaining: 605ms\n",
      "350:\ttotal: 1.06s\tremaining: 450ms\n",
      "400:\ttotal: 1.21s\tremaining: 299ms\n",
      "450:\ttotal: 1.36s\tremaining: 148ms\n",
      "499:\ttotal: 1.5s\tremaining: 0us\n",
      "\n",
      "Mejor AUC-ROC score en el conjunto de validación: 0.8914\n",
      "Mejor accuracy score en el conjunto de validación: 0.8969\n",
      "Mejor AUC-ROC score en el conjunto de entrenamiento: 0.9998\n",
      "Mejor accuracy score en el conjunto de entrenamiento: 0.9794\n",
      "Tiempo de ejecución:1.5964276790618896s\n"
     ]
    }
   ],
   "source": [
    "# Entrenar el modelo\n",
    "start_time = time.time()\n",
    "model_cat.fit(features_upsampled_ord, target_upsampled_ord, cat_features=None)\n",
    "\n",
    "# Obtener probabilidades sobre el conjunto de entrenamiento\n",
    "pred_train_proba = model_cat.predict_proba(features_upsampled_ord)[:, 1]\n",
    "pred_train = model_cat.predict(features_upsampled_ord)\n",
    "\n",
    "# Obtener probabilidades sobre el conjunto de validación\n",
    "preds_proba = model_cat.predict_proba(features_valid_ord)[:, 1]\n",
    "pred = model_cat.predict(features_valid_ord)\n",
    "\n",
    "# Calcular la curva ROC\n",
    "fpr_cat, tpr_cat, thresholds_cat = roc_curve(\n",
    "    target_valid_ord, preds_proba)\n",
    "\n",
    "# Calcular AUC-ROC\n",
    "auc_score_cat = roc_auc_score(target_valid_ord, preds_proba)\n",
    "acc_score_cat = accuracy_score(target_valid_ord, pred)\n",
    "auc_score_train_cat = roc_auc_score(target_upsampled_ord, pred_train_proba)\n",
    "acc_score_train_cat = accuracy_score(target_upsampled_ord, pred_train)\n",
    "\n",
    "print()\n",
    "print(f\"Mejor AUC-ROC score en el conjunto de validación: {auc_score_cat:.4f}\")\n",
    "print(f\"Mejor accuracy score en el conjunto de validación: {acc_score_cat:.4f}\")\n",
    "print(f\"Mejor AUC-ROC score en el conjunto de entrenamiento: {auc_score_train_cat:.4f}\")\n",
    "print(f\"Mejor accuracy score en el conjunto de entrenamiento: {acc_score_train_cat:.4f}\")\n",
    "print('Tiempo de ejecución:' + str((time.time() - start_time)) + 's')"
   ]
  },
  {
   "cell_type": "code",
   "execution_count": 40,
   "metadata": {},
   "outputs": [
    {
     "data": {
      "image/png": "[encoded data removed]",
      "text/plain": [
       "<Figure size 640x480 with 1 Axes>"
      ]
     },
     "metadata": {},
     "output_type": "display_data"
    }
   ],
   "source": [
    "# Gráfica de la curva AUC-ROC\n",
    "    \n",
    "plt.figure()\n",
    "plt.plot(fpr_cat, tpr_cat, color='darkorange', lw=2, label='Curva AUC-ROC (área = %0.4f)' % study.best_value)\n",
    "plt.plot([0, 1], [0, 1], color='navy', lw=2, linestyle='--')\n",
    "plt.xlim([0.0, 1.0])\n",
    "plt.ylim([0.0, 1.0])\n",
    "plt.xlabel('Tasa de falsos positivos')\n",
    "plt.ylabel('Tasa de verdaderos positivos')\n",
    "plt.title('Curva AUC-ROC del mejor modelo')\n",
    "plt.legend(loc='lower right')\n",
    "plt.show()"
   ]
  },
  {
   "cell_type": "markdown",
   "metadata": {},
   "source": [
    "#### CatBoost y Optuna"
   ]
  },
  {
   "cell_type": "code",
   "execution_count": 43,
   "metadata": {},
   "outputs": [],
   "source": [
    "# Configurar el nivel de registro de Optuna a WARNING para reducir la verbosidad \n",
    "optuna.logging.set_verbosity(optuna.logging.WARNING)\n",
    "\n",
    "# Definir el número de iteraciones para early stopping\n",
    "early_stopping_rounds = 50  # Número de iteraciones consecutivas sin mejora permitidas\n",
    "\n",
    "def optuna_catboost(trial):\n",
    "    # Definir los hiperparámetros que Optuna optimizará\n",
    "    param = {\n",
    "        'learning_rate': trial.suggest_float(\"learning_rate\", 0.01, 0.02, step=0.001),\n",
    "        'depth': trial.suggest_int('depth', 7, 10),\n",
    "        'l2_leaf_reg': trial.suggest_float('l2_leaf_reg', 1.0, 5.5, step=0.5),\n",
    "        'grow_policy': 'Depthwise',\n",
    "        'iterations': 4000,\n",
    "        'use_best_model': True,\n",
    "        'eval_metric': 'AUC',\n",
    "        'loss_function': 'Logloss',\n",
    "        'od_type': 'Iter',\n",
    "        'od_wait': early_stopping_rounds,\n",
    "        'random_state': 12345,\n",
    "        'logging_level': 'Silent'\n",
    "    }\n",
    "\n",
    "    # Inicializar el modelo de clasificación con los hiperparámetros definidos\n",
    "    cat_classifier = CatBoostClassifier(**param)\n",
    "\n",
    "    # Configurar la validación cruzada\n",
    "    cv = StratifiedKFold(n_splits=5, shuffle=True, random_state=12345)\n",
    "\n",
    "    auc_scores = []\n",
    "\n",
    "    # Iterar sobre cada fold de la validación cruzada\n",
    "    for train_idx, valid_idx in cv.split(features_upsampled_ord, target_upsampled_ord):\n",
    "        X_train, X_valid = features_upsampled_ord.iloc[train_idx], features_upsampled_ord.iloc[valid_idx]\n",
    "        y_train, y_valid = target_upsampled_ord.iloc[train_idx], target_upsampled_ord.iloc[valid_idx]\n",
    "\n",
    "        # Entrenar el modelo con early stopping\n",
    "        cat_classifier.fit(\n",
    "            X_train, y_train,\n",
    "            eval_set=(X_valid, y_valid),\n",
    "            early_stopping_rounds=early_stopping_rounds,\n",
    "            verbose=False  # Silenciar la salida durante el entrenamiento\n",
    "        )\n",
    "\n",
    "    # Predecir probabilidades en el conjunto de validación\n",
    "    preds_proba = cat_classifier.predict_proba(features_valid_ord)[:, 1]\n",
    "\n",
    "    # Calcular el AUC-ROC para el conjunto de validación\n",
    "    auc_valid = roc_auc_score(target_valid_ord, preds_proba)\n",
    "    auc_scores.append(auc_valid)\n",
    "\n",
    "    # Calcular el promedio del AUC-ROC a través de todos los folds\n",
    "    mean_auc = np.mean(auc_scores)\n",
    "\n",
    "    return mean_auc\n"
   ]
  },
  {
   "cell_type": "code",
   "execution_count": 44,
   "metadata": {},
   "outputs": [
    {
     "name": "stdout",
     "output_type": "stream",
     "text": [
      "Mejores hiperparámetros: {'learning_rate': 0.017, 'depth': 9, 'l2_leaf_reg': 5.5}\n",
      "AUC-ROC en el conjunto de validación: 0.8856\n",
      "Accuracy Score en el conjunto de validación: 0.8784\n",
      "AUC-ROC en el conjunto de entrenamiento: 0.9969\n",
      "Accuracy Score en el conjunto de entrenamiento: 0.9611\n",
      "Tiempo de ejecución:2.631594657897949s\n"
     ]
    }
   ],
   "source": [
    "# Configurar y ejecutar el estudio de Optuna\n",
    "study = optuna.create_study(direction='maximize', sampler=optuna.samplers.TPESampler(seed=12345))\n",
    "# Puedes ajustar n_trials y timeout según tus necesidades\n",
    "study.optimize(optuna_catboost, n_trials=500, timeout=600)\n",
    "\n",
    "# Obtener los mejores hiperparámetros\n",
    "best_params = study.best_params\n",
    "\n",
    "# Entrenar el modelo con los mejores hiperparámetros\n",
    "model_cat = CatBoostClassifier(\n",
    "    **best_params,\n",
    "    iterations=500,\n",
    "    use_best_model=True,\n",
    "    eval_metric='AUC',\n",
    "    loss_function='Logloss',\n",
    "    od_type='Iter',\n",
    "    od_wait=early_stopping_rounds,\n",
    "    random_state=12345,\n",
    "    logging_level='Silent'\n",
    ")\n",
    "\n",
    "# Entrenar el modelo final\n",
    "start_time = time.time()\n",
    "model_cat.fit(features_upsampled_ord, target_upsampled_ord, eval_set=(features_valid_ord, target_valid_ord))\n",
    "\n",
    "# Obtener probabilidades y predicciones sobre el conjunto de validación\n",
    "preds_valid_proba = model_cat.predict_proba(features_valid_ord)[:, 1]\n",
    "preds_valid = model_cat.predict(features_valid_ord)\n",
    "\n",
    "# Obtener probabilidades y predicciones sobre el conjunto de entrenamiento\n",
    "preds_train_proba = model_cat.predict_proba(features_upsampled_ord)[:, 1]\n",
    "preds_train = model_cat.predict(features_upsampled_ord)\n",
    "\n",
    "# Calcular la curva ROC\n",
    "fpr_cat_opt, tpr_cat_opt, thresholds_cat_opt = roc_curve(\n",
    "    target_valid_ord, preds_valid_proba)\n",
    "\n",
    "# Calcular las métricas para el conjunto de validación\n",
    "auc_valid = roc_auc_score(target_valid_ord, preds_valid_proba)\n",
    "acc_valid = accuracy_score(target_valid_ord, preds_valid)\n",
    "\n",
    "# Calcular las métricas para el conjunto de entrenamiento\n",
    "auc_train = roc_auc_score(target_upsampled_ord, preds_train_proba)\n",
    "acc_train = accuracy_score(target_upsampled_ord, preds_train)\n",
    "\n",
    "print(f\"Mejores hiperparámetros: {best_params}\")\n",
    "print(f\"AUC-ROC en el conjunto de validación: {auc_valid:.4f}\")\n",
    "print(f\"Accuracy Score en el conjunto de validación: {acc_valid:.4f}\")\n",
    "print(f\"AUC-ROC en el conjunto de entrenamiento: {auc_train:.4f}\")\n",
    "print(f\"Accuracy Score en el conjunto de entrenamiento: {acc_train:.4f}\")\n",
    "print('Tiempo de ejecución:' + str((time.time() - start_time)) + 's')"
   ]
  },
  {
   "cell_type": "code",
   "execution_count": 45,
   "metadata": {},
   "outputs": [
    {
     "data": {
      "image/png": "[encoded data removed]",
      "text/plain": [
       "<Figure size 640x480 with 1 Axes>"
      ]
     },
     "metadata": {},
     "output_type": "display_data"
    }
   ],
   "source": [
    "# Gráfica de la curva AUC-ROC\n",
    "\n",
    "plt.figure()\n",
    "plt.plot(fpr_cat_opt, tpr_cat_opt, color='darkorange', lw=2, label='Curva AUC-ROC (área = %0.4f)' % study.best_value)\n",
    "plt.plot([0, 1], [0, 1], color='navy', lw=2, linestyle='--')\n",
    "plt.xlim([0.0, 1.0])\n",
    "plt.ylim([0.0, 1.0])\n",
    "plt.xlabel('Tasa de falsos positivos')\n",
    "plt.ylabel('Tasa de verdaderos positivos')\n",
    "plt.title('Curva AUC-ROC del mejor modelo')\n",
    "plt.legend(loc='lower right')\n",
    "plt.show()"
   ]
  },
  {
   "cell_type": "markdown",
   "metadata": {},
   "source": [
    "## Comparación de modelos"
   ]
  },
  {
   "cell_type": "markdown",
   "metadata": {},
   "source": [
    "Los siguientes cuadros concentran la información obtenida de los modelos creados y optimizados:\n",
    "\n",
    "|            Modelos               | Conjunto entrenamiento | Conjunto validación |     Tiempo    |\n",
    "|:--------------------------------:|:----------------------:|:-------------------:|:-------------:|\n",
    "| Regresión logística (cuadricula) |    AUC-ROC = 0.8678    |   AUC-ROC = 0.8614  |     1.3084    |\n",
    "| Regresión logística (cuadricula) |      acc = 0.7853      |      acc = 0.7443   |     1.3084    |\n",
    "| Regresión logística (aleatorio)  |    AUC-ROC = 0.8678    |   AUC-ROC = 0.8614  |     1.2783    |\n",
    "| Regresión logística (aleatorio)  |      acc = 0.7853      |      acc = 0.7443   |     1.2783    |\n",
    "\n",
    "Se observó que en este caso la regresión logística que utilizó la optimización de hiperparámetros en cuadrícula logro los mismos resultados que en la busqueda aleatoria, pero de forma más rápida, lo cual se puede deber a que el intervalo introducido en la cuadrícula fue el adecuado para favorecer la optimización, ya que de otra forma la busqueda aleatoria hubiera sido más eficiente."
   ]
  },
  {
   "cell_type": "markdown",
   "metadata": {},
   "source": [
    "|            Modelos               |     Conjunto entrenamiento     |       Conjunto validación       | Tiempo |\n",
    "|:--------------------------------:|:------------------------------:|:-------------------------------:|:------:|\n",
    "| Bosque aleatorio de clasificación|     AUC-ROC = 1.0, acc = 1.0   |  AUC-ROC = 0.8865, acc = 0.9298 | 0.5676 |\n",
    "|            GridSearchCV          | AUC-ROC = 0.9894, acc = 0.9498 |  AUC-ROC = 0.8865, acc = 0.9298 | 0.5676 |\n",
    "|              Optuna              | AUC-ROC = 0.9108, acc = 0.8149 |  AUC-ROC = 0.8973, acc = 0.7887 | 30.9300|\n",
    "|    Potenciación de gradiente     | AUC-ROC = 0.9998, acc = 0.9794 |  AUC_ROC = 0.8914, acc = 0.8969 | 1.5964 |\n",
    "|        CatBoost y Optuna         | AUC-ROC = 0.9969, acc = 0.9611 |  AUC-ROC = 0.8856, acc = 0.8784 | 2.6315 |"
   ]
  },
  {
   "cell_type": "markdown",
   "metadata": {},
   "source": [
    "Se puede observar que los modelos de bosque aleatorio de clasificación es más eficiente para predecir la cancelación del servicio del los usuarios, siendo el modelo de potenciación de gradiente utilizando catbost aquel que proporciono los mejores resultados ya que el tiempo de ejecución es corto y por otra parte fue aquel lque aporto métricas de AUC-ROC y accuracy score más altos considerando que entre si tienen una relación cercana indicando robustez y con un grado similiar de overfitting en comparación a CatBoost y Optuna cuando se utilizan de forma conjunta. Por lo que se decidio utilizar dicho modelo para realizar la predicción en el conjunto de test."
   ]
  }
 ],
 "metadata": {
  "kernelspec": {
   "display_name": "EnsamblesCatBoost",
   "language": "python",
   "name": "python3"
  },
  "language_info": {
   "codemirror_mode": {
    "name": "ipython",
    "version": 3
   },
   "file_extension": ".py",
   "mimetype": "text/x-python",
   "name": "python",
   "nbconvert_exporter": "python",
   "pygments_lexer": "ipython3",
   "version": "3.11.9"
  }
 },
 "nbformat": 4,
 "nbformat_minor": 2
}
