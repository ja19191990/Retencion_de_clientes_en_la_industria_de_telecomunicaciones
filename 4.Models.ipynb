{
 "cells": [
  {
   "cell_type": "markdown",
   "metadata": {},
   "source": [
    "## Importar"
   ]
  },
  {
   "cell_type": "code",
   "execution_count": 1,
   "metadata": {},
   "outputs": [
    {
     "name": "stderr",
     "output_type": "stream",
     "text": [
      "c:\\Users\\LENOVO\\anaconda3\\envs\\EnsamblesCatBoost\\Lib\\site-packages\\tqdm\\auto.py:21: TqdmWarning: IProgress not found. Please update jupyter and ipywidgets. See https://ipywidgets.readthedocs.io/en/stable/user_install.html\n",
      "  from .autonotebook import tqdm as notebook_tqdm\n"
     ]
    }
   ],
   "source": [
    "import numpy as np\n",
    "import pandas as pd\n",
    "import os \n",
    "import sys\n",
    "import matplotlib.pyplot as plt\n",
    "\n",
    "from sklearn.linear_model import LogisticRegression\n",
    "from sklearn.ensemble import RandomForestClassifier\n",
    "from sklearn.metrics import roc_curve\n",
    "from sklearn.metrics import roc_auc_score\n",
    "\n",
    "from sklearn.model_selection import GridSearchCV\n",
    "import optuna\n",
    "import optuna.visualization as vis\n",
    "from catboost import CatBoostClassifier\n",
    "\n",
    "from Classes.dataframe_manager import DataFrameManager\n",
    "\n",
    "from sklearn.model_selection import cross_val_score\n",
    "from sklearn.model_selection import cross_val_predict, StratifiedKFold\n",
    "import time\n",
    "from sklearn.model_selection import RandomizedSearchCV"
   ]
  },
  {
   "cell_type": "markdown",
   "metadata": {},
   "source": [
    "## Leer datos"
   ]
  },
  {
   "cell_type": "code",
   "execution_count": 2,
   "metadata": {},
   "outputs": [],
   "source": [
    "# Asegurar que el directorio del proyecto esté en sys.path\n",
    "project_root = os.getcwd()\n",
    "if project_root not in sys.path:\n",
    "    sys.path.append(project_root)"
   ]
  },
  {
   "cell_type": "code",
   "execution_count": 3,
   "metadata": {},
   "outputs": [
    {
     "name": "stdout",
     "output_type": "stream",
     "text": [
      "DataFrame 'features_upsampled' cargado exitosamente en el administrador.\n",
      "DataFrame 'features_valid' cargado exitosamente en el administrador.\n",
      "DataFrame 'features_upsampled_ord' cargado exitosamente en el administrador.\n",
      "DataFrame 'features_valid_ord' cargado exitosamente en el administrador.\n",
      "DataFrame 'target_upsampled' cargado exitosamente en el administrador.\n",
      "DataFrame 'target_valid' cargado exitosamente en el administrador.\n",
      "DataFrame 'target_upsampled_ord' cargado exitosamente en el administrador.\n",
      "DataFrame 'target_valid_ord' cargado exitosamente en el administrador.\n"
     ]
    }
   ],
   "source": [
    "# Carga de dataframes utilizando la clase DataFrameManager\n",
    "manager = DataFrameManager()\n",
    "manager.load_multiple([\n",
    "    'features_upsampled',\n",
    "    'features_valid',\n",
    "    'features_upsampled_ord',\n",
    "    'features_valid_ord',\n",
    "    #'features_train_ord',\n",
    "    'target_upsampled',\n",
    "    'target_valid',\n",
    "    'target_upsampled_ord',\n",
    "    'target_valid_ord'\n",
    "    #'target_train_ord'\n",
    "])"
   ]
  },
  {
   "cell_type": "code",
   "execution_count": 4,
   "metadata": {},
   "outputs": [],
   "source": [
    "# Asignar cada dataframe a una variable con su nombre para utilizarla en el notebook\n",
    "\n",
    "features_upsampled = manager.get_dataframe('features_upsampled')\n",
    "features_valid = manager.get_dataframe('features_valid')\n",
    "features_upsampled_ord = manager.get_dataframe('features_upsampled_ord')\n",
    "features_valid_ord = manager.get_dataframe('features_valid_ord')\n",
    "target_upsampled = manager.get_dataframe('target_upsampled')\n",
    "target_valid = manager.get_dataframe('target_valid')\n",
    "target_upsampled_ord = manager.get_dataframe('target_upsampled_ord')\n",
    "target_valid_ord = manager.get_dataframe('target_valid_ord')\n",
    "#features_train_ord = manager.get_dataframe('features_train_ord')\n",
    "#target_train_ord = manager.get_dataframe('target_train_ord')"
   ]
  },
  {
   "cell_type": "markdown",
   "metadata": {},
   "source": [
    "## Creación de modelos"
   ]
  },
  {
   "cell_type": "markdown",
   "metadata": {},
   "source": [
    "### Regresión logística"
   ]
  },
  {
   "cell_type": "markdown",
   "metadata": {},
   "source": [
    "#### Busqueda en cuadrícula de hiperparámetros"
   ]
  },
  {
   "cell_type": "code",
   "execution_count": 5,
   "metadata": {},
   "outputs": [],
   "source": [
    "# Definir los valores de cuadrícula de los hiperparámetros\n",
    "dual = [True, False]\n",
    "max_iter = [10000, 15000, 20000, 25000, 30000]\n",
    "param_grid = dict(dual=dual, max_iter=max_iter)"
   ]
  },
  {
   "cell_type": "code",
   "execution_count": 6,
   "metadata": {},
   "outputs": [],
   "source": [
    "# Crear modelo\n",
    "model_lr = LogisticRegression(penalty='l2', \n",
    "                              solver='liblinear',\n",
    "                              random_state=12345)\n",
    "\n",
    "# Crear cuadrícula\n",
    "grid = GridSearchCV(estimator=model_lr, \n",
    "                    param_grid=param_grid,\n",
    "                    cv=5)"
   ]
  },
  {
   "cell_type": "code",
   "execution_count": 7,
   "metadata": {},
   "outputs": [
    {
     "name": "stdout",
     "output_type": "stream",
     "text": [
      "El AUC-ROC score al usar la busqueda en cuadrícula y validación cruzada fue de : 0.8614772727272728\n",
      "Tiempo de ejecución:1.9130280017852783ms\n"
     ]
    }
   ],
   "source": [
    "# Convierte a 1D si era 2D\n",
    "target_upsampled = target_upsampled.squeeze()\n",
    "\n",
    "# Entrenar modelo\n",
    "start_time = time.time()\n",
    "grid_result = grid.fit(features_upsampled, target_upsampled)\n",
    "probabilities_valid = grid_result.predict_proba(features_valid)\n",
    "probabilities_one_valid = probabilities_valid[:, 1]\n",
    "fpr, tpr, thresholds = roc_curve(target_valid, probabilities_one_valid)\n",
    "auc_roc_lr_grid = roc_auc_score(target_valid, probabilities_one_valid)\n",
    "print('El AUC-ROC score al usar la busqueda en cuadrícula y validación cruzada fue de :', auc_roc_lr_grid)\n",
    "print('Tiempo de ejecución:' + str((time.time() - start_time)) + 'ms')"
   ]
  },
  {
   "cell_type": "code",
   "execution_count": 8,
   "metadata": {},
   "outputs": [],
   "source": [
    "# model_lr = LogisticRegression(solver='liblinear', random_state=12345)\n",
    "# target_upsampled = target_upsampled.squeeze()  # Convierte a 1D si era 2D\n",
    "# model_lr.fit(features_upsampled, target_upsampled)\n",
    "# probabilities_valid = model_lr.predict_proba(features_valid)\n",
    "# probabilities_one_valid = probabilities_valid[:, 1]\n",
    "# fpr, tpr, thresholds = roc_curve(target_valid, probabilities_one_valid)\n",
    "# auc_roc_lr_sin_cv = roc_auc_score(target_valid, probabilities_one_valid)\n",
    "# print('El AUC-ROC score fue de :', auc_roc_lr_sin_cv)"
   ]
  },
  {
   "cell_type": "markdown",
   "metadata": {},
   "source": [
    "#### Busqueda aleatorio de hiperparámetros"
   ]
  },
  {
   "cell_type": "code",
   "execution_count": 9,
   "metadata": {},
   "outputs": [
    {
     "name": "stdout",
     "output_type": "stream",
     "text": [
      "El AUC-ROC score al usar la busqueda en cuadrícula y validación cruzada fue de : 0.8614772727272728\n",
      "Tiempo de ejecución:1.8976120948791504ms\n"
     ]
    }
   ],
   "source": [
    "model_lr_random = RandomizedSearchCV(estimator=model_lr, param_distributions=param_grid, cv=5)\n",
    "# Convierte a 1D si era 2D\n",
    "target_upsampled = target_upsampled.squeeze()\n",
    "# Entrenar modelo\n",
    "start_time = time.time()\n",
    "grid_result_rdm = grid.fit(features_upsampled, target_upsampled)\n",
    "probabilities_valid_rdm = grid_result_rdm.predict_proba(features_valid)\n",
    "probabilities_one_valid_rdm = probabilities_valid_rdm[:, 1]\n",
    "fpr_rdm, tpr_rdm, thresholds_rdm = roc_curve(\n",
    "    target_valid, probabilities_one_valid_rdm)\n",
    "auc_roc_lr_rdm = roc_auc_score(target_valid, probabilities_one_valid_rdm)\n",
    "print('El AUC-ROC score al usar la busqueda en cuadrícula y validación cruzada fue de :', auc_roc_lr_rdm)\n",
    "print('Tiempo de ejecución:' + str((time.time() - start_time)) + 'ms')"
   ]
  },
  {
   "cell_type": "code",
   "execution_count": 10,
   "metadata": {},
   "outputs": [],
   "source": [
    "# # Configurar la validación cruzada (StratifiedKFold asegura equilibrio en las clases por fold)\n",
    "# cv = StratifiedKFold(n_splits=8, shuffle=True, random_state=12345)\n",
    "\n",
    "# # Obtener las probabilidades predichas usando validación cruzada sobre el conjunto de entrenamiento\n",
    "# probabilities_train_cv = cross_val_predict(\n",
    "#     model_lr,\n",
    "#     features_upsampled,  # Conjunto de entrenamiento sobremuestreado\n",
    "#     target_upsampled,    # Etiquetas del entrenamiento sobremuestreado\n",
    "#     cv=cv,\n",
    "#     method='predict_proba'\n",
    "# )\n",
    "\n",
    "# # Entrenar el modelo completo en el conjunto de entrenamiento sobremuestreado\n",
    "# model_lr.fit(features_upsampled, target_upsampled)\n",
    "\n",
    "# # Predecir probabilidades en el conjunto de validación\n",
    "# probabilities_valid_cv = model_lr.predict_proba(features_valid)[:, 1]\n",
    "\n",
    "# # Calcular la curva ROC usando las probabilidades de la validación cruzada\n",
    "# fpr_cv, tpr_cv, thresholds_cv = roc_curve(\n",
    "#     target_upsampled, probabilities_train_cv[:, 1])\n",
    "# auc_roc_cv = roc_auc_score(target_upsampled, probabilities_train_cv[:, 1])\n",
    "# print('El AUC-ROC score con validación cruzada fue de:', auc_roc_cv)\n",
    "\n",
    "# # Calcular la curva ROC usando el conjunto de validación\n",
    "# fpr_valid_cv, tpr_valid_cv, thresholds_valid_cv = roc_curve(\n",
    "#     target_valid, probabilities_valid_cv)\n",
    "\n",
    "# # Calcular el AUC-ROC score en el conjunto de validación\n",
    "# auc_roc_lr_valid_cv = roc_auc_score(target_valid, probabilities_valid_cv)\n",
    "# print('El AUC-ROC score en el conjunto de validación fue de:', auc_roc_lr_valid_cv)"
   ]
  },
  {
   "cell_type": "code",
   "execution_count": 11,
   "metadata": {},
   "outputs": [],
   "source": [
    "# # Configurar la validación cruzada (StratifiedKFold asegura equilibrio en las clases por fold)\n",
    "# cv = StratifiedKFold(n_splits=8, shuffle=True, random_state=12345)\n",
    "\n",
    "# # Obtener las probabilidades predichas usando validación cruzada sobre el conjunto de entrenamiento\n",
    "# probabilities_train_cv = cross_val_predict(\n",
    "#     model_lr,\n",
    "#     features_upsampled,  # Conjunto de entrenamiento sobremuestreado\n",
    "#     target_upsampled,    # Etiquetas del entrenamiento sobremuestreado\n",
    "#     cv=cv,\n",
    "#     method='predict_proba'\n",
    "# )\n",
    "\n",
    "# # Asegúrate de que target_valid sea un array 1D\n",
    "# target_valid = np.ravel(target_valid)\n",
    "\n",
    "# # Predecir probabilidades en el conjunto de validación\n",
    "# probabilities_valid_cv = model_lr.predict_proba(features_valid)[:, 1]\n",
    "\n",
    "# # Calcular la curva ROC usando el conjunto de validación\n",
    "# fpr_valid_cv, tpr_valid_cv, thresholds_valid = roc_curve(\n",
    "#     target_valid, probabilities_valid_cv)\n",
    "\n",
    "# # Calcular el AUC-ROC score en el conjunto de validación\n",
    "# auc_roc_lr_valid_cv = roc_auc_score(target_valid, probabilities_valid_cv)\n",
    "# print('El AUC-ROC score en el conjunto de validación fue de:', auc_roc_lr_valid_cv)"
   ]
  },
  {
   "cell_type": "markdown",
   "metadata": {},
   "source": [
    "#### Gráfico comparativo"
   ]
  },
  {
   "cell_type": "code",
   "execution_count": 15,
   "metadata": {},
   "outputs": [
    {
     "data": {
      "image/png": "[encoded data removed]",
      "text/plain": [
       "<Figure size 1200x600 with 2 Axes>"
      ]
     },
     "metadata": {},
     "output_type": "display_data"
    }
   ],
   "source": [
    "# Crear una figura con una fila y dos columnas\n",
    "fig, axes = plt.subplots(1, 2, figsize=(12, 6))\n",
    "\n",
    "# Gráfico 1: Busqueda en rejilla\n",
    "axes[0].plot(fpr, tpr,  \n",
    "             label=f'Modelo (AUC-ROC: {auc_roc_lr_grid:.3f})')\n",
    "axes[0].plot([0, 1], [0, 1], linestyle='--', label='Modelo aleatorio')\n",
    "axes[0].set_xlim([0.0, 1.0])\n",
    "axes[0].set_ylim([0.0, 1.0])\n",
    "axes[0].set_xlabel('Tasa de falsos positivos')\n",
    "axes[0].set_ylabel('Tasa de verdaderos positivos')\n",
    "axes[0].set_title('Busqueda en rejilla y con validación cruzada')\n",
    "axes[0].legend()\n",
    "\n",
    "# Gráfico 2: Busqueda aleatoria\n",
    "axes[1].plot(fpr_rdm, tpr_rdm, \n",
    "             label=f'Modelo (AUC-ROC: {auc_roc_lr_rdm:.3f})')\n",
    "axes[1].plot([0, 1], [0, 1], linestyle='--', label='Modelo aleatorio')\n",
    "axes[1].set_xlim([0.0, 1.0])\n",
    "axes[1].set_ylim([0.0, 1.0])\n",
    "axes[1].set_xlabel('Tasa de falsos positivos')\n",
    "axes[1].set_ylabel('Tasa de verdaderos positivos')\n",
    "axes[1].set_title('Busqueda aleatoria y con validación cruzada')\n",
    "axes[1].legend()\n",
    "\n",
    "# Ajustar espacio entre subgráficos\n",
    "plt.tight_layout()\n",
    "\n",
    "# Mostrar el gráfico\n",
    "plt.show()"
   ]
  },
  {
   "cell_type": "markdown",
   "metadata": {},
   "source": [
    "### Bosque aleatorio de clasificación"
   ]
  },
  {
   "cell_type": "markdown",
   "metadata": {},
   "source": [
    "#### Sin validación cruzada"
   ]
  },
  {
   "cell_type": "code",
   "execution_count": 14,
   "metadata": {},
   "outputs": [],
   "source": [
    "# Creación del modelo de Bosque Aleatorio simple\n",
    "rfc = RandomForestClassifier(random_state=12345)\n",
    "target_upsampled_ord = target_upsampled_ord.squeeze()  # Convertir de 2D a 1D\n",
    "rfc.fit(features_upsampled_ord, target_upsampled_ord)\n",
    "\n",
    "# Obtener las probabilidades predichas para la clase positiva\n",
    "rfc_probabilities = rfc.predict_proba(features_valid_ord)[:, 1]"
   ]
  },
  {
   "cell_type": "code",
   "execution_count": null,
   "metadata": {},
   "outputs": [],
   "source": [
    "# Calcular la curva ROC\n",
    "fpr_rfc, tpr_rfc, thresholds = roc_curve(target_valid_ord, rfc_probabilities)\n",
    "\n",
    "# Calcular el AUC-ROC\n",
    "auc_score_rfc = roc_auc_score(target_valid_ord, rfc_probabilities)\n",
    "print('El AUC-ROC score fue de :', auc_score_rfc)"
   ]
  },
  {
   "cell_type": "markdown",
   "metadata": {},
   "source": [
    "#### Con validación cruzada"
   ]
  },
  {
   "cell_type": "code",
   "execution_count": null,
   "metadata": {},
   "outputs": [],
   "source": [
    "# Configurar el modelo de bosque aleatorio\n",
    "rfc = RandomForestClassifier(random_state=12345)\n",
    "\n",
    "# Configurar la validación cruzada\n",
    "cv = StratifiedKFold(n_splits=5, shuffle=True, random_state=12345)\n",
    "\n",
    "# Obtener predicciones probabilísticas usando validación cruzada\n",
    "rfc_probabilities = cross_val_predict(\n",
    "    rfc,\n",
    "    features_upsampled_ord,\n",
    "    target_upsampled_ord,\n",
    "    cv=cv,\n",
    "    method='predict_proba'\n",
    ")\n",
    "\n",
    "# Extraer probabilidades de la clase positiva\n",
    "rfc_probabilities_one = rfc_probabilities[:, 1]\n",
    "\n",
    "# Calcular la curva ROC\n",
    "fpr_rfc_cv, tpr_rfc_cv, thresholds = roc_curve(\n",
    "    target_upsampled_ord, probabilities_one_valid_cv)\n",
    "\n",
    "# Calcular el AUC-ROC para la validación cruzada\n",
    "auc_score_rfc_cv = roc_auc_score(target_valid_ord, rfc_probabilities_one)\n",
    "print('El AUC-ROC Score para un bosque aleatorio con validación cruzada es:', auc_score_rfc_cv)"
   ]
  },
  {
   "cell_type": "code",
   "execution_count": 17,
   "metadata": {},
   "outputs": [],
   "source": [
    "# # Calcular la curva ROC\n",
    "# fpr_rfc_cv, tpr_rfc_cv, thresholds = roc_curve(\n",
    "#     target_train_ord, rfc_probabilities_one)\n",
    "\n",
    "# # Graficar la curva ROC\n",
    "# plt.figure(figsize=(8, 6))\n",
    "# plt.plot(fpr_rfc_cv, tpr_rfc_cv, color='blue',\n",
    "#          label=f'Bosque Aleatorio (AUC = {auc_score:.2f})')\n",
    "# plt.plot([0, 1], [0, 1], color='red',\n",
    "#          linestyle='--', label='Azar (AUC = 0.50)')\n",
    "# plt.xlabel('Tasa de Falsos Positivos (FPR)')\n",
    "# plt.ylabel('Tasa de Verdaderos Positivos (TPR)')\n",
    "# plt.title('Curva ROC para Bosque Aleatorio con Validación Cruzada')\n",
    "# plt.legend(loc='lower right')\n",
    "# plt.grid()\n",
    "# plt.show()"
   ]
  },
  {
   "cell_type": "markdown",
   "metadata": {},
   "source": [
    "#### Gráfico comparativo"
   ]
  },
  {
   "cell_type": "code",
   "execution_count": null,
   "metadata": {},
   "outputs": [],
   "source": [
    "# Crear una figura con una fila y dos columnas\n",
    "fig, axes = plt.subplots(1, 2, figsize=(12, 6))\n",
    "\n",
    "# Gráfico 1: Sin validación cruzada\n",
    "axes[0].plot(fpr_rfc, tpr_rfc, label=f'Modelo (AUC-ROC: {auc_score_rfc:.3f})')\n",
    "axes[0].plot([0, 1], [0, 1], linestyle='--', label='Modelo aleatorio')\n",
    "axes[0].set_xlim([0.0, 1.0])\n",
    "axes[0].set_ylim([0.0, 1.0])\n",
    "axes[0].set_xlabel('Tasa de falsos positivos')\n",
    "axes[0].set_ylabel('Tasa de verdaderos positivos')\n",
    "axes[0].set_title('Sin validación cruzada')\n",
    "axes[0].legend()\n",
    "\n",
    "# Gráfico 2: Con validación cruzada\n",
    "axes[1].plot(fpr_rfc_cv, tpr_rfc_cv, label=f'Modelo (AUC-ROC: {auc_score_rfc_cv:.3f})')\n",
    "axes[1].plot([0, 1], [0, 1], linestyle='--', label='Modelo aleatorio')\n",
    "axes[1].set_xlim([0.0, 1.0])\n",
    "axes[1].set_ylim([0.0, 1.0])\n",
    "axes[1].set_xlabel('Tasa de falsos positivos')\n",
    "axes[1].set_ylabel('Tasa de verdaderos positivos')\n",
    "axes[1].set_title('Con validación cruzada')\n",
    "axes[1].legend()\n",
    "\n",
    "# Ajustar espacio entre subgráficos\n",
    "plt.tight_layout()\n",
    "\n",
    "# Mostrar el gráfico\n",
    "plt.show()"
   ]
  },
  {
   "cell_type": "markdown",
   "metadata": {},
   "source": [
    "### Optimización de hiperparámetros"
   ]
  },
  {
   "cell_type": "markdown",
   "metadata": {},
   "source": [
    "#### GridSearchCV"
   ]
  },
  {
   "cell_type": "code",
   "execution_count": null,
   "metadata": {},
   "outputs": [],
   "source": [
    "# Definir hiperparámetros a tunear\n",
    "forest_params = [\n",
    "    {'max_depth': list(range(1, 10)),\n",
    "     'n_estimators': list(range(1, 50)),\n",
    "     'min_samples_split': [2, 5, 10],\n",
    "     'min_samples_leaf': [1, 2, 4]}\n",
    "]"
   ]
  },
  {
   "cell_type": "code",
   "execution_count": null,
   "metadata": {},
   "outputs": [],
   "source": [
    "# Configurar GridSearchCV con la métrica de evaluación AUC-ROC\n",
    "clf = GridSearchCV(\n",
    "    rfc,\n",
    "    forest_params,\n",
    "    cv=9,\n",
    "    scoring='roc_auc',\n",
    "    error_score='raise'\n",
    ")\n",
    "\n",
    "# Entrenar el modelo con GridSearchCV\n",
    "clf.fit(features_train_ord, target_train_ord)\n",
    "\n",
    "print(f\"Mejor valor para max_depth: {clf.best_params_['max_depth']}\")\n",
    "print(f\"Mejor valor para n_estimators: {clf.best_params_['n_estimators']}\")\n",
    "print(f\"Mejor estimador: {clf.best_estimator_}\")\n",
    "print(f\"Mejor puntuación: {clf.best_score_}\")"
   ]
  },
  {
   "cell_type": "markdown",
   "metadata": {},
   "source": [
    "#### Optuna"
   ]
  },
  {
   "cell_type": "code",
   "execution_count": null,
   "metadata": {},
   "outputs": [],
   "source": [
    "\n",
    "class ModelOptimization:\n",
    "    '''\n",
    "    Creación de clase para tunear hiperparámetros utilizando Optuna\n",
    "    '''\n",
    "\n",
    "    def __init__(self, features_train, features_valid, target_train, target_valid):\n",
    "        self.features_train = features_train\n",
    "        self.features_valid = features_valid\n",
    "        self.target_train = target_train\n",
    "        self.target_valid = target_valid\n",
    "\n",
    "    def objective(self, trial):\n",
    "        # Definir los hiperparámetros a optimizar\n",
    "        max_depth = trial.suggest_int('max_depth', 1, 10)\n",
    "        n_estimators = trial.suggest_int('n_estimators', 1, 50)\n",
    "\n",
    "        # Crear el modelo con los hiperparámetros sugeridos\n",
    "        model = RandomForestClassifier(\n",
    "            max_depth=max_depth, n_estimators=n_estimators, random_state=54321)\n",
    "\n",
    "        # Entrenar el modelo\n",
    "        model.fit(self.features_train, self.target_train)\n",
    "\n",
    "        # Predecir probabilidades en el conjunto de validación\n",
    "        predictions_valid_proba = model.predict_proba(\n",
    "            self.features_valid)[:, 1]\n",
    "\n",
    "        # Calcular el AUC-ROC\n",
    "        auc_score = roc_auc_score(self.target_valid, predictions_valid_proba)\n",
    "\n",
    "        return auc_score"
   ]
  },
  {
   "cell_type": "code",
   "execution_count": null,
   "metadata": {},
   "outputs": [],
   "source": [
    "# Para ejecutar Optuna\n",
    "def optimize_model(features_train, features_valid, target_train, target_valid, n_trials=50):\n",
    "    optimizer = ModelOptimization(\n",
    "        features_train, features_valid, target_train, target_valid)\n",
    "    study = optuna.create_study(direction='maximize')  # Maximizar el AUC-ROC\n",
    "    study.optimize(optimizer.objective, n_trials=n_trials)\n",
    "\n",
    "    print(f\"Mejores parámetros: {study.best_params}\")\n",
    "    print(f\"Mejor AUC-ROC Score: {study.best_value:.4f}\")\n",
    "\n",
    "    return study  # Retornar el objeto study"
   ]
  },
  {
   "cell_type": "code",
   "execution_count": null,
   "metadata": {},
   "outputs": [],
   "source": [
    "# Ejecutar la optimización\n",
    "study = optimize_model(features_train, features_valid,\n",
    "                       target_train, target_valid, n_trials=2000)"
   ]
  },
  {
   "cell_type": "code",
   "execution_count": null,
   "metadata": {},
   "outputs": [],
   "source": [
    "# Graficar el historial de optimización\n",
    "\n",
    "vis.plot_optimization_history(study).show()"
   ]
  },
  {
   "cell_type": "markdown",
   "metadata": {},
   "source": [
    "#### Potenciación de gradiente"
   ]
  },
  {
   "cell_type": "code",
   "execution_count": null,
   "metadata": {},
   "outputs": [],
   "source": [
    "# Crear el modelo de CatBoost\n",
    "model_cat = CatBoostClassifier(\n",
    "    learning_rate=0.02,\n",
    "    depth=7,\n",
    "    random_seed=54321,\n",
    "    iterations=2000,\n",
    "    loss_function='Logloss',  # Pérdida adecuada para clasificación binaria\n",
    "    eval_metric='AUC',        # Métrica de evaluación correcta\n",
    "    verbose=100\n",
    ")"
   ]
  },
  {
   "cell_type": "code",
   "execution_count": null,
   "metadata": {},
   "outputs": [],
   "source": [
    "# Entrenar el modelo\n",
    "model_cat.fit(features_train_ord, target_train_ord, cat_features=None)\n",
    "\n",
    "# Obtener probabilidades sobre el conjunto de validación\n",
    "preds_proba = model_cat.predict_proba(features_valid_ord)[:, 1]\n",
    "\n",
    "# Calcular AUC-ROC\n",
    "auc_score = roc_auc_score(target_valid_ord, preds_proba)\n",
    "print(f\"AUC-ROC Score: {auc_score:.4f}\")"
   ]
  },
  {
   "cell_type": "markdown",
   "metadata": {},
   "source": [
    "#### CatBoost y Optuna"
   ]
  },
  {
   "cell_type": "code",
   "execution_count": null,
   "metadata": {},
   "outputs": [],
   "source": [
    "# Definir el número de iteraciones para early stopping\n",
    "early_stopping_rounds = 50  # Número de iteraciones consecutivas sin mejora permitidas\n",
    "\n",
    "\n",
    "def optuna_catboost(trial):\n",
    "    # Definir los hiperparámetros que Optuna optimizará\n",
    "    param = {\n",
    "        'learning_rate': trial.suggest_float(\"learning_rate\", 0.01, 0.02, step=0.001),\n",
    "        'depth': trial.suggest_int('depth', 7, 10),\n",
    "        'l2_leaf_reg': trial.suggest_float('l2_leaf_reg', 1.0, 5.5, step=0.5),\n",
    "        'grow_policy': 'Depthwise',\n",
    "        'iterations': 4000,\n",
    "        'use_best_model': True,\n",
    "        'eval_metric': 'AUC',\n",
    "        'loss_function': 'Logloss',\n",
    "        'od_type': 'Iter',\n",
    "        'od_wait': early_stopping_rounds,\n",
    "        'random_state': 54321,\n",
    "        'logging_level': 'Silent'\n",
    "    }\n",
    "\n",
    "    # Inicializar el modelo de clasificación con los hiperparámetros definidos\n",
    "    cat_classifier = CatBoostClassifier(**param)\n",
    "\n",
    "    # Configurar la validación cruzada\n",
    "    cv = StratifiedKFold(n_splits=5, shuffle=True, random_state=54321)\n",
    "\n",
    "    auc_scores = []\n",
    "\n",
    "# Iterar sobre cada fold de la validación cruzada\n",
    "    for train_idx, valid_idx in cv.split(features_train_ord, target_train_ord):\n",
    "        X_train, X_valid = features_train_ord.iloc[train_idx], features_train_ord.iloc[valid_idx]\n",
    "        y_train, y_valid = target_train_ord.iloc[train_idx], target_train_ord.iloc[valid_idx]\n",
    "\n",
    "        # Entrenar el modelo con early stopping\n",
    "        cat_classifier.fit(\n",
    "            X_train, y_train,\n",
    "            eval_set=(X_valid, y_valid),\n",
    "            early_stopping_rounds=early_stopping_rounds,\n",
    "            verbose=False  # Silenciar la salida durante el entrenamiento\n",
    "        )\n",
    "\n",
    "        # Predecir probabilidades en el conjunto de validación\n",
    "        preds_proba = cat_classifier.predict_proba(X_valid)[:, 1]\n",
    "\n",
    "        # Calcular el AUC-ROC para el fold actual\n",
    "        auc = roc_auc_score(y_valid, preds_proba)\n",
    "        auc_scores.append(auc)\n",
    "\n",
    "    # Calcular el promedio del AUC-ROC a través de todos los folds\n",
    "    mean_auc = np.mean(auc_scores)\n",
    "\n",
    "    return mean_auc"
   ]
  },
  {
   "cell_type": "code",
   "execution_count": null,
   "metadata": {},
   "outputs": [],
   "source": [
    "# Configurar y ejecutar el estudio de Optuna\n",
    "study = optuna.create_study(\n",
    "    direction='maximize', sampler=optuna.samplers.TPESampler(seed=54321))\n",
    "# Puedes ajustar n_trials y timeout según tus necesidades\n",
    "study.optimize(optuna_catboost, n_trials=100, timeout=600)\n",
    "\n",
    "# Obtener los mejores hiperparámetros\n",
    "best_params = study.best_params\n",
    "best_auc = study.best_value\n",
    "\n",
    "print(f\"Mejores hiperparámetros: {best_params}\")\n",
    "print(f\"Mejor AUC-ROC promedio: {best_auc:.4f}\")"
   ]
  },
  {
   "cell_type": "code",
   "execution_count": null,
   "metadata": {},
   "outputs": [],
   "source": []
  },
  {
   "cell_type": "code",
   "execution_count": null,
   "metadata": {},
   "outputs": [],
   "source": []
  },
  {
   "cell_type": "code",
   "execution_count": null,
   "metadata": {},
   "outputs": [],
   "source": []
  }
 ],
 "metadata": {
  "kernelspec": {
   "display_name": "EnsamblesCatBoost",
   "language": "python",
   "name": "python3"
  },
  "language_info": {
   "codemirror_mode": {
    "name": "ipython",
    "version": 3
   },
   "file_extension": ".py",
   "mimetype": "text/x-python",
   "name": "python",
   "nbconvert_exporter": "python",
   "pygments_lexer": "ipython3",
   "version": "3.11.9"
  }
 },
 "nbformat": 4,
 "nbformat_minor": 2
}
