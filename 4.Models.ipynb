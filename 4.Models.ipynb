{
 "cells": [
  {
   "cell_type": "markdown",
   "metadata": {},
   "source": [
    "## Importar"
   ]
  },
  {
   "cell_type": "code",
   "execution_count": 1,
   "metadata": {},
   "outputs": [
    {
     "name": "stderr",
     "output_type": "stream",
     "text": [
      "c:\\Users\\LENOVO\\anaconda3\\envs\\EnsamblesCatBoost\\Lib\\site-packages\\tqdm\\auto.py:21: TqdmWarning: IProgress not found. Please update jupyter and ipywidgets. See https://ipywidgets.readthedocs.io/en/stable/user_install.html\n",
      "  from .autonotebook import tqdm as notebook_tqdm\n"
     ]
    }
   ],
   "source": [
    "import numpy as np\n",
    "import pandas as pd\n",
    "import os \n",
    "import sys\n",
    "import matplotlib.pyplot as plt\n",
    "\n",
    "from sklearn.linear_model import LogisticRegression\n",
    "from sklearn.ensemble import RandomForestClassifier\n",
    "from sklearn.metrics import roc_curve\n",
    "from sklearn.metrics import roc_auc_score\n",
    "\n",
    "from sklearn.model_selection import GridSearchCV\n",
    "import optuna\n",
    "import optuna.visualization as vis\n",
    "from catboost import CatBoostClassifier\n",
    "\n",
    "from Classes.dataframe_manager import DataFrameManager\n",
    "\n",
    "from sklearn.model_selection import cross_val_score\n",
    "from sklearn.model_selection import cross_val_predict, StratifiedKFold"
   ]
  },
  {
   "cell_type": "markdown",
   "metadata": {},
   "source": [
    "## Leer datos"
   ]
  },
  {
   "cell_type": "code",
   "execution_count": 2,
   "metadata": {},
   "outputs": [],
   "source": [
    "# Asegurar que el directorio del proyecto esté en sys.path\n",
    "project_root = os.getcwd()\n",
    "if project_root not in sys.path:\n",
    "    sys.path.append(project_root)"
   ]
  },
  {
   "cell_type": "code",
   "execution_count": 3,
   "metadata": {},
   "outputs": [
    {
     "name": "stdout",
     "output_type": "stream",
     "text": [
      "DataFrame 'features_upsampled' cargado exitosamente en el administrador.\n",
      "DataFrame 'features_valid' cargado exitosamente en el administrador.\n",
      "DataFrame 'features_upsampled_ord' cargado exitosamente en el administrador.\n",
      "DataFrame 'features_valid_ord' cargado exitosamente en el administrador.\n",
      "DataFrame 'target_upsampled' cargado exitosamente en el administrador.\n",
      "DataFrame 'target_valid' cargado exitosamente en el administrador.\n",
      "DataFrame 'target_upsampled_ord' cargado exitosamente en el administrador.\n",
      "DataFrame 'target_valid_ord' cargado exitosamente en el administrador.\n"
     ]
    }
   ],
   "source": [
    "# Carga de dataframes utilizando la clase DataFrameManager\n",
    "manager = DataFrameManager()\n",
    "\n",
    "manager.load_multiple([\n",
    "    'features_upsampled',\n",
    "    'features_valid',\n",
    "    'features_upsampled_ord',\n",
    "    'features_valid_ord',\n",
    "    'target_upsampled',\n",
    "    'target_valid',\n",
    "    'target_upsampled_ord',#\n",
    "    'target_valid_ord'\n",
    "])"
   ]
  },
  {
   "cell_type": "code",
   "execution_count": 4,
   "metadata": {},
   "outputs": [],
   "source": [
    "# Asignar cada dataframe a una variable con su nombre para utilizarla en el notebook\n",
    "\n",
    "features_upsampled = manager.get_dataframe('features_upsampled')\n",
    "features_valid = manager.get_dataframe('features_valid')\n",
    "features_upsampled_ord = manager.get_dataframe('features_upsampled_ord')\n",
    "features_valid_ord = manager.get_dataframe('features_valid_ord')\n",
    "target_upsampled = manager.get_dataframe('target_upsampled')\n",
    "target_valid = manager.get_dataframe('target_valid')\n",
    "target_upsampled_ord = manager.get_dataframe('target_upsampled_ord')\n",
    "target_valid_ord = manager.get_dataframe('target_valid_ord')"
   ]
  },
  {
   "cell_type": "code",
   "execution_count": 5,
   "metadata": {},
   "outputs": [],
   "source": [
    "# display(features_upsampled.head())"
   ]
  },
  {
   "cell_type": "markdown",
   "metadata": {},
   "source": [
    "## Creación de modelos"
   ]
  },
  {
   "cell_type": "markdown",
   "metadata": {},
   "source": [
    "### Regresión logística"
   ]
  },
  {
   "cell_type": "markdown",
   "metadata": {},
   "source": [
    "#### Sin validación cruzada"
   ]
  },
  {
   "cell_type": "code",
   "execution_count": 6,
   "metadata": {},
   "outputs": [
    {
     "data": {
      "text/html": [
       "<style>#sk-container-id-1 {color: black;background-color: white;}#sk-container-id-1 pre{padding: 0;}#sk-container-id-1 div.sk-toggleable {background-color: white;}#sk-container-id-1 label.sk-toggleable__label {cursor: pointer;display: block;width: 100%;margin-bottom: 0;padding: 0.3em;box-sizing: border-box;text-align: center;}#sk-container-id-1 label.sk-toggleable__label-arrow:before {content: \"▸\";float: left;margin-right: 0.25em;color: #696969;}#sk-container-id-1 label.sk-toggleable__label-arrow:hover:before {color: black;}#sk-container-id-1 div.sk-estimator:hover label.sk-toggleable__label-arrow:before {color: black;}#sk-container-id-1 div.sk-toggleable__content {max-height: 0;max-width: 0;overflow: hidden;text-align: left;background-color: #f0f8ff;}#sk-container-id-1 div.sk-toggleable__content pre {margin: 0.2em;color: black;border-radius: 0.25em;background-color: #f0f8ff;}#sk-container-id-1 input.sk-toggleable__control:checked~div.sk-toggleable__content {max-height: 200px;max-width: 100%;overflow: auto;}#sk-container-id-1 input.sk-toggleable__control:checked~label.sk-toggleable__label-arrow:before {content: \"▾\";}#sk-container-id-1 div.sk-estimator input.sk-toggleable__control:checked~label.sk-toggleable__label {background-color: #d4ebff;}#sk-container-id-1 div.sk-label input.sk-toggleable__control:checked~label.sk-toggleable__label {background-color: #d4ebff;}#sk-container-id-1 input.sk-hidden--visually {border: 0;clip: rect(1px 1px 1px 1px);clip: rect(1px, 1px, 1px, 1px);height: 1px;margin: -1px;overflow: hidden;padding: 0;position: absolute;width: 1px;}#sk-container-id-1 div.sk-estimator {font-family: monospace;background-color: #f0f8ff;border: 1px dotted black;border-radius: 0.25em;box-sizing: border-box;margin-bottom: 0.5em;}#sk-container-id-1 div.sk-estimator:hover {background-color: #d4ebff;}#sk-container-id-1 div.sk-parallel-item::after {content: \"\";width: 100%;border-bottom: 1px solid gray;flex-grow: 1;}#sk-container-id-1 div.sk-label:hover label.sk-toggleable__label {background-color: #d4ebff;}#sk-container-id-1 div.sk-serial::before {content: \"\";position: absolute;border-left: 1px solid gray;box-sizing: border-box;top: 0;bottom: 0;left: 50%;z-index: 0;}#sk-container-id-1 div.sk-serial {display: flex;flex-direction: column;align-items: center;background-color: white;padding-right: 0.2em;padding-left: 0.2em;position: relative;}#sk-container-id-1 div.sk-item {position: relative;z-index: 1;}#sk-container-id-1 div.sk-parallel {display: flex;align-items: stretch;justify-content: center;background-color: white;position: relative;}#sk-container-id-1 div.sk-item::before, #sk-container-id-1 div.sk-parallel-item::before {content: \"\";position: absolute;border-left: 1px solid gray;box-sizing: border-box;top: 0;bottom: 0;left: 50%;z-index: -1;}#sk-container-id-1 div.sk-parallel-item {display: flex;flex-direction: column;z-index: 1;position: relative;background-color: white;}#sk-container-id-1 div.sk-parallel-item:first-child::after {align-self: flex-end;width: 50%;}#sk-container-id-1 div.sk-parallel-item:last-child::after {align-self: flex-start;width: 50%;}#sk-container-id-1 div.sk-parallel-item:only-child::after {width: 0;}#sk-container-id-1 div.sk-dashed-wrapped {border: 1px dashed gray;margin: 0 0.4em 0.5em 0.4em;box-sizing: border-box;padding-bottom: 0.4em;background-color: white;}#sk-container-id-1 div.sk-label label {font-family: monospace;font-weight: bold;display: inline-block;line-height: 1.2em;}#sk-container-id-1 div.sk-label-container {text-align: center;}#sk-container-id-1 div.sk-container {/* jupyter's `normalize.less` sets `[hidden] { display: none; }` but bootstrap.min.css set `[hidden] { display: none !important; }` so we also need the `!important` here to be able to override the default hidden behavior on the sphinx rendered scikit-learn.org. See: https://github.com/scikit-learn/scikit-learn/issues/21755 */display: inline-block !important;position: relative;}#sk-container-id-1 div.sk-text-repr-fallback {display: none;}</style><div id=\"sk-container-id-1\" class=\"sk-top-container\"><div class=\"sk-text-repr-fallback\"><pre>LogisticRegression(random_state=12345, solver=&#x27;liblinear&#x27;)</pre><b>In a Jupyter environment, please rerun this cell to show the HTML representation or trust the notebook. <br />On GitHub, the HTML representation is unable to render, please try loading this page with nbviewer.org.</b></div><div class=\"sk-container\" hidden><div class=\"sk-item\"><div class=\"sk-estimator sk-toggleable\"><input class=\"sk-toggleable__control sk-hidden--visually\" id=\"sk-estimator-id-1\" type=\"checkbox\" checked><label for=\"sk-estimator-id-1\" class=\"sk-toggleable__label sk-toggleable__label-arrow\">LogisticRegression</label><div class=\"sk-toggleable__content\"><pre>LogisticRegression(random_state=12345, solver=&#x27;liblinear&#x27;)</pre></div></div></div></div></div>"
      ],
      "text/plain": [
       "LogisticRegression(random_state=12345, solver='liblinear')"
      ]
     },
     "execution_count": 6,
     "metadata": {},
     "output_type": "execute_result"
    }
   ],
   "source": [
    "model_lr = LogisticRegression(solver='liblinear', random_state=12345)\n",
    "target_upsampled = target_upsampled.squeeze()  # Convierte a 1D si era 2D\n",
    "model_lr.fit(features_upsampled, target_upsampled)"
   ]
  },
  {
   "cell_type": "code",
   "execution_count": 7,
   "metadata": {},
   "outputs": [],
   "source": [
    "probabilities_valid = model_lr.predict_proba(features_valid)\n",
    "probabilities_one_valid = probabilities_valid[:, 1]\n",
    "fpr, tpr, thresholds = roc_curve(target_valid, probabilities_one_valid)"
   ]
  },
  {
   "cell_type": "code",
   "execution_count": 9,
   "metadata": {},
   "outputs": [
    {
     "name": "stdout",
     "output_type": "stream",
     "text": [
      "El AUC-ROC score fue de : 0.8588005050505051\n"
     ]
    }
   ],
   "source": [
    "auc_roc_lr_sin_cv = roc_auc_score(target_valid, probabilities_one_valid)\n",
    "print('El AUC-ROC score fue de :', auc_roc_lr_sin_cv)"
   ]
  },
  {
   "cell_type": "markdown",
   "metadata": {},
   "source": [
    "#### Con validación cruzada"
   ]
  },
  {
   "cell_type": "code",
   "execution_count": 10,
   "metadata": {},
   "outputs": [],
   "source": [
    "# Configurar la validación cruzada (StratifiedKFold asegura equilibrio en las clases por fold)\n",
    "cv = StratifiedKFold(n_splits=8, shuffle=True, random_state=12345)\n",
    "\n",
    "# Obtener las probabilidades predichas usando validación cruzada\n",
    "probabilities_valid_cv = cross_val_predict(\n",
    "    model_lr,\n",
    "    features_upsampled,\n",
    "    target_upsampled,\n",
    "    cv=cv,\n",
    "    method='predict_proba'\n",
    ")\n",
    "\n",
    "# Extraer probabilidades para la clase positiva (asumiendo que es la segunda columna)\n",
    "probabilities_one_valid_cv = probabilities_valid_cv[:, 1]\n",
    "\n",
    "# Calcular la curva ROC\n",
    "fpr_cv, tpr_cv, thresholds = roc_curve(\n",
    "    target_upsampled, probabilities_one_valid_cv)"
   ]
  },
  {
   "cell_type": "code",
   "execution_count": 12,
   "metadata": {},
   "outputs": [
    {
     "name": "stdout",
     "output_type": "stream",
     "text": [
      "El AUC-ROC score fue de : 0.8625939833856666\n"
     ]
    }
   ],
   "source": [
    "auc_roc_lr_cv = roc_auc_score(target_upsampled, probabilities_one_valid_cv)\n",
    "print('El AUC-ROC score fue de :', auc_roc_lr_cv)"
   ]
  },
  {
   "cell_type": "markdown",
   "metadata": {},
   "source": [
    "#### Gráfico comparativo"
   ]
  },
  {
   "cell_type": "code",
   "execution_count": 13,
   "metadata": {},
   "outputs": [
    {
     "data": {
      "image/png": "[encoded data removed]",
      "text/plain": [
       "<Figure size 1200x600 with 2 Axes>"
      ]
     },
     "metadata": {},
     "output_type": "display_data"
    }
   ],
   "source": [
    "# Crear una figura con una fila y dos columnas\n",
    "fig, axes = plt.subplots(1, 2, figsize=(12, 6))\n",
    "\n",
    "# Gráfico 1: Sin validación cruzada\n",
    "axes[0].plot(fpr, tpr, label=f'Modelo (AUC-ROC: {auc_roc_lr_sin_cv:.3f})')\n",
    "axes[0].plot([0, 1], [0, 1], linestyle='--', label='Modelo aleatorio')\n",
    "axes[0].set_xlim([0.0, 1.0])\n",
    "axes[0].set_ylim([0.0, 1.0])\n",
    "axes[0].set_xlabel('Tasa de falsos positivos')\n",
    "axes[0].set_ylabel('Tasa de verdaderos positivos')\n",
    "axes[0].set_title('Sin validación cruzada')\n",
    "axes[0].legend()\n",
    "\n",
    "# Gráfico 2: Con validación cruzada\n",
    "axes[1].plot(fpr_cv, tpr_cv, label=f'Modelo (AUC-ROC: {auc_roc_lr_cv:.3f})')\n",
    "axes[1].plot([0, 1], [0, 1], linestyle='--', label='Modelo aleatorio')\n",
    "axes[1].set_xlim([0.0, 1.0])\n",
    "axes[1].set_ylim([0.0, 1.0])\n",
    "axes[1].set_xlabel('Tasa de falsos positivos')\n",
    "axes[1].set_ylabel('Tasa de verdaderos positivos')\n",
    "axes[1].set_title('Con validación cruzada')\n",
    "axes[1].legend()\n",
    "\n",
    "# Ajustar espacio entre subgráficos\n",
    "plt.tight_layout()\n",
    "\n",
    "# Mostrar el gráfico\n",
    "plt.show()"
   ]
  },
  {
   "cell_type": "markdown",
   "metadata": {},
   "source": [
    "### Bosque aleatorio de clasificación"
   ]
  },
  {
   "cell_type": "markdown",
   "metadata": {},
   "source": [
    "#### Sin validación cruzada"
   ]
  },
  {
   "cell_type": "code",
   "execution_count": null,
   "metadata": {},
   "outputs": [],
   "source": [
    "# Creación del modelo de Bosque Aleatorio simple\n",
    "rfc = RandomForestClassifier(random_state=54321)\n",
    "rfc.fit(features_train_ord, target_train_ord)\n",
    "\n",
    "# Obtener las probabilidades predichas para la clase positiva\n",
    "rfc_probabilities = rfc.predict_proba(features_valid_ord)[:, 1]"
   ]
  },
  {
   "cell_type": "code",
   "execution_count": null,
   "metadata": {},
   "outputs": [],
   "source": [
    "# Calcular la curva ROC\n",
    "fpr_rfc, tpr_rfc, thresholds = roc_curve(target_valid_ord, rfc_probabilities)\n",
    "\n",
    "# Calcular el AUC-ROC\n",
    "auc_score = roc_auc_score(target_valid_ord, rfc_probabilities)\n",
    "print('El AUC-ROC score fue de :', auc_score)"
   ]
  },
  {
   "cell_type": "code",
   "execution_count": null,
   "metadata": {},
   "outputs": [],
   "source": [
    "# Graficar la curva ROC\n",
    "plt.figure(figsize=(8, 6))\n",
    "plt.plot(fpr_rfc, tpr_rfc, color='blue',\n",
    "         label=f'Bosque Aleatorio (AUC = {auc_score:.2f})')\n",
    "plt.plot([0, 1], [0, 1], color='red',\n",
    "         linestyle='--', label='Azar (AUC = 0.50)')\n",
    "plt.xlabel('Tasa de Falsos Positivos (FPR)')\n",
    "plt.ylabel('Tasa de Verdaderos Positivos (TPR)')\n",
    "plt.title('Curva ROC para el Bosque Aleatorio')\n",
    "plt.legend(loc='lower right')\n",
    "plt.grid()\n",
    "plt.show()"
   ]
  },
  {
   "cell_type": "markdown",
   "metadata": {},
   "source": [
    "#### Con validación cruzada"
   ]
  },
  {
   "cell_type": "code",
   "execution_count": null,
   "metadata": {},
   "outputs": [],
   "source": [
    "# Configurar el modelo de bosque aleatorio\n",
    "rfc = RandomForestClassifier(random_state=54321)\n",
    "\n",
    "# Configurar la validación cruzada\n",
    "cv = StratifiedKFold(n_splits=5, shuffle=True, random_state=12345)\n",
    "\n",
    "# Obtener predicciones probabilísticas usando validación cruzada\n",
    "rfc_probabilities = cross_val_predict(\n",
    "    rfc,\n",
    "    features_train_ord,\n",
    "    target_train_ord,\n",
    "    cv=cv,\n",
    "    method='predict_proba'\n",
    ")\n",
    "\n",
    "# Extraer probabilidades de la clase positiva\n",
    "rfc_probabilities_one = rfc_probabilities[:, 1]\n",
    "\n",
    "# Calcular el AUC-ROC para la validación cruzada\n",
    "auc_score = roc_auc_score(target_train_ord, rfc_probabilities_one)\n",
    "print('El AUC-ROC Score para un bosque aleatorio con validación cruzada es:', auc_score)"
   ]
  },
  {
   "cell_type": "code",
   "execution_count": null,
   "metadata": {},
   "outputs": [],
   "source": [
    "# Calcular la curva ROC\n",
    "fpr_rfc_cv, tpr_rfc_cv, thresholds = roc_curve(\n",
    "    target_train_ord, rfc_probabilities_one)\n",
    "\n",
    "# Graficar la curva ROC\n",
    "plt.figure(figsize=(8, 6))\n",
    "plt.plot(fpr_rfc_cv, tpr_rfc_cv, color='blue',\n",
    "         label=f'Bosque Aleatorio (AUC = {auc_score:.2f})')\n",
    "plt.plot([0, 1], [0, 1], color='red',\n",
    "         linestyle='--', label='Azar (AUC = 0.50)')\n",
    "plt.xlabel('Tasa de Falsos Positivos (FPR)')\n",
    "plt.ylabel('Tasa de Verdaderos Positivos (TPR)')\n",
    "plt.title('Curva ROC para Bosque Aleatorio con Validación Cruzada')\n",
    "plt.legend(loc='lower right')\n",
    "plt.grid()\n",
    "plt.show()"
   ]
  },
  {
   "cell_type": "markdown",
   "metadata": {},
   "source": [
    "### Optimización de hiperparámetros"
   ]
  },
  {
   "cell_type": "markdown",
   "metadata": {},
   "source": [
    "#### GridSearchCV"
   ]
  },
  {
   "cell_type": "code",
   "execution_count": null,
   "metadata": {},
   "outputs": [],
   "source": [
    "# Definir hiperparámetros a tunear\n",
    "forest_params = [\n",
    "    {'max_depth': list(range(1, 10)),\n",
    "     'n_estimators': list(range(1, 50)),\n",
    "     'min_samples_split': [2, 5, 10],\n",
    "     'min_samples_leaf': [1, 2, 4]}\n",
    "]"
   ]
  },
  {
   "cell_type": "code",
   "execution_count": null,
   "metadata": {},
   "outputs": [],
   "source": [
    "# Configurar GridSearchCV con la métrica de evaluación AUC-ROC\n",
    "clf = GridSearchCV(\n",
    "    rfc,\n",
    "    forest_params,\n",
    "    cv=9,\n",
    "    scoring='roc_auc',\n",
    "    error_score='raise'\n",
    ")\n",
    "\n",
    "# Entrenar el modelo con GridSearchCV\n",
    "clf.fit(features_train_ord, target_train_ord)\n",
    "\n",
    "print(f\"Mejor valor para max_depth: {clf.best_params_['max_depth']}\")\n",
    "print(f\"Mejor valor para n_estimators: {clf.best_params_['n_estimators']}\")\n",
    "print(f\"Mejor estimador: {clf.best_estimator_}\")\n",
    "print(f\"Mejor puntuación: {clf.best_score_}\")"
   ]
  },
  {
   "cell_type": "markdown",
   "metadata": {},
   "source": [
    "#### Optuna"
   ]
  },
  {
   "cell_type": "code",
   "execution_count": null,
   "metadata": {},
   "outputs": [],
   "source": [
    "\n",
    "class ModelOptimization:\n",
    "    '''\n",
    "    Creación de clase para tunear hiperparámetros utilizando Optuna\n",
    "    '''\n",
    "\n",
    "    def __init__(self, features_train, features_valid, target_train, target_valid):\n",
    "        self.features_train = features_train\n",
    "        self.features_valid = features_valid\n",
    "        self.target_train = target_train\n",
    "        self.target_valid = target_valid\n",
    "\n",
    "    def objective(self, trial):\n",
    "        # Definir los hiperparámetros a optimizar\n",
    "        max_depth = trial.suggest_int('max_depth', 1, 10)\n",
    "        n_estimators = trial.suggest_int('n_estimators', 1, 50)\n",
    "\n",
    "        # Crear el modelo con los hiperparámetros sugeridos\n",
    "        model = RandomForestClassifier(\n",
    "            max_depth=max_depth, n_estimators=n_estimators, random_state=54321)\n",
    "\n",
    "        # Entrenar el modelo\n",
    "        model.fit(self.features_train, self.target_train)\n",
    "\n",
    "        # Predecir probabilidades en el conjunto de validación\n",
    "        predictions_valid_proba = model.predict_proba(\n",
    "            self.features_valid)[:, 1]\n",
    "\n",
    "        # Calcular el AUC-ROC\n",
    "        auc_score = roc_auc_score(self.target_valid, predictions_valid_proba)\n",
    "\n",
    "        return auc_score"
   ]
  },
  {
   "cell_type": "code",
   "execution_count": null,
   "metadata": {},
   "outputs": [],
   "source": [
    "# Para ejecutar Optuna\n",
    "def optimize_model(features_train, features_valid, target_train, target_valid, n_trials=50):\n",
    "    optimizer = ModelOptimization(\n",
    "        features_train, features_valid, target_train, target_valid)\n",
    "    study = optuna.create_study(direction='maximize')  # Maximizar el AUC-ROC\n",
    "    study.optimize(optimizer.objective, n_trials=n_trials)\n",
    "\n",
    "    print(f\"Mejores parámetros: {study.best_params}\")\n",
    "    print(f\"Mejor AUC-ROC Score: {study.best_value:.4f}\")\n",
    "\n",
    "    return study  # Retornar el objeto study"
   ]
  },
  {
   "cell_type": "code",
   "execution_count": null,
   "metadata": {},
   "outputs": [],
   "source": [
    "# Ejecutar la optimización\n",
    "study = optimize_model(features_train, features_valid,\n",
    "                       target_train, target_valid, n_trials=2000)"
   ]
  },
  {
   "cell_type": "code",
   "execution_count": null,
   "metadata": {},
   "outputs": [],
   "source": [
    "# Graficar el historial de optimización\n",
    "\n",
    "vis.plot_optimization_history(study).show()"
   ]
  },
  {
   "cell_type": "markdown",
   "metadata": {},
   "source": [
    "#### Potenciación de gradiente"
   ]
  },
  {
   "cell_type": "code",
   "execution_count": null,
   "metadata": {},
   "outputs": [],
   "source": [
    "# Crear el modelo de CatBoost\n",
    "model_cat = CatBoostClassifier(\n",
    "    learning_rate=0.02,\n",
    "    depth=7,\n",
    "    random_seed=54321,\n",
    "    iterations=2000,\n",
    "    loss_function='Logloss',  # Pérdida adecuada para clasificación binaria\n",
    "    eval_metric='AUC',        # Métrica de evaluación correcta\n",
    "    verbose=100\n",
    ")"
   ]
  },
  {
   "cell_type": "code",
   "execution_count": null,
   "metadata": {},
   "outputs": [],
   "source": [
    "# Entrenar el modelo\n",
    "model_cat.fit(features_train_ord, target_train_ord, cat_features=None)\n",
    "\n",
    "# Obtener probabilidades sobre el conjunto de validación\n",
    "preds_proba = model_cat.predict_proba(features_valid_ord)[:, 1]\n",
    "\n",
    "# Calcular AUC-ROC\n",
    "auc_score = roc_auc_score(target_valid_ord, preds_proba)\n",
    "print(f\"AUC-ROC Score: {auc_score:.4f}\")"
   ]
  },
  {
   "cell_type": "markdown",
   "metadata": {},
   "source": [
    "#### CatBoost y Optuna"
   ]
  },
  {
   "cell_type": "code",
   "execution_count": null,
   "metadata": {},
   "outputs": [],
   "source": [
    "# Definir el número de iteraciones para early stopping\n",
    "early_stopping_rounds = 50  # Número de iteraciones consecutivas sin mejora permitidas\n",
    "\n",
    "\n",
    "def optuna_catboost(trial):\n",
    "    # Definir los hiperparámetros que Optuna optimizará\n",
    "    param = {\n",
    "        'learning_rate': trial.suggest_float(\"learning_rate\", 0.01, 0.02, step=0.001),\n",
    "        'depth': trial.suggest_int('depth', 7, 10),\n",
    "        'l2_leaf_reg': trial.suggest_float('l2_leaf_reg', 1.0, 5.5, step=0.5),\n",
    "        'grow_policy': 'Depthwise',\n",
    "        'iterations': 4000,\n",
    "        'use_best_model': True,\n",
    "        'eval_metric': 'AUC',\n",
    "        'loss_function': 'Logloss',\n",
    "        'od_type': 'Iter',\n",
    "        'od_wait': early_stopping_rounds,\n",
    "        'random_state': 54321,\n",
    "        'logging_level': 'Silent'\n",
    "    }\n",
    "\n",
    "    # Inicializar el modelo de clasificación con los hiperparámetros definidos\n",
    "    cat_classifier = CatBoostClassifier(**param)\n",
    "\n",
    "    # Configurar la validación cruzada\n",
    "    cv = StratifiedKFold(n_splits=5, shuffle=True, random_state=54321)\n",
    "\n",
    "    auc_scores = []\n",
    "\n",
    "# Iterar sobre cada fold de la validación cruzada\n",
    "    for train_idx, valid_idx in cv.split(features_train_ord, target_train_ord):\n",
    "        X_train, X_valid = features_train_ord.iloc[train_idx], features_train_ord.iloc[valid_idx]\n",
    "        y_train, y_valid = target_train_ord.iloc[train_idx], target_train_ord.iloc[valid_idx]\n",
    "\n",
    "        # Entrenar el modelo con early stopping\n",
    "        cat_classifier.fit(\n",
    "            X_train, y_train,\n",
    "            eval_set=(X_valid, y_valid),\n",
    "            early_stopping_rounds=early_stopping_rounds,\n",
    "            verbose=False  # Silenciar la salida durante el entrenamiento\n",
    "        )\n",
    "\n",
    "        # Predecir probabilidades en el conjunto de validación\n",
    "        preds_proba = cat_classifier.predict_proba(X_valid)[:, 1]\n",
    "\n",
    "        # Calcular el AUC-ROC para el fold actual\n",
    "        auc = roc_auc_score(y_valid, preds_proba)\n",
    "        auc_scores.append(auc)\n",
    "\n",
    "    # Calcular el promedio del AUC-ROC a través de todos los folds\n",
    "    mean_auc = np.mean(auc_scores)\n",
    "\n",
    "    return mean_auc"
   ]
  },
  {
   "cell_type": "code",
   "execution_count": null,
   "metadata": {},
   "outputs": [],
   "source": [
    "# Configurar y ejecutar el estudio de Optuna\n",
    "study = optuna.create_study(\n",
    "    direction='maximize', sampler=optuna.samplers.TPESampler(seed=54321))\n",
    "# Puedes ajustar n_trials y timeout según tus necesidades\n",
    "study.optimize(optuna_catboost, n_trials=100, timeout=600)\n",
    "\n",
    "# Obtener los mejores hiperparámetros\n",
    "best_params = study.best_params\n",
    "best_auc = study.best_value\n",
    "\n",
    "print(f\"Mejores hiperparámetros: {best_params}\")\n",
    "print(f\"Mejor AUC-ROC promedio: {best_auc:.4f}\")"
   ]
  },
  {
   "cell_type": "code",
   "execution_count": null,
   "metadata": {},
   "outputs": [],
   "source": []
  },
  {
   "cell_type": "code",
   "execution_count": null,
   "metadata": {},
   "outputs": [],
   "source": []
  },
  {
   "cell_type": "code",
   "execution_count": null,
   "metadata": {},
   "outputs": [],
   "source": []
  }
 ],
 "metadata": {
  "kernelspec": {
   "display_name": "EnsamblesCatBoost",
   "language": "python",
   "name": "python3"
  },
  "language_info": {
   "codemirror_mode": {
    "name": "ipython",
    "version": 3
   },
   "file_extension": ".py",
   "mimetype": "text/x-python",
   "name": "python",
   "nbconvert_exporter": "python",
   "pygments_lexer": "ipython3",
   "version": "3.11.9"
  }
 },
 "nbformat": 4,
 "nbformat_minor": 2
}
