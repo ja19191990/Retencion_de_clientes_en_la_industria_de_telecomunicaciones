{
 "cells": [
  {
   "cell_type": "markdown",
   "metadata": {},
   "source": [
    "## Importación"
   ]
  },
  {
   "cell_type": "code",
   "execution_count": 1,
   "metadata": {},
   "outputs": [],
   "source": [
    "import pandas as pd\n",
    "import os\n",
    "import sys\n",
    "\n",
    "import matplotlib.pyplot as plt\n",
    "import seaborn as sns\n",
    "\n",
    "from sklearn.preprocessing import OrdinalEncoder\n",
    "from sklearn.model_selection import train_test_split\n",
    "from sklearn.preprocessing import StandardScaler\n",
    "from sklearn.utils import shuffle\n",
    "\n",
    "from Dict.dict_df import dict_df\n",
    "from Functions.functions import save_dataframe\n",
    "from Functions.functions import create_dict\n",
    "from Functions.functions import create_and_save_dict\n",
    "from Functions.functions import upsample"
   ]
  },
  {
   "cell_type": "markdown",
   "metadata": {},
   "source": [
    "## Leer datos"
   ]
  },
  {
   "cell_type": "code",
   "execution_count": 2,
   "metadata": {},
   "outputs": [],
   "source": [
    "# Agregar el directorio raíz del proyecto a sys.path\n",
    "# from Dict.dict_df import dict_df\n",
    "project_root = os.getcwd()\n",
    "if project_root not in sys.path:\n",
    "    sys.path.append(project_root)\n",
    "\n",
    "# Importar el diccionario desde Dict/dict_df.py\n",
    "# from Dict.dict_df import dict_df"
   ]
  },
  {
   "cell_type": "code",
   "execution_count": 3,
   "metadata": {},
   "outputs": [],
   "source": [
    "# Definir la ruta del archivo CSV\n",
    "csv_path_df = os.path.join('Data', '.ipynb_checkpoints', 'df.csv')\n",
    "\n",
    "# Leer el CSV usando el diccionario de tipos\n",
    "df = pd.read_csv(csv_path_df, dtype=dict_df, parse_dates=['Begin_Date'])"
   ]
  },
  {
   "cell_type": "code",
   "execution_count": 4,
   "metadata": {},
   "outputs": [
    {
     "name": "stdout",
     "output_type": "stream",
     "text": [
      "<class 'pandas.core.frame.DataFrame'>\n",
      "RangeIndex: 4849 entries, 0 to 4848\n",
      "Data columns (total 20 columns):\n",
      " #   Column             Non-Null Count  Dtype         \n",
      "---  ------             --------------  -----         \n",
      " 0   Customer_ID        4849 non-null   object        \n",
      " 1   Begin_Date         4849 non-null   datetime64[ns]\n",
      " 2   End_Date           4849 non-null   object        \n",
      " 3   Type               4849 non-null   object        \n",
      " 4   Paperless_Billing  4849 non-null   object        \n",
      " 5   Payment_Method     4849 non-null   object        \n",
      " 6   Monthly_Charges    4849 non-null   float64       \n",
      " 7   Total_Charges      4849 non-null   float64       \n",
      " 8   Gender             4849 non-null   object        \n",
      " 9   Senior_Citizen     4849 non-null   int64         \n",
      " 10  Partner            4849 non-null   object        \n",
      " 11  Dependents         4849 non-null   object        \n",
      " 12  Multiple_Lines     4849 non-null   object        \n",
      " 13  Internet_Service   4849 non-null   object        \n",
      " 14  Online_Security    4849 non-null   object        \n",
      " 15  Online_Backup      4849 non-null   object        \n",
      " 16  Device_Protection  4849 non-null   object        \n",
      " 17  Tech_Support       4849 non-null   object        \n",
      " 18  Streaming_TV       4849 non-null   object        \n",
      " 19  Streaming_Movies   4849 non-null   object        \n",
      "dtypes: datetime64[ns](1), float64(2), int64(1), object(16)\n",
      "memory usage: 757.8+ KB\n"
     ]
    }
   ],
   "source": [
    "# df = pd.read_csv('Data\\.ipynb_checkpoints\\df.csv', parse_dates=['Begin_Date'])\n",
    "df.info()"
   ]
  },
  {
   "cell_type": "code",
   "execution_count": 5,
   "metadata": {},
   "outputs": [
    {
     "name": "stdout",
     "output_type": "stream",
     "text": [
      "End_Date\n",
      "0    4439\n",
      "1     410\n",
      "Name: count, dtype: int64\n"
     ]
    }
   ],
   "source": [
    "print(df['End_Date'].value_counts())"
   ]
  },
  {
   "cell_type": "markdown",
   "metadata": {},
   "source": [
    "## Preprocessing "
   ]
  },
  {
   "cell_type": "markdown",
   "metadata": {},
   "source": [
    "### Eliminación de la columna Customer_ID"
   ]
  },
  {
   "cell_type": "markdown",
   "metadata": {},
   "source": [
    "Una vez realizada la unión de los datasets en un DataFrame __df__ ya se puede eliminar la columna __Customer_ID__ para proseguir con el preprocesamiento de los datos."
   ]
  },
  {
   "cell_type": "code",
   "execution_count": 6,
   "metadata": {},
   "outputs": [
    {
     "name": "stdout",
     "output_type": "stream",
     "text": [
      "<class 'pandas.core.frame.DataFrame'>\n",
      "RangeIndex: 4849 entries, 0 to 4848\n",
      "Data columns (total 20 columns):\n",
      " #   Column             Non-Null Count  Dtype         \n",
      "---  ------             --------------  -----         \n",
      " 0   Customer_ID        4849 non-null   object        \n",
      " 1   Begin_Date         4849 non-null   datetime64[ns]\n",
      " 2   End_Date           4849 non-null   int8          \n",
      " 3   Type               4849 non-null   object        \n",
      " 4   Paperless_Billing  4849 non-null   object        \n",
      " 5   Payment_Method     4849 non-null   object        \n",
      " 6   Monthly_Charges    4849 non-null   float64       \n",
      " 7   Total_Charges      4849 non-null   float64       \n",
      " 8   Gender             4849 non-null   object        \n",
      " 9   Senior_Citizen     4849 non-null   int64         \n",
      " 10  Partner            4849 non-null   object        \n",
      " 11  Dependents         4849 non-null   object        \n",
      " 12  Multiple_Lines     4849 non-null   object        \n",
      " 13  Internet_Service   4849 non-null   object        \n",
      " 14  Online_Security    4849 non-null   object        \n",
      " 15  Online_Backup      4849 non-null   object        \n",
      " 16  Device_Protection  4849 non-null   object        \n",
      " 17  Tech_Support       4849 non-null   object        \n",
      " 18  Streaming_TV       4849 non-null   object        \n",
      " 19  Streaming_Movies   4849 non-null   object        \n",
      "dtypes: datetime64[ns](1), float64(2), int64(1), int8(1), object(15)\n",
      "memory usage: 724.6+ KB\n"
     ]
    }
   ],
   "source": [
    "## Convertir la columna 'End_Date' a int\n",
    "df['End_Date'] = pd.to_numeric(df['End_Date'], downcast='integer')\n",
    "df.info()"
   ]
  },
  {
   "cell_type": "code",
   "execution_count": 7,
   "metadata": {},
   "outputs": [
    {
     "name": "stdout",
     "output_type": "stream",
     "text": [
      "<class 'pandas.core.frame.DataFrame'>\n",
      "RangeIndex: 4849 entries, 0 to 4848\n",
      "Data columns (total 19 columns):\n",
      " #   Column             Non-Null Count  Dtype         \n",
      "---  ------             --------------  -----         \n",
      " 0   Begin_Date         4849 non-null   datetime64[ns]\n",
      " 1   End_Date           4849 non-null   int8          \n",
      " 2   Type               4849 non-null   object        \n",
      " 3   Paperless_Billing  4849 non-null   object        \n",
      " 4   Payment_Method     4849 non-null   object        \n",
      " 5   Monthly_Charges    4849 non-null   float64       \n",
      " 6   Total_Charges      4849 non-null   float64       \n",
      " 7   Gender             4849 non-null   object        \n",
      " 8   Senior_Citizen     4849 non-null   int64         \n",
      " 9   Partner            4849 non-null   object        \n",
      " 10  Dependents         4849 non-null   object        \n",
      " 11  Multiple_Lines     4849 non-null   object        \n",
      " 12  Internet_Service   4849 non-null   object        \n",
      " 13  Online_Security    4849 non-null   object        \n",
      " 14  Online_Backup      4849 non-null   object        \n",
      " 15  Device_Protection  4849 non-null   object        \n",
      " 16  Tech_Support       4849 non-null   object        \n",
      " 17  Streaming_TV       4849 non-null   object        \n",
      " 18  Streaming_Movies   4849 non-null   object        \n",
      "dtypes: datetime64[ns](1), float64(2), int64(1), int8(1), object(14)\n",
      "memory usage: 686.8+ KB\n",
      "\n"
     ]
    },
    {
     "data": {
      "text/html": [
       "<div>\n",
       "<style scoped>\n",
       "    .dataframe tbody tr th:only-of-type {\n",
       "        vertical-align: middle;\n",
       "    }\n",
       "\n",
       "    .dataframe tbody tr th {\n",
       "        vertical-align: top;\n",
       "    }\n",
       "\n",
       "    .dataframe thead th {\n",
       "        text-align: right;\n",
       "    }\n",
       "</style>\n",
       "<table border=\"1\" class=\"dataframe\">\n",
       "  <thead>\n",
       "    <tr style=\"text-align: right;\">\n",
       "      <th></th>\n",
       "      <th>Begin_Date</th>\n",
       "      <th>End_Date</th>\n",
       "      <th>Type</th>\n",
       "      <th>Paperless_Billing</th>\n",
       "      <th>Payment_Method</th>\n",
       "      <th>Monthly_Charges</th>\n",
       "      <th>Total_Charges</th>\n",
       "      <th>Gender</th>\n",
       "      <th>Senior_Citizen</th>\n",
       "      <th>Partner</th>\n",
       "      <th>Dependents</th>\n",
       "      <th>Multiple_Lines</th>\n",
       "      <th>Internet_Service</th>\n",
       "      <th>Online_Security</th>\n",
       "      <th>Online_Backup</th>\n",
       "      <th>Device_Protection</th>\n",
       "      <th>Tech_Support</th>\n",
       "      <th>Streaming_TV</th>\n",
       "      <th>Streaming_Movies</th>\n",
       "    </tr>\n",
       "  </thead>\n",
       "  <tbody>\n",
       "    <tr>\n",
       "      <th>0</th>\n",
       "      <td>2019-05-01</td>\n",
       "      <td>0</td>\n",
       "      <td>one year</td>\n",
       "      <td>yes</td>\n",
       "      <td>mailed check</td>\n",
       "      <td>65.6</td>\n",
       "      <td>593.30</td>\n",
       "      <td>female</td>\n",
       "      <td>0</td>\n",
       "      <td>yes</td>\n",
       "      <td>yes</td>\n",
       "      <td>no</td>\n",
       "      <td>dsl</td>\n",
       "      <td>no</td>\n",
       "      <td>yes</td>\n",
       "      <td>no</td>\n",
       "      <td>yes</td>\n",
       "      <td>yes</td>\n",
       "      <td>no</td>\n",
       "    </tr>\n",
       "    <tr>\n",
       "      <th>1</th>\n",
       "      <td>2019-05-01</td>\n",
       "      <td>0</td>\n",
       "      <td>month-to-month</td>\n",
       "      <td>no</td>\n",
       "      <td>mailed check</td>\n",
       "      <td>59.9</td>\n",
       "      <td>542.40</td>\n",
       "      <td>male</td>\n",
       "      <td>0</td>\n",
       "      <td>no</td>\n",
       "      <td>no</td>\n",
       "      <td>yes</td>\n",
       "      <td>dsl</td>\n",
       "      <td>no</td>\n",
       "      <td>no</td>\n",
       "      <td>no</td>\n",
       "      <td>no</td>\n",
       "      <td>no</td>\n",
       "      <td>yes</td>\n",
       "    </tr>\n",
       "    <tr>\n",
       "      <th>2</th>\n",
       "      <td>2019-09-01</td>\n",
       "      <td>1</td>\n",
       "      <td>month-to-month</td>\n",
       "      <td>yes</td>\n",
       "      <td>electronic check</td>\n",
       "      <td>73.9</td>\n",
       "      <td>280.85</td>\n",
       "      <td>male</td>\n",
       "      <td>0</td>\n",
       "      <td>no</td>\n",
       "      <td>no</td>\n",
       "      <td>no</td>\n",
       "      <td>fiber optic</td>\n",
       "      <td>no</td>\n",
       "      <td>no</td>\n",
       "      <td>yes</td>\n",
       "      <td>no</td>\n",
       "      <td>no</td>\n",
       "      <td>no</td>\n",
       "    </tr>\n",
       "    <tr>\n",
       "      <th>3</th>\n",
       "      <td>2018-12-01</td>\n",
       "      <td>1</td>\n",
       "      <td>month-to-month</td>\n",
       "      <td>yes</td>\n",
       "      <td>electronic check</td>\n",
       "      <td>98.0</td>\n",
       "      <td>1237.85</td>\n",
       "      <td>male</td>\n",
       "      <td>1</td>\n",
       "      <td>yes</td>\n",
       "      <td>no</td>\n",
       "      <td>no</td>\n",
       "      <td>fiber optic</td>\n",
       "      <td>no</td>\n",
       "      <td>yes</td>\n",
       "      <td>yes</td>\n",
       "      <td>no</td>\n",
       "      <td>yes</td>\n",
       "      <td>yes</td>\n",
       "    </tr>\n",
       "    <tr>\n",
       "      <th>4</th>\n",
       "      <td>2019-05-01</td>\n",
       "      <td>0</td>\n",
       "      <td>month-to-month</td>\n",
       "      <td>yes</td>\n",
       "      <td>credit card</td>\n",
       "      <td>69.4</td>\n",
       "      <td>571.45</td>\n",
       "      <td>female</td>\n",
       "      <td>0</td>\n",
       "      <td>no</td>\n",
       "      <td>yes</td>\n",
       "      <td>no</td>\n",
       "      <td>dsl</td>\n",
       "      <td>no</td>\n",
       "      <td>no</td>\n",
       "      <td>no</td>\n",
       "      <td>yes</td>\n",
       "      <td>yes</td>\n",
       "      <td>yes</td>\n",
       "    </tr>\n",
       "  </tbody>\n",
       "</table>\n",
       "</div>"
      ],
      "text/plain": [
       "  Begin_Date  End_Date            Type Paperless_Billing    Payment_Method  \\\n",
       "0 2019-05-01         0        one year               yes      mailed check   \n",
       "1 2019-05-01         0  month-to-month                no      mailed check   \n",
       "2 2019-09-01         1  month-to-month               yes  electronic check   \n",
       "3 2018-12-01         1  month-to-month               yes  electronic check   \n",
       "4 2019-05-01         0  month-to-month               yes       credit card   \n",
       "\n",
       "   Monthly_Charges  Total_Charges  Gender  Senior_Citizen Partner Dependents  \\\n",
       "0             65.6         593.30  female               0     yes        yes   \n",
       "1             59.9         542.40    male               0      no         no   \n",
       "2             73.9         280.85    male               0      no         no   \n",
       "3             98.0        1237.85    male               1     yes         no   \n",
       "4             69.4         571.45  female               0      no        yes   \n",
       "\n",
       "  Multiple_Lines Internet_Service Online_Security Online_Backup  \\\n",
       "0             no              dsl              no           yes   \n",
       "1            yes              dsl              no            no   \n",
       "2             no      fiber optic              no            no   \n",
       "3             no      fiber optic              no           yes   \n",
       "4             no              dsl              no            no   \n",
       "\n",
       "  Device_Protection Tech_Support Streaming_TV Streaming_Movies  \n",
       "0                no          yes          yes               no  \n",
       "1                no           no           no              yes  \n",
       "2               yes           no           no               no  \n",
       "3               yes           no          yes              yes  \n",
       "4                no          yes          yes              yes  "
      ]
     },
     "metadata": {},
     "output_type": "display_data"
    }
   ],
   "source": [
    "df = df.drop('Customer_ID', axis=1)\n",
    "df.info()\n",
    "print()\n",
    "display(df.head())"
   ]
  },
  {
   "cell_type": "markdown",
   "metadata": {},
   "source": [
    "### Extracción de información de la columna __Begin_Date__ y eliminación posterior"
   ]
  },
  {
   "cell_type": "code",
   "execution_count": 8,
   "metadata": {},
   "outputs": [
    {
     "name": "stdout",
     "output_type": "stream",
     "text": [
      "<class 'pandas.core.frame.DataFrame'>\n",
      "RangeIndex: 4849 entries, 0 to 4848\n",
      "Data columns (total 23 columns):\n",
      " #   Column             Non-Null Count  Dtype         \n",
      "---  ------             --------------  -----         \n",
      " 0   Begin_Date         4849 non-null   datetime64[ns]\n",
      " 1   End_Date           4849 non-null   int8          \n",
      " 2   Type               4849 non-null   object        \n",
      " 3   Paperless_Billing  4849 non-null   object        \n",
      " 4   Payment_Method     4849 non-null   object        \n",
      " 5   Monthly_Charges    4849 non-null   float64       \n",
      " 6   Total_Charges      4849 non-null   float64       \n",
      " 7   Gender             4849 non-null   object        \n",
      " 8   Senior_Citizen     4849 non-null   int64         \n",
      " 9   Partner            4849 non-null   object        \n",
      " 10  Dependents         4849 non-null   object        \n",
      " 11  Multiple_Lines     4849 non-null   object        \n",
      " 12  Internet_Service   4849 non-null   object        \n",
      " 13  Online_Security    4849 non-null   object        \n",
      " 14  Online_Backup      4849 non-null   object        \n",
      " 15  Device_Protection  4849 non-null   object        \n",
      " 16  Tech_Support       4849 non-null   object        \n",
      " 17  Streaming_TV       4849 non-null   object        \n",
      " 18  Streaming_Movies   4849 non-null   object        \n",
      " 19  Year               4849 non-null   int32         \n",
      " 20  Month              4849 non-null   int32         \n",
      " 21  Day                4849 non-null   int32         \n",
      " 22  dow                4849 non-null   int32         \n",
      "dtypes: datetime64[ns](1), float64(2), int32(4), int64(1), int8(1), object(14)\n",
      "memory usage: 762.5+ KB\n"
     ]
    }
   ],
   "source": [
    "df['Year'] = df['Begin_Date'].dt.year\n",
    "df['Month'] = df['Begin_Date'].dt.month\n",
    "df['Day'] = df['Begin_Date'].dt.day\n",
    "df['dow'] = df['Begin_Date'].dt.dayofweek\n",
    "df.info()"
   ]
  },
  {
   "cell_type": "code",
   "execution_count": 9,
   "metadata": {},
   "outputs": [
    {
     "name": "stdout",
     "output_type": "stream",
     "text": [
      "<class 'pandas.core.frame.DataFrame'>\n",
      "RangeIndex: 4849 entries, 0 to 4848\n",
      "Data columns (total 22 columns):\n",
      " #   Column             Non-Null Count  Dtype  \n",
      "---  ------             --------------  -----  \n",
      " 0   End_Date           4849 non-null   int8   \n",
      " 1   Type               4849 non-null   object \n",
      " 2   Paperless_Billing  4849 non-null   object \n",
      " 3   Payment_Method     4849 non-null   object \n",
      " 4   Monthly_Charges    4849 non-null   float64\n",
      " 5   Total_Charges      4849 non-null   float64\n",
      " 6   Gender             4849 non-null   object \n",
      " 7   Senior_Citizen     4849 non-null   int64  \n",
      " 8   Partner            4849 non-null   object \n",
      " 9   Dependents         4849 non-null   object \n",
      " 10  Multiple_Lines     4849 non-null   object \n",
      " 11  Internet_Service   4849 non-null   object \n",
      " 12  Online_Security    4849 non-null   object \n",
      " 13  Online_Backup      4849 non-null   object \n",
      " 14  Device_Protection  4849 non-null   object \n",
      " 15  Tech_Support       4849 non-null   object \n",
      " 16  Streaming_TV       4849 non-null   object \n",
      " 17  Streaming_Movies   4849 non-null   object \n",
      " 18  Year               4849 non-null   int32  \n",
      " 19  Month              4849 non-null   int32  \n",
      " 20  Day                4849 non-null   int32  \n",
      " 21  dow                4849 non-null   int32  \n",
      "dtypes: float64(2), int32(4), int64(1), int8(1), object(14)\n",
      "memory usage: 724.6+ KB\n"
     ]
    }
   ],
   "source": [
    "df = df.drop('Begin_Date', axis=1)\n",
    "df.info()"
   ]
  },
  {
   "cell_type": "markdown",
   "metadata": {},
   "source": [
    "## Creación de features y target"
   ]
  },
  {
   "cell_type": "code",
   "execution_count": 10,
   "metadata": {},
   "outputs": [],
   "source": [
    "target = df['End_Date']\n",
    "features = df.drop('End_Date', axis=1)"
   ]
  },
  {
   "cell_type": "markdown",
   "metadata": {},
   "source": [
    "### Guardar"
   ]
  },
  {
   "cell_type": "code",
   "execution_count": 11,
   "metadata": {},
   "outputs": [
    {
     "name": "stdout",
     "output_type": "stream",
     "text": [
      "DataFrame guardado exitosamente en Data\\.ipynb_checkpoints\\target.csv\n",
      "DataFrame guardado exitosamente en Data\\.ipynb_checkpoints\\features.csv\n"
     ]
    }
   ],
   "source": [
    "save_dataframe(target, 'target')\n",
    "save_dataframe(features, 'features')"
   ]
  },
  {
   "cell_type": "markdown",
   "metadata": {},
   "source": [
    "### One-Hot Encoding"
   ]
  },
  {
   "cell_type": "markdown",
   "metadata": {},
   "source": [
    "Se transformaran los datos inicialmente utilizando One-Hot Encoding para el caso de las columnas categóricas para entrenar un modelo de regresión logística."
   ]
  },
  {
   "cell_type": "code",
   "execution_count": 12,
   "metadata": {},
   "outputs": [
    {
     "name": "stdout",
     "output_type": "stream",
     "text": [
      "<class 'pandas.core.frame.DataFrame'>\n",
      "RangeIndex: 4849 entries, 0 to 4848\n",
      "Data columns (total 25 columns):\n",
      " #   Column                           Non-Null Count  Dtype  \n",
      "---  ------                           --------------  -----  \n",
      " 0   Monthly_Charges                  4849 non-null   float64\n",
      " 1   Total_Charges                    4849 non-null   float64\n",
      " 2   Senior_Citizen                   4849 non-null   int64  \n",
      " 3   Year                             4849 non-null   int32  \n",
      " 4   Month                            4849 non-null   int32  \n",
      " 5   Day                              4849 non-null   int32  \n",
      " 6   dow                              4849 non-null   int32  \n",
      " 7   Type_one year                    4849 non-null   bool   \n",
      " 8   Type_two year                    4849 non-null   bool   \n",
      " 9   Paperless_Billing_yes            4849 non-null   bool   \n",
      " 10  Payment_Method_credit card       4849 non-null   bool   \n",
      " 11  Payment_Method_electronic check  4849 non-null   bool   \n",
      " 12  Payment_Method_mailed check      4849 non-null   bool   \n",
      " 13  Gender_male                      4849 non-null   bool   \n",
      " 14  Partner_yes                      4849 non-null   bool   \n",
      " 15  Dependents_yes                   4849 non-null   bool   \n",
      " 16  Multiple_Lines_yes               4849 non-null   bool   \n",
      " 17  Internet_Service_fiber optic     4849 non-null   bool   \n",
      " 18  Internet_Service_no              4849 non-null   bool   \n",
      " 19  Online_Security_yes              4849 non-null   bool   \n",
      " 20  Online_Backup_yes                4849 non-null   bool   \n",
      " 21  Device_Protection_yes            4849 non-null   bool   \n",
      " 22  Tech_Support_yes                 4849 non-null   bool   \n",
      " 23  Streaming_TV_yes                 4849 non-null   bool   \n",
      " 24  Streaming_Movies_yes             4849 non-null   bool   \n",
      "dtypes: bool(18), float64(2), int32(4), int64(1)\n",
      "memory usage: 274.8 KB\n"
     ]
    }
   ],
   "source": [
    "df_ohe = pd.get_dummies(features, drop_first=True)\n",
    "df_ohe.info()"
   ]
  },
  {
   "cell_type": "markdown",
   "metadata": {},
   "source": [
    "#### Guardar"
   ]
  },
  {
   "cell_type": "code",
   "execution_count": 13,
   "metadata": {},
   "outputs": [
    {
     "name": "stdout",
     "output_type": "stream",
     "text": [
      "DataFrame guardado exitosamente en Data\\.ipynb_checkpoints\\df_ohe.csv\n"
     ]
    }
   ],
   "source": [
    "save_dataframe(df_ohe, 'df_ohe')"
   ]
  },
  {
   "cell_type": "markdown",
   "metadata": {},
   "source": [
    "### Codificación de etiquetas"
   ]
  },
  {
   "cell_type": "markdown",
   "metadata": {},
   "source": [
    "Se  transformaron las columnas categóricas mediante la técnica de codificación de etiquetas para ocuparlas posteriormente en el entrenamiento de modelos de árboles de decisón y bosques aleatorios."
   ]
  },
  {
   "cell_type": "code",
   "execution_count": 14,
   "metadata": {},
   "outputs": [
    {
     "name": "stdout",
     "output_type": "stream",
     "text": [
      "   End_Date  Type  Paperless_Billing  Payment_Method  Monthly_Charges  \\\n",
      "0       0.0   1.0                1.0             3.0            430.0   \n",
      "1       0.0   0.0                0.0             3.0            339.0   \n",
      "2       1.0   0.0                1.0             2.0            564.0   \n",
      "3       1.0   0.0                1.0             2.0           1001.0   \n",
      "4       0.0   0.0                1.0             1.0            489.0   \n",
      "\n",
      "   Total_Charges  Gender  Senior_Citizen  Partner  Dependents  ...  \\\n",
      "0         1078.0     0.0             0.0      1.0         1.0  ...   \n",
      "1         1008.0     1.0             0.0      0.0         0.0  ...   \n",
      "2          602.0     1.0             0.0      0.0         0.0  ...   \n",
      "3         1826.0     1.0             1.0      1.0         0.0  ...   \n",
      "4         1047.0     0.0             0.0      0.0         1.0  ...   \n",
      "\n",
      "   Online_Security  Online_Backup  Device_Protection  Tech_Support  \\\n",
      "0              0.0            1.0                0.0           1.0   \n",
      "1              0.0            0.0                0.0           0.0   \n",
      "2              0.0            0.0                1.0           0.0   \n",
      "3              0.0            1.0                1.0           0.0   \n",
      "4              0.0            0.0                0.0           1.0   \n",
      "\n",
      "   Streaming_TV  Streaming_Movies  Year  Month  Day  dow  \n",
      "0           1.0               0.0   5.0    4.0  0.0  2.0  \n",
      "1           0.0               1.0   5.0    4.0  0.0  2.0  \n",
      "2           0.0               0.0   5.0    8.0  0.0  6.0  \n",
      "3           1.0               1.0   4.0   11.0  0.0  5.0  \n",
      "4           1.0               1.0   5.0    4.0  0.0  2.0  \n",
      "\n",
      "[5 rows x 22 columns]\n"
     ]
    }
   ],
   "source": [
    "encoder = OrdinalEncoder()\n",
    "encoder.fit(df)\n",
    "data_ordinal = encoder.transform(df)\n",
    "data_ordinal = pd.DataFrame(encoder.transform(df), columns=df.columns)\n",
    "\n",
    "print(data_ordinal.head())"
   ]
  },
  {
   "cell_type": "code",
   "execution_count": 15,
   "metadata": {},
   "outputs": [
    {
     "name": "stdout",
     "output_type": "stream",
     "text": [
      "<class 'pandas.core.frame.DataFrame'>\n",
      "RangeIndex: 4849 entries, 0 to 4848\n",
      "Data columns (total 22 columns):\n",
      " #   Column             Non-Null Count  Dtype  \n",
      "---  ------             --------------  -----  \n",
      " 0   End_Date           4849 non-null   float64\n",
      " 1   Type               4849 non-null   float64\n",
      " 2   Paperless_Billing  4849 non-null   float64\n",
      " 3   Payment_Method     4849 non-null   float64\n",
      " 4   Monthly_Charges    4849 non-null   float64\n",
      " 5   Total_Charges      4849 non-null   float64\n",
      " 6   Gender             4849 non-null   float64\n",
      " 7   Senior_Citizen     4849 non-null   float64\n",
      " 8   Partner            4849 non-null   float64\n",
      " 9   Dependents         4849 non-null   float64\n",
      " 10  Multiple_Lines     4849 non-null   float64\n",
      " 11  Internet_Service   4849 non-null   float64\n",
      " 12  Online_Security    4849 non-null   float64\n",
      " 13  Online_Backup      4849 non-null   float64\n",
      " 14  Device_Protection  4849 non-null   float64\n",
      " 15  Tech_Support       4849 non-null   float64\n",
      " 16  Streaming_TV       4849 non-null   float64\n",
      " 17  Streaming_Movies   4849 non-null   float64\n",
      " 18  Year               4849 non-null   float64\n",
      " 19  Month              4849 non-null   float64\n",
      " 20  Day                4849 non-null   float64\n",
      " 21  dow                4849 non-null   float64\n",
      "dtypes: float64(22)\n",
      "memory usage: 833.6 KB\n"
     ]
    }
   ],
   "source": [
    "data_ordinal.info()"
   ]
  },
  {
   "cell_type": "code",
   "execution_count": 16,
   "metadata": {},
   "outputs": [],
   "source": [
    "target_ord = data_ordinal['End_Date']\n",
    "features_ord = data_ordinal.drop('End_Date', axis=1)"
   ]
  },
  {
   "cell_type": "markdown",
   "metadata": {},
   "source": [
    "#### Guardar"
   ]
  },
  {
   "cell_type": "code",
   "execution_count": 17,
   "metadata": {},
   "outputs": [
    {
     "name": "stdout",
     "output_type": "stream",
     "text": [
      "DataFrame guardado exitosamente en Data\\.ipynb_checkpoints\\data_ordinal.csv\n",
      "DataFrame guardado exitosamente en Data\\.ipynb_checkpoints\\target_ord.csv\n",
      "DataFrame guardado exitosamente en Data\\.ipynb_checkpoints\\features_ord.csv\n"
     ]
    }
   ],
   "source": [
    "save_dataframe(data_ordinal, 'data_ordinal')\n",
    "save_dataframe(target_ord, 'target_ord')\n",
    "save_dataframe(features_ord, 'features_ord')"
   ]
  },
  {
   "cell_type": "markdown",
   "metadata": {},
   "source": [
    "## Segmentación de los datos"
   ]
  },
  {
   "cell_type": "markdown",
   "metadata": {},
   "source": [
    "### Para regresión logística"
   ]
  },
  {
   "cell_type": "code",
   "execution_count": 18,
   "metadata": {},
   "outputs": [],
   "source": [
    "# Primera división: 40% a temp, 60% para entrenamiento con estratificación\n",
    "features_train, features_temp, target_train, target_temp = train_test_split(\n",
    "    df_ohe, target, test_size=0.4, random_state=12345\n",
    ")\n",
    "\n",
    "# Segunda división: 50% de temp para validación y 50% para prueba con estratificación\n",
    "features_valid, features_test, target_valid, target_test = train_test_split(\n",
    "    features_temp, target_temp, test_size=0.5, random_state=12345\n",
    ")"
   ]
  },
  {
   "cell_type": "markdown",
   "metadata": {},
   "source": [
    "### Para bosques aleatorios"
   ]
  },
  {
   "cell_type": "code",
   "execution_count": 19,
   "metadata": {},
   "outputs": [],
   "source": [
    "# Primera división: 40% de temp, 60% para entrenamiento\n",
    "features_train_ord, features_temp_ord, target_train_ord, target_temp_ord = train_test_split(\n",
    "    features_ord, target_ord, test_size=0.4, random_state=12345\n",
    ")\n",
    "\n",
    "# # Segunda división: 50% de los datos restantes de la división incial para validación y 50% para prueba\n",
    "features_valid_ord, features_test_ord, target_valid_ord, target_test_ord = train_test_split(\n",
    "    features_temp_ord, target_temp_ord, test_size=0.5, random_state=12345\n",
    ")"
   ]
  },
  {
   "cell_type": "markdown",
   "metadata": {},
   "source": [
    "## Escalamiento de caractarísticas númericas con StandardScaler."
   ]
  },
  {
   "cell_type": "code",
   "execution_count": 20,
   "metadata": {},
   "outputs": [],
   "source": [
    "numeric = ['Monthly_Charges', 'Total_Charges', 'Senior_Citizen', 'Year', 'Month', 'Day', 'dow']"
   ]
  },
  {
   "cell_type": "markdown",
   "metadata": {},
   "source": [
    "### Para regresión logística"
   ]
  },
  {
   "cell_type": "code",
   "execution_count": 21,
   "metadata": {},
   "outputs": [
    {
     "name": "stdout",
     "output_type": "stream",
     "text": [
      "      Monthly_Charges  Total_Charges  Senior_Citizen      Year     Month  Day  \\\n",
      "3164         0.470300      -0.849640       -0.406774  1.311553 -0.116497  0.0   \n",
      "3989        -1.414190      -0.573924       -0.406774 -0.781033 -0.959508  0.0   \n",
      "972          0.728863       1.453072       -0.406774 -1.304180 -0.116497  0.0   \n",
      "66           0.687619      -0.457868       -0.406774  0.788407  0.164506  0.0   \n",
      "3969         1.152397      -0.731979       -0.406774  1.311553 -0.397501  0.0   \n",
      "\n",
      "           dow  Type_one year  Type_two year  Paperless_Billing_yes  ...  \\\n",
      "3164  0.857784          False          False                   True  ...   \n",
      "3989  1.355946          False           True                  False  ...   \n",
      "972   1.355946          False           True                   True  ...   \n",
      "66    1.355946          False          False                   True  ...   \n",
      "3969 -0.636702          False          False                   True  ...   \n",
      "\n",
      "      Dependents_yes  Multiple_Lines_yes  Internet_Service_fiber optic  \\\n",
      "3164           False               False                          True   \n",
      "3989            True               False                         False   \n",
      "972            False                True                         False   \n",
      "66             False                True                          True   \n",
      "3969            True               False                          True   \n",
      "\n",
      "      Internet_Service_no  Online_Security_yes  Online_Backup_yes  \\\n",
      "3164                False                False              False   \n",
      "3989                 True                False              False   \n",
      "972                 False                 True               True   \n",
      "66                  False                False              False   \n",
      "3969                False                False               True   \n",
      "\n",
      "      Device_Protection_yes  Tech_Support_yes  Streaming_TV_yes  \\\n",
      "3164                  False             False              True   \n",
      "3989                  False             False             False   \n",
      "972                    True              True              True   \n",
      "66                    False             False              True   \n",
      "3969                  False              True              True   \n",
      "\n",
      "      Streaming_Movies_yes  \n",
      "3164                 False  \n",
      "3989                 False  \n",
      "972                   True  \n",
      "66                   False  \n",
      "3969                  True  \n",
      "\n",
      "[5 rows x 25 columns]\n"
     ]
    }
   ],
   "source": [
    "scaler = StandardScaler()\n",
    "scaler.fit(features_train[numeric])\n",
    "features_train[numeric] = scaler.transform(features_train[numeric])\n",
    "features_valid[numeric] = scaler.transform(features_valid[numeric])\n",
    "print(features_train.head())"
   ]
  },
  {
   "cell_type": "markdown",
   "metadata": {},
   "source": [
    "#### Guardar"
   ]
  },
  {
   "cell_type": "code",
   "execution_count": 22,
   "metadata": {},
   "outputs": [
    {
     "name": "stdout",
     "output_type": "stream",
     "text": [
      "DataFrame guardado exitosamente en Data\\.ipynb_checkpoints\\features_train.csv\n",
      "DataFrame guardado exitosamente en Data\\.ipynb_checkpoints\\features_valid.csv\n",
      "DataFrame guardado exitosamente en Data\\.ipynb_checkpoints\\features_test.csv\n",
      "DataFrame guardado exitosamente en Data\\.ipynb_checkpoints\\target_train.csv\n",
      "DataFrame guardado exitosamente en Data\\.ipynb_checkpoints\\target_valid.csv\n",
      "DataFrame guardado exitosamente en Data\\.ipynb_checkpoints\\target_test.csv\n"
     ]
    }
   ],
   "source": [
    "save_dataframe(features_train, 'features_train')\n",
    "save_dataframe(features_valid, 'features_valid')\n",
    "save_dataframe(features_test, 'features_test')\n",
    "save_dataframe(target_train, 'target_train')\n",
    "save_dataframe(target_valid, 'target_valid')\n",
    "save_dataframe(target_test, 'target_test')"
   ]
  },
  {
   "cell_type": "markdown",
   "metadata": {},
   "source": [
    "### Para bosques aleatorios"
   ]
  },
  {
   "cell_type": "code",
   "execution_count": 23,
   "metadata": {},
   "outputs": [
    {
     "name": "stdout",
     "output_type": "stream",
     "text": [
      "      Type  Paperless_Billing  Payment_Method  Monthly_Charges  Total_Charges  \\\n",
      "3164   0.0                1.0             0.0         0.342063      -0.872332   \n",
      "3989   2.0                0.0             3.0        -1.217450      -0.311840   \n",
      "972    2.0                1.0             2.0         0.713492       1.323293   \n",
      "66     0.0                1.0             2.0         0.659377      -0.102560   \n",
      "3969   0.0                1.0             2.0         1.306304      -0.622500   \n",
      "\n",
      "      Gender  Senior_Citizen  Partner  Dependents  Multiple_Lines  ...  \\\n",
      "3164     0.0       -0.406774      0.0         0.0             0.0  ...   \n",
      "3989     0.0       -0.406774      1.0         1.0             0.0  ...   \n",
      "972      0.0       -0.406774      0.0         0.0             1.0  ...   \n",
      "66       0.0       -0.406774      1.0         0.0             1.0  ...   \n",
      "3969     1.0       -0.406774      1.0         1.0             0.0  ...   \n",
      "\n",
      "      Online_Security  Online_Backup  Device_Protection  Tech_Support  \\\n",
      "3164              0.0            0.0                0.0           0.0   \n",
      "3989              0.0            0.0                0.0           0.0   \n",
      "972               1.0            1.0                1.0           1.0   \n",
      "66                0.0            0.0                0.0           0.0   \n",
      "3969              0.0            1.0                0.0           1.0   \n",
      "\n",
      "      Streaming_TV  Streaming_Movies      Year     Month  Day       dow  \n",
      "3164           1.0               0.0  1.311553 -0.116497  0.0  0.857784  \n",
      "3989           0.0               0.0 -0.781033 -0.959508  0.0  1.355946  \n",
      "972            1.0               1.0 -1.304180 -0.116497  0.0  1.355946  \n",
      "66             1.0               0.0  0.788407  0.164506  0.0  1.355946  \n",
      "3969           1.0               1.0  1.311553 -0.397501  0.0 -0.636702  \n",
      "\n",
      "[5 rows x 21 columns]\n"
     ]
    }
   ],
   "source": [
    "scaler_ord = StandardScaler()\n",
    "scaler_ord.fit(features_train_ord[numeric])\n",
    "features_train_ord[numeric] = scaler_ord.transform(features_train_ord[numeric])\n",
    "features_valid_ord[numeric] = scaler_ord.transform(features_valid_ord[numeric])\n",
    "print(features_train_ord.head())"
   ]
  },
  {
   "cell_type": "markdown",
   "metadata": {},
   "source": [
    "#### Guardar"
   ]
  },
  {
   "cell_type": "code",
   "execution_count": 24,
   "metadata": {},
   "outputs": [
    {
     "name": "stdout",
     "output_type": "stream",
     "text": [
      "DataFrame guardado exitosamente en Data\\.ipynb_checkpoints\\features_train_ord.csv\n",
      "DataFrame guardado exitosamente en Data\\.ipynb_checkpoints\\features_valid_ord.csv\n",
      "DataFrame guardado exitosamente en Data\\.ipynb_checkpoints\\features_test_ord.csv\n",
      "DataFrame guardado exitosamente en Data\\.ipynb_checkpoints\\target_train_ord.csv\n",
      "DataFrame guardado exitosamente en Data\\.ipynb_checkpoints\\target_valid_ord.csv\n",
      "DataFrame guardado exitosamente en Data\\.ipynb_checkpoints\\target_test_ord.csv\n"
     ]
    }
   ],
   "source": [
    "save_dataframe(features_train_ord, 'features_train_ord')\n",
    "save_dataframe(features_valid_ord, 'features_valid_ord')\n",
    "save_dataframe(features_test_ord, 'features_test_ord')\n",
    "save_dataframe(target_train_ord, 'target_train_ord')\n",
    "save_dataframe(target_valid_ord, 'target_valid_ord')\n",
    "save_dataframe(target_test_ord, 'target_test_ord')"
   ]
  },
  {
   "cell_type": "markdown",
   "metadata": {},
   "source": [
    "#### Creación de  scripts"
   ]
  },
  {
   "cell_type": "code",
   "execution_count": 25,
   "metadata": {},
   "outputs": [
    {
     "name": "stdout",
     "output_type": "stream",
     "text": [
      "Diccionario generado y guardado exitosamente en: Dict\\dict_features_train_ord.py\n",
      "Diccionario generado y guardado exitosamente en: Dict\\dict_target_train_ord.py\n"
     ]
    }
   ],
   "source": [
    "create_and_save_dict(features_train_ord, 'features_train_ord')\n",
    "create_and_save_dict(target_train_ord, 'target_train_ord')"
   ]
  },
  {
   "cell_type": "markdown",
   "metadata": {},
   "source": [
    "## Desequilibrio de clases"
   ]
  },
  {
   "cell_type": "markdown",
   "metadata": {},
   "source": [
    "Comprobar el desequilibrio de las clases en la columna __'End_Date'__"
   ]
  },
  {
   "cell_type": "code",
   "execution_count": 26,
   "metadata": {},
   "outputs": [
    {
     "name": "stdout",
     "output_type": "stream",
     "text": [
      "<class 'pandas.core.series.Series'>\n",
      "RangeIndex: 4849 entries, 0 to 4848\n",
      "Series name: End_Date\n",
      "Non-Null Count  Dtype\n",
      "--------------  -----\n",
      "4849 non-null   int8 \n",
      "dtypes: int8(1)\n",
      "memory usage: 4.9 KB\n",
      "0\n"
     ]
    }
   ],
   "source": [
    "target.info()\n",
    "\n",
    "print(target.isnull().sum())"
   ]
  },
  {
   "cell_type": "code",
   "execution_count": 27,
   "metadata": {},
   "outputs": [
    {
     "data": {
      "image/png": "[encoded data removed]",
      "text/plain": [
       "<Figure size 640x480 with 1 Axes>"
      ]
     },
     "metadata": {},
     "output_type": "display_data"
    }
   ],
   "source": [
    "ax = target.value_counts().plot(kind='bar')\n",
    "plt.xticks(rotation=0)\n",
    "plt.xlabel('Target')\n",
    "plt.ylabel('Count')\n",
    "plt.title('Desbalanceo de clases original')\n",
    "\n",
    "for p in ax.containers:\n",
    "    ax.bar_label(p, label_type='edge')\n",
    "plt.show()"
   ]
  },
  {
   "cell_type": "markdown",
   "metadata": {},
   "source": [
    "Se observa que exite un desiquilibrio de clases en la columna target __'End_Date'__ en un proporción apróximada de 10:1 entre la clase __0__ y __1__ respectivamente. Lo anterior se puede solucionar utiiizando el sobremuestreo."
   ]
  },
  {
   "cell_type": "markdown",
   "metadata": {},
   "source": [
    "## Sobremuestreo"
   ]
  },
  {
   "cell_type": "markdown",
   "metadata": {},
   "source": [
    "### Para regresión logística"
   ]
  },
  {
   "cell_type": "markdown",
   "metadata": {},
   "source": [
    "#### Dividir el conjunto de datos de entrenamiento en observaciones negativas y positivas;"
   ]
  },
  {
   "cell_type": "code",
   "execution_count": 28,
   "metadata": {},
   "outputs": [
    {
     "name": "stdout",
     "output_type": "stream",
     "text": [
      "(2909, 25)\n",
      "(970, 25)\n",
      "(2909,)\n",
      "(970,)\n"
     ]
    }
   ],
   "source": [
    "print(features_train.shape)\n",
    "print(features_valid.shape)\n",
    "print(target_train.shape)\n",
    "print(target_valid.shape)"
   ]
  },
  {
   "cell_type": "code",
   "execution_count": 29,
   "metadata": {},
   "outputs": [
    {
     "name": "stdout",
     "output_type": "stream",
     "text": [
      "(2665, 25)\n",
      "(244, 25)\n",
      "(2665,)\n",
      "(244,)\n"
     ]
    }
   ],
   "source": [
    "features_zeros = features_train[target_train == 0]\n",
    "features_ones = features_train[target_train == 1]\n",
    "target_zeros = target_train[target_train == 0]\n",
    "target_ones = target_train[target_train == 1]\n",
    "\n",
    "print(features_zeros.shape)\n",
    "print(features_ones.shape)\n",
    "print(target_zeros.shape)\n",
    "print(target_ones.shape)"
   ]
  },
  {
   "cell_type": "code",
   "execution_count": 30,
   "metadata": {},
   "outputs": [],
   "source": [
    "features_upsampled, target_upsampled = upsample(features_train, target_train, 11)"
   ]
  },
  {
   "cell_type": "code",
   "execution_count": 31,
   "metadata": {},
   "outputs": [
    {
     "data": {
      "image/png": "[encoded data removed]",
      "text/plain": [
       "<Figure size 640x480 with 1 Axes>"
      ]
     },
     "metadata": {},
     "output_type": "display_data"
    }
   ],
   "source": [
    "ax = target_upsampled.value_counts().plot(kind='bar')\n",
    "plt.xticks(rotation=0)\n",
    "plt.xlabel('Target')\n",
    "plt.ylabel('Count')\n",
    "plt.title('Conjunto de entrenamiento balanceado')\n",
    "\n",
    "for p in ax.containers:\n",
    "    ax.bar_label(p, label_type='edge')\n",
    "plt.show()"
   ]
  },
  {
   "cell_type": "code",
   "execution_count": 32,
   "metadata": {},
   "outputs": [
    {
     "data": {
      "image/png": "[encoded data removed]",
      "text/plain": [
       "<Figure size 1200x600 with 2 Axes>"
      ]
     },
     "metadata": {},
     "output_type": "display_data"
    }
   ],
   "source": [
    "# Comparación \n",
    "\n",
    "# Crear una figura con dos subgráficos\n",
    "# 1 fila, 2 columnas, tamaño de la figura\n",
    "fig, axes = plt.subplots(1, 2, figsize=(12, 6))\n",
    "\n",
    "# Primer gráfico\n",
    "ax1 = axes[0]\n",
    "target.value_counts().plot(kind='bar', ax=ax1)\n",
    "ax1.set_xticks(ax1.get_xticks())  # Mantener las posiciones de los ticks\n",
    "# Sin rotación en etiquetas\n",
    "ax1.set_xticklabels(ax1.get_xticklabels(), rotation=0)\n",
    "ax1.set_xlabel('Target')\n",
    "ax1.set_ylabel('Count')\n",
    "ax1.set_title('Desbalanceo')\n",
    "\n",
    "# Etiquetas en las barras\n",
    "for p in ax1.containers:\n",
    "    ax1.bar_label(p, label_type='edge')\n",
    "\n",
    "# Segundo gráfico\n",
    "ax2 = axes[1]\n",
    "target_upsampled.value_counts().plot(kind='bar', ax=ax2)\n",
    "ax2.set_xticks(ax2.get_xticks())  # Mantener las posiciones de los ticks\n",
    "# Sin rotación en etiquetas\n",
    "ax2.set_xticklabels(ax2.get_xticklabels(), rotation=0)\n",
    "ax2.set_xlabel('Target')\n",
    "ax2.set_ylabel('Count')\n",
    "ax2.set_title('Upsampled')\n",
    "\n",
    "# Etiquetas en las barras\n",
    "for p in ax2.containers:\n",
    "    ax2.bar_label(p, label_type='edge')\n",
    "\n",
    "# Ajustar el espaciado entre subgráficos\n",
    "plt.tight_layout()\n",
    "\n",
    "# Mostrar los subgráficos\n",
    "plt.show()"
   ]
  },
  {
   "cell_type": "markdown",
   "metadata": {},
   "source": [
    "#### Guardar"
   ]
  },
  {
   "cell_type": "code",
   "execution_count": 33,
   "metadata": {},
   "outputs": [
    {
     "name": "stdout",
     "output_type": "stream",
     "text": [
      "DataFrame guardado exitosamente en Data\\.ipynb_checkpoints\\features_upsampled.csv\n",
      "DataFrame guardado exitosamente en Data\\.ipynb_checkpoints\\target_upsampled.csv\n"
     ]
    }
   ],
   "source": [
    "save_dataframe(features_upsampled, 'features_upsampled')\n",
    "save_dataframe(target_upsampled, 'target_upsampled')"
   ]
  },
  {
   "cell_type": "markdown",
   "metadata": {},
   "source": [
    "#### Creación de scripts"
   ]
  },
  {
   "cell_type": "code",
   "execution_count": 34,
   "metadata": {},
   "outputs": [
    {
     "name": "stdout",
     "output_type": "stream",
     "text": [
      "Diccionario generado y guardado exitosamente en: Dict\\dict_features_upsampled.py\n",
      "Diccionario generado y guardado exitosamente en: Dict\\dict_target_upsampled.py\n",
      "Diccionario generado y guardado exitosamente en: Dict\\dict_features_valid.py\n",
      "Diccionario generado y guardado exitosamente en: Dict\\dict_target_valid.py\n"
     ]
    }
   ],
   "source": [
    "create_and_save_dict(features_upsampled, 'features_upsampled')\n",
    "create_and_save_dict(target_upsampled, 'target_upsampled')\n",
    "create_and_save_dict(features_valid, 'features_valid')\n",
    "create_and_save_dict(target_valid, 'target_valid')"
   ]
  },
  {
   "cell_type": "markdown",
   "metadata": {},
   "source": [
    "### Para bosques aleatorios"
   ]
  },
  {
   "cell_type": "code",
   "execution_count": 35,
   "metadata": {},
   "outputs": [
    {
     "name": "stdout",
     "output_type": "stream",
     "text": [
      "(2909, 21)\n",
      "(970, 21)\n",
      "(2909,)\n",
      "(970,)\n"
     ]
    }
   ],
   "source": [
    "print(features_train_ord.shape)\n",
    "print(features_valid_ord.shape)\n",
    "print(target_train_ord.shape)\n",
    "print(target_valid_ord.shape)"
   ]
  },
  {
   "cell_type": "code",
   "execution_count": 36,
   "metadata": {},
   "outputs": [
    {
     "name": "stdout",
     "output_type": "stream",
     "text": [
      "(2665, 21)\n",
      "(244, 21)\n",
      "(2665,)\n",
      "(244,)\n"
     ]
    }
   ],
   "source": [
    "features_zeros_ord = features_train_ord[target_train_ord == 0]\n",
    "features_ones_ord = features_train_ord[target_train_ord == 1]\n",
    "target_zeros_ord = target_train_ord[target_train_ord == 0]\n",
    "target_ones_ord = target_train_ord[target_train_ord == 1]\n",
    "\n",
    "print(features_zeros_ord.shape)\n",
    "print(features_ones_ord.shape)\n",
    "print(target_zeros_ord.shape)\n",
    "print(target_ones_ord.shape)"
   ]
  },
  {
   "cell_type": "code",
   "execution_count": 37,
   "metadata": {},
   "outputs": [],
   "source": [
    "features_upsampled_ord, target_upsampled_ord = upsample(features_train_ord, target_train_ord, 11)"
   ]
  },
  {
   "cell_type": "code",
   "execution_count": 38,
   "metadata": {},
   "outputs": [
    {
     "data": {
      "image/png": "[encoded data removed]",
      "text/plain": [
       "<Figure size 640x480 with 1 Axes>"
      ]
     },
     "metadata": {},
     "output_type": "display_data"
    }
   ],
   "source": [
    "ax = target_upsampled_ord.value_counts().plot(kind='bar')\n",
    "plt.xticks(rotation=0)\n",
    "plt.xlabel('End_Date')\n",
    "plt.ylabel('Count')\n",
    "\n",
    "for p in ax.containers:\n",
    "    ax.bar_label(p, label_type='edge')\n",
    "plt.show()"
   ]
  },
  {
   "cell_type": "markdown",
   "metadata": {},
   "source": [
    "#### Guardar"
   ]
  },
  {
   "cell_type": "code",
   "execution_count": 39,
   "metadata": {},
   "outputs": [
    {
     "name": "stdout",
     "output_type": "stream",
     "text": [
      "DataFrame guardado exitosamente en Data\\.ipynb_checkpoints\\features_upsampled_ord.csv\n",
      "DataFrame guardado exitosamente en Data\\.ipynb_checkpoints\\target_upsampled_ord.csv\n"
     ]
    }
   ],
   "source": [
    "save_dataframe(features_upsampled_ord, 'features_upsampled_ord')\n",
    "save_dataframe(target_upsampled_ord, 'target_upsampled_ord')"
   ]
  },
  {
   "cell_type": "markdown",
   "metadata": {},
   "source": [
    "#### Creación de scripts"
   ]
  },
  {
   "cell_type": "code",
   "execution_count": 40,
   "metadata": {},
   "outputs": [
    {
     "name": "stdout",
     "output_type": "stream",
     "text": [
      "Diccionario generado y guardado exitosamente en: Dict\\dict_features_upsampled_ord.py\n",
      "Diccionario generado y guardado exitosamente en: Dict\\dict_target_upsampled_ord.py\n",
      "Diccionario generado y guardado exitosamente en: Dict\\dict_features_valid_ord.py\n",
      "Diccionario generado y guardado exitosamente en: Dict\\dict_target_valid_ord.py\n"
     ]
    }
   ],
   "source": [
    "create_and_save_dict(features_upsampled_ord, 'features_upsampled_ord')\n",
    "create_and_save_dict(target_upsampled_ord, 'target_upsampled_ord')\n",
    "create_and_save_dict(features_valid_ord, 'features_valid_ord')\n",
    "create_and_save_dict(target_valid_ord, 'target_valid_ord')"
   ]
  },
  {
   "cell_type": "code",
   "execution_count": 41,
   "metadata": {},
   "outputs": [
    {
     "name": "stdout",
     "output_type": "stream",
     "text": [
      "<class 'pandas.core.frame.DataFrame'>\n",
      "Index: 5349 entries, 1341 to 2187\n",
      "Data columns (total 25 columns):\n",
      " #   Column                           Non-Null Count  Dtype  \n",
      "---  ------                           --------------  -----  \n",
      " 0   Monthly_Charges                  5349 non-null   float64\n",
      " 1   Total_Charges                    5349 non-null   float64\n",
      " 2   Senior_Citizen                   5349 non-null   float64\n",
      " 3   Year                             5349 non-null   float64\n",
      " 4   Month                            5349 non-null   float64\n",
      " 5   Day                              5349 non-null   float64\n",
      " 6   dow                              5349 non-null   float64\n",
      " 7   Type_one year                    5349 non-null   bool   \n",
      " 8   Type_two year                    5349 non-null   bool   \n",
      " 9   Paperless_Billing_yes            5349 non-null   bool   \n",
      " 10  Payment_Method_credit card       5349 non-null   bool   \n",
      " 11  Payment_Method_electronic check  5349 non-null   bool   \n",
      " 12  Payment_Method_mailed check      5349 non-null   bool   \n",
      " 13  Gender_male                      5349 non-null   bool   \n",
      " 14  Partner_yes                      5349 non-null   bool   \n",
      " 15  Dependents_yes                   5349 non-null   bool   \n",
      " 16  Multiple_Lines_yes               5349 non-null   bool   \n",
      " 17  Internet_Service_fiber optic     5349 non-null   bool   \n",
      " 18  Internet_Service_no              5349 non-null   bool   \n",
      " 19  Online_Security_yes              5349 non-null   bool   \n",
      " 20  Online_Backup_yes                5349 non-null   bool   \n",
      " 21  Device_Protection_yes            5349 non-null   bool   \n",
      " 22  Tech_Support_yes                 5349 non-null   bool   \n",
      " 23  Streaming_TV_yes                 5349 non-null   bool   \n",
      " 24  Streaming_Movies_yes             5349 non-null   bool   \n",
      "dtypes: bool(18), float64(7)\n",
      "memory usage: 428.3 KB\n"
     ]
    }
   ],
   "source": [
    "features_upsampled.info()"
   ]
  },
  {
   "cell_type": "code",
   "execution_count": 42,
   "metadata": {},
   "outputs": [
    {
     "name": "stdout",
     "output_type": "stream",
     "text": [
      "<class 'pandas.core.frame.DataFrame'>\n",
      "Index: 970 entries, 2214 to 2670\n",
      "Data columns (total 25 columns):\n",
      " #   Column                           Non-Null Count  Dtype  \n",
      "---  ------                           --------------  -----  \n",
      " 0   Monthly_Charges                  970 non-null    float64\n",
      " 1   Total_Charges                    970 non-null    float64\n",
      " 2   Senior_Citizen                   970 non-null    float64\n",
      " 3   Year                             970 non-null    float64\n",
      " 4   Month                            970 non-null    float64\n",
      " 5   Day                              970 non-null    float64\n",
      " 6   dow                              970 non-null    float64\n",
      " 7   Type_one year                    970 non-null    bool   \n",
      " 8   Type_two year                    970 non-null    bool   \n",
      " 9   Paperless_Billing_yes            970 non-null    bool   \n",
      " 10  Payment_Method_credit card       970 non-null    bool   \n",
      " 11  Payment_Method_electronic check  970 non-null    bool   \n",
      " 12  Payment_Method_mailed check      970 non-null    bool   \n",
      " 13  Gender_male                      970 non-null    bool   \n",
      " 14  Partner_yes                      970 non-null    bool   \n",
      " 15  Dependents_yes                   970 non-null    bool   \n",
      " 16  Multiple_Lines_yes               970 non-null    bool   \n",
      " 17  Internet_Service_fiber optic     970 non-null    bool   \n",
      " 18  Internet_Service_no              970 non-null    bool   \n",
      " 19  Online_Security_yes              970 non-null    bool   \n",
      " 20  Online_Backup_yes                970 non-null    bool   \n",
      " 21  Device_Protection_yes            970 non-null    bool   \n",
      " 22  Tech_Support_yes                 970 non-null    bool   \n",
      " 23  Streaming_TV_yes                 970 non-null    bool   \n",
      " 24  Streaming_Movies_yes             970 non-null    bool   \n",
      "dtypes: bool(18), float64(7)\n",
      "memory usage: 77.7 KB\n"
     ]
    }
   ],
   "source": [
    "features_valid.info()"
   ]
  },
  {
   "cell_type": "code",
   "execution_count": null,
   "metadata": {},
   "outputs": [],
   "source": []
  }
 ],
 "metadata": {
  "kernelspec": {
   "display_name": "EnsamblesCatBoost",
   "language": "python",
   "name": "python3"
  },
  "language_info": {
   "codemirror_mode": {
    "name": "ipython",
    "version": 3
   },
   "file_extension": ".py",
   "mimetype": "text/x-python",
   "name": "python",
   "nbconvert_exporter": "python",
   "pygments_lexer": "ipython3",
   "version": "3.11.9"
  }
 },
 "nbformat": 4,
 "nbformat_minor": 2
}
